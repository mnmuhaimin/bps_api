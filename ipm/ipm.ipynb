{
 "cells": [
  {
   "cell_type": "code",
   "execution_count": 1,
   "metadata": {},
   "outputs": [],
   "source": [
    "import pandas as pd\n",
    "import numpy as np\n",
    "import requests\n",
    "import warnings\n",
    "import matplotlib.pyplot as plt\n",
    "import seaborn as sns\n",
    "from matplotlib import rc\n",
    "\n",
    "warnings.filterwarnings('ignore')\n",
    "api_key = '4eda5e3af511b6d4892332948b84476c'"
   ]
  },
  {
   "attachments": {},
   "cell_type": "markdown",
   "metadata": {},
   "source": [
    "## 3"
   ]
  },
  {
   "cell_type": "code",
   "execution_count": 28,
   "metadata": {},
   "outputs": [],
   "source": [
    "url = 'https://webapi.bps.go.id/v1/api/list/model/data/domain/0000/var/{0}/key/{1}/'.format(3, api_key)\n",
    "data_3 = requests.get(url).json()\n",
    "vervar_df = pd.DataFrame(data_3['vervar'])\n",
    "turvar_df = pd.DataFrame(data_3['turvar'])\n",
    "tahun_df = pd.DataFrame(data_3['tahun'])\n",
    "content_df = pd.DataFrame(data={'id': data_3['datacontent'].keys(), 'values': data_3['datacontent'].values()})\n",
    "\n",
    "content_df_1 = content_df.merge(vervar_df, how='left', left_on = content_df['id'].str[0:4].astype('int64'), right_on = 'val')\n",
    "content_df_2 = content_df_1.merge(tahun_df, how='left', left_on = content_df_1['id'].str[-4:-1].astype('int64'), right_on = 'val') \n",
    "content_df_3 = content_df_2.merge(turvar_df, how='left', left_on = content_df_2['id'].str[-1].astype('int64'), right_on = 'val') \n",
    "\n",
    "data_3_df = content_df_3[['id', 'values', 'label_x', 'label_y', 'label']]\n",
    "data_3_df.columns = ['id', 'values', 'dimensi', 'tahun', 'label']"
   ]
  },
  {
   "cell_type": "code",
   "execution_count": 30,
   "metadata": {},
   "outputs": [],
   "source": [
    "data_3_df['data_title'] =  data_3['var'][0]['label']\n",
    "\n",
    "data_3_df.to_csv('ipm_3.csv', index=False)"
   ]
  },
  {
   "attachments": {},
   "cell_type": "markdown",
   "metadata": {},
   "source": [
    "## 4"
   ]
  },
  {
   "cell_type": "code",
   "execution_count": 35,
   "metadata": {},
   "outputs": [],
   "source": [
    "url = 'https://webapi.bps.go.id/v1/api/list/model/data/domain/0000/var/{0}/key/{1}/'.format(4, api_key)\n",
    "data_4 = requests.get(url).json()\n",
    "vervar_df = pd.DataFrame(data_4['vervar'])\n",
    "turvar_df = pd.DataFrame(data_4['turvar'])\n",
    "tahun_df = pd.DataFrame(data_4['tahun'])\n",
    "content_df = pd.DataFrame(data={'id': data_4['datacontent'].keys(), 'values': data_4['datacontent'].values()})\n",
    "\n",
    "content_df_1 = content_df.merge(vervar_df, how='left', left_on = content_df['id'].str[0:4].astype('int64'), right_on = 'val')\n",
    "content_df_2 = content_df_1.merge(tahun_df, how='left', left_on = content_df_1['id'].str[-4:-1].astype('int64'), right_on = 'val') \n",
    "content_df_3 = content_df_2.merge(turvar_df, how='left', left_on = content_df_2['id'].str[-1].astype('int64'), right_on = 'val') \n",
    "\n",
    "data_4_df = content_df_3[['id', 'values', 'label_x', 'label_y', 'label']]\n",
    "data_4_df.columns = ['id', 'values', 'dimensi', 'tahun', 'label']"
   ]
  },
  {
   "cell_type": "code",
   "execution_count": 37,
   "metadata": {},
   "outputs": [],
   "source": [
    "data_4_df['data_title'] =  data_4['var'][0]['label']\n",
    "\n",
    "data_4_df.to_csv('ipm_4.csv', index=False)"
   ]
  },
  {
   "attachments": {},
   "cell_type": "markdown",
   "metadata": {},
   "source": [
    "## 5"
   ]
  },
  {
   "cell_type": "code",
   "execution_count": 38,
   "metadata": {},
   "outputs": [],
   "source": [
    "url = 'https://webapi.bps.go.id/v1/api/list/model/data/domain/0000/var/{0}/key/{1}/'.format(5, api_key)\n",
    "data_5 = requests.get(url).json()\n",
    "vervar_df = pd.DataFrame(data_5['vervar'])\n",
    "turvar_df = pd.DataFrame(data_5['turvar'])\n",
    "tahun_df = pd.DataFrame(data_5['tahun'])\n",
    "content_df = pd.DataFrame(data={'id': data_5['datacontent'].keys(), 'values': data_5['datacontent'].values()})\n",
    "\n",
    "content_df_1 = content_df.merge(vervar_df, how='left', left_on = content_df['id'].str[0:4].astype('int64'), right_on = 'val')\n",
    "content_df_2 = content_df_1.merge(tahun_df, how='left', left_on = content_df_1['id'].str[-4:-1].astype('int64'), right_on = 'val') \n",
    "content_df_3 = content_df_2.merge(turvar_df, how='left', left_on = content_df_2['id'].str[-1].astype('int64'), right_on = 'val') \n",
    "\n",
    "data_5_df = content_df_3[['id', 'values', 'label_x', 'label_y', 'label']]\n",
    "data_5_df.columns = ['id', 'values', 'dimensi', 'tahun', 'label']"
   ]
  },
  {
   "cell_type": "code",
   "execution_count": 40,
   "metadata": {},
   "outputs": [],
   "source": [
    "data_5_df['data_title'] =  data_5['var'][0]['label']\n",
    "\n",
    "data_5_df.to_csv('ipm_5.csv', index=False)"
   ]
  },
  {
   "attachments": {},
   "cell_type": "markdown",
   "metadata": {},
   "source": [
    "## 6"
   ]
  },
  {
   "cell_type": "code",
   "execution_count": 48,
   "metadata": {},
   "outputs": [],
   "source": [
    "url = 'https://webapi.bps.go.id/v1/api/list/model/data/domain/0000/var/{0}/key/{1}/'.format(6, api_key)\n",
    "data_6 = requests.get(url).json()\n",
    "vervar_df = pd.DataFrame(data_6['vervar'])\n",
    "turvar_df = pd.DataFrame(data_6['turvar'])\n",
    "tahun_df = pd.DataFrame(data_6['tahun'])\n",
    "content_df = pd.DataFrame(data={'id': data_6['datacontent'].keys(), 'values': data_6['datacontent'].values()})\n",
    "\n",
    "content_df_1 = content_df.merge(vervar_df, how='left', left_on = content_df['id'].str[0:4].astype('int64'), right_on = 'val')\n",
    "content_df_2 = content_df_1.merge(tahun_df, how='left', left_on = content_df_1['id'].str[-4:-1].astype('int64'), right_on = 'val') \n",
    "content_df_3 = content_df_2.merge(turvar_df, how='left', left_on = content_df_2['id'].str[-1].astype('int64'), right_on = 'val') \n",
    "\n",
    "data_6_df = content_df_3[['id', 'values', 'label_x', 'label_y', 'label']]\n",
    "data_6_df.columns = ['id', 'values', 'dimensi', 'tahun', 'label']"
   ]
  },
  {
   "cell_type": "code",
   "execution_count": 49,
   "metadata": {},
   "outputs": [],
   "source": [
    "data_6_df['data_title'] =  data_6['var'][0]['label']\n",
    "\n",
    "data_6_df.to_csv('ipm_6.csv', index=False)"
   ]
  },
  {
   "attachments": {},
   "cell_type": "markdown",
   "metadata": {},
   "source": [
    "## 7"
   ]
  },
  {
   "cell_type": "code",
   "execution_count": 50,
   "metadata": {},
   "outputs": [],
   "source": [
    "url = 'https://webapi.bps.go.id/v1/api/list/model/data/domain/0000/var/{0}/key/{1}/'.format(6, api_key)\n",
    "data_7 = requests.get(url).json()\n",
    "vervar_df = pd.DataFrame(data_7['vervar'])\n",
    "turvar_df = pd.DataFrame(data_7['turvar'])\n",
    "tahun_df = pd.DataFrame(data_7['tahun'])\n",
    "content_df = pd.DataFrame(data={'id': data_7['datacontent'].keys(), 'values': data_7['datacontent'].values()})\n",
    "\n",
    "content_df_1 = content_df.merge(vervar_df, how='left', left_on = content_df['id'].str[0:4].astype('int64'), right_on = 'val')\n",
    "content_df_2 = content_df_1.merge(tahun_df, how='left', left_on = content_df_1['id'].str[-4:-1].astype('int64'), right_on = 'val') \n",
    "content_df_3 = content_df_2.merge(turvar_df, how='left', left_on = content_df_2['id'].str[-1].astype('int64'), right_on = 'val') \n",
    "\n",
    "data_7_df = content_df_3[['id', 'values', 'label_x', 'label_y', 'label']]\n",
    "data_7_df.columns = ['id', 'values', 'dimensi', 'tahun', 'label']\n",
    "\n",
    "data_7_df['data_title'] =  data_7['var'][0]['label']\n",
    "\n",
    "data_7_df.to_csv('ipm_7.csv', index=False)"
   ]
  },
  {
   "cell_type": "markdown",
   "metadata": {},
   "source": [
    "## 202"
   ]
  },
  {
   "cell_type": "code",
   "execution_count": 51,
   "metadata": {},
   "outputs": [],
   "source": [
    "url = 'https://webapi.bps.go.id/v1/api/list/model/data/domain/0000/var/{0}/key/{1}/'.format(202, api_key)\n",
    "data_202 = requests.get(url).json()\n",
    "vervar_df = pd.DataFrame(data_202['vervar'])\n",
    "turvar_df = pd.DataFrame(data_202['turvar'])\n",
    "tahun_df = pd.DataFrame(data_202['tahun'])\n",
    "content_df = pd.DataFrame(data={'id': data_202['datacontent'].keys(), 'values': data_202['datacontent'].values()})\n",
    "\n",
    "content_df_1 = content_df.merge(vervar_df, how='left', left_on = content_df['id'].str[0:4].astype('int64'), right_on = 'val')\n",
    "content_df_2 = content_df_1.merge(tahun_df, how='left', left_on = content_df_1['id'].str[-4:-1].astype('int64'), right_on = 'val') \n",
    "content_df_3 = content_df_2.merge(turvar_df, how='left', left_on = content_df_2['id'].str[-1].astype('int64'), right_on = 'val') \n",
    "\n",
    "data_202_df = content_df_3[['id', 'values', 'label_x', 'label_y', 'label']]\n",
    "data_202_df.columns = ['id', 'values', 'dimensi', 'tahun', 'label']\n",
    "\n",
    "data_202_df['data_title'] =  data_202['var'][0]['label']\n",
    "\n",
    "data_202_df.to_csv('ipm_202.csv', index=False)"
   ]
  },
  {
   "attachments": {},
   "cell_type": "markdown",
   "metadata": {},
   "source": [
    "## 293"
   ]
  },
  {
   "cell_type": "code",
   "execution_count": 70,
   "metadata": {},
   "outputs": [],
   "source": [
    "url = 'https://webapi.bps.go.id/v1/api/list/model/data/domain/0000/var/{0}/key/{1}/'.format(293, api_key)\n",
    "data_293 = requests.get(url).json()\n",
    "vervar_df = pd.DataFrame(data_293['vervar'])\n",
    "turvar_df = pd.DataFrame(data_293['turvar'])\n",
    "tahun_df = pd.DataFrame(data_293['tahun'])\n",
    "content_df = pd.DataFrame(data={'id': data_293['datacontent'].keys(), 'values': data_293['datacontent'].values()})\n",
    "\n",
    "content_df['id_len'] = None\n",
    "content_df.loc[content_df['id'].str.len() == 11, 'id_len'] = content_df['id'].str[0]\n",
    "content_df.loc[content_df['id'].str.len() == 12, 'id_len'] = content_df['id'].str[0:2]\n",
    "\n",
    "content_df_1 = content_df.merge(vervar_df, how='left', left_on = content_df['id_len'].astype('int64'),  right_on = 'val')\n",
    "content_df_2 = content_df_1.merge(tahun_df, how='left', left_on = content_df_1['id'].str[-4:-1].astype('int64'), right_on = 'val') \n",
    "content_df_3 = content_df_2.merge(turvar_df, how='left', left_on = content_df_2['id'].str[-7:-4].astype('int64'), right_on = 'val') \n",
    "\n",
    "data_293_df = content_df_3[['id', 'values', 'label_x', 'label_y', 'label']]\n",
    "data_293_df.columns = ['id', 'values', 'dimensi', 'tahun', 'label']\n",
    "\n",
    "data_293_df['data_title'] =  data_293['var'][0]['label']\n",
    "\n",
    "data_293_df.to_csv('ipm_293.csv', index=False)"
   ]
  },
  {
   "attachments": {},
   "cell_type": "markdown",
   "metadata": {},
   "source": [
    "## 413"
   ]
  },
  {
   "cell_type": "code",
   "execution_count": 109,
   "metadata": {},
   "outputs": [],
   "source": [
    "url = 'https://webapi.bps.go.id/v1/api/list/model/data/domain/0000/var/{0}/key/{1}/'.format(413, api_key)\n",
    "data_413 = requests.get(url).json()\n",
    "vervar_df = pd.DataFrame(data_413['vervar'])\n",
    "turvar_df = pd.DataFrame(data_413['turvar'])\n",
    "tahun_df = pd.DataFrame(data_413['tahun'])\n",
    "content_df = pd.DataFrame(data={'id': data_413['datacontent'].keys(), 'values': data_413['datacontent'].values()})\n",
    "\n",
    "content_df_1 = content_df.merge(vervar_df, how='left', left_on = content_df['id'].str[0:4].astype('int64'),  right_on = 'val')\n",
    "content_df_2 = content_df_1.merge(tahun_df, how='left', left_on = content_df_1['id'].str[-4:-1].astype('int64'), right_on = 'val') \n",
    "content_df_3 = content_df_2.merge(turvar_df, how='left', left_on = content_df_2['id'].str[-7:-4].astype('int64'), right_on = 'val') \n",
    "\n",
    "data_413_df = content_df_3[['id', 'values', 'label_x', 'label_y', 'label']]\n",
    "data_413_df.columns = ['id', 'values', 'dimensi', 'tahun', 'label']"
   ]
  },
  {
   "cell_type": "code",
   "execution_count": 110,
   "metadata": {},
   "outputs": [],
   "source": [
    "from bs4 import BeautifulSoup\n",
    "\n",
    "# Define a function to clean the HTML\n",
    "def clean_string(string_with_tags):\n",
    "    soup = BeautifulSoup(string_with_tags, 'html.parser')\n",
    "    clean_string = soup.get_text()\n",
    "\n",
    "    second_clean = BeautifulSoup(clean_string, 'html.parser').get_text()\n",
    "    return second_clean\n",
    "\n",
    "# Apply the function to the 'html' column\n",
    "data_413_df['dimensi'] = data_413_df['dimensi'].apply(clean_string)"
   ]
  },
  {
   "cell_type": "code",
   "execution_count": 111,
   "metadata": {},
   "outputs": [],
   "source": [
    "data_413_df['data_title'] =  data_413['var'][0]['label']\n",
    "\n",
    "data_413_df.to_csv('ipm_413.csv', index=False)"
   ]
  },
  {
   "attachments": {},
   "cell_type": "markdown",
   "metadata": {},
   "source": [
    "## 414"
   ]
  },
  {
   "cell_type": "code",
   "execution_count": 113,
   "metadata": {},
   "outputs": [],
   "source": [
    "url = 'https://webapi.bps.go.id/v1/api/list/model/data/domain/0000/var/{0}/key/{1}/'.format(414, api_key)\n",
    "data_414 = requests.get(url).json()\n",
    "vervar_df = pd.DataFrame(data_414['vervar'])\n",
    "turvar_df = pd.DataFrame(data_414['turvar'])\n",
    "tahun_df = pd.DataFrame(data_414['tahun'])\n",
    "content_df = pd.DataFrame(data={'id': data_414['datacontent'].keys(), 'values': data_414['datacontent'].values()})\n",
    "\n",
    "content_df_1 = content_df.merge(vervar_df, how='left', left_on = content_df['id'].str[0:4].astype('int64'),  right_on = 'val')\n",
    "content_df_2 = content_df_1.merge(tahun_df, how='left', left_on = content_df_1['id'].str[-4:-1].astype('int64'), right_on = 'val') \n",
    "content_df_3 = content_df_2.merge(turvar_df, how='left', left_on = content_df_2['id'].str[-7:-4].astype('int64'), right_on = 'val') \n",
    "\n",
    "data_414_df = content_df_3[['id', 'values', 'label_x', 'label_y', 'label']]\n",
    "data_414_df.columns = ['id', 'values', 'dimensi', 'tahun', 'label']"
   ]
  },
  {
   "cell_type": "code",
   "execution_count": 116,
   "metadata": {},
   "outputs": [],
   "source": [
    "data_414_df['dimensi'] = data_414_df['dimensi'].apply(clean_string)\n",
    "\n",
    "data_414_df['data_title'] =  data_414['var'][0]['label']\n",
    "\n",
    "data_414_df.to_csv('ipm_414.csv', index=False)"
   ]
  },
  {
   "attachments": {},
   "cell_type": "markdown",
   "metadata": {},
   "source": [
    "## 415"
   ]
  },
  {
   "cell_type": "code",
   "execution_count": 120,
   "metadata": {},
   "outputs": [],
   "source": [
    "url = 'https://webapi.bps.go.id/v1/api/list/model/data/domain/0000/var/{0}/key/{1}/'.format(415, api_key)\n",
    "data_415 = requests.get(url).json()\n",
    "vervar_df = pd.DataFrame(data_415['vervar'])\n",
    "turvar_df = pd.DataFrame(data_415['turvar'])\n",
    "tahun_df = pd.DataFrame(data_415['tahun'])\n",
    "content_df = pd.DataFrame(data={'id': data_415['datacontent'].keys(), 'values': data_415['datacontent'].values()})\n",
    "\n",
    "content_df_1 = content_df.merge(vervar_df, how='left', left_on = content_df['id'].str[0:4].astype('int64'),  right_on = 'val')\n",
    "content_df_2 = content_df_1.merge(tahun_df, how='left', left_on = content_df_1['id'].str[-4:-1].astype('int64'), right_on = 'val') \n",
    "content_df_3 = content_df_2.merge(turvar_df, how='left', left_on = content_df_2['id'].str[-7:-4].astype('int64'), right_on = 'val') \n",
    "\n",
    "data_415_df = content_df_3[['id', 'values', 'label_x', 'label_y', 'label']]\n",
    "data_415_df.columns = ['id', 'values', 'dimensi', 'tahun', 'label']"
   ]
  },
  {
   "cell_type": "code",
   "execution_count": 122,
   "metadata": {},
   "outputs": [],
   "source": [
    "data_415_df['dimensi'] = data_415_df['dimensi'].apply(clean_string)\n",
    "\n",
    "data_415_df['data_title'] =  data_415['var'][0]['label']\n",
    "\n",
    "data_415_df.to_csv('ipm_415.csv', index=False)"
   ]
  },
  {
   "attachments": {},
   "cell_type": "markdown",
   "metadata": {},
   "source": [
    "## 416"
   ]
  },
  {
   "cell_type": "code",
   "execution_count": 126,
   "metadata": {},
   "outputs": [],
   "source": [
    "url = 'https://webapi.bps.go.id/v1/api/list/model/data/domain/0000/var/{0}/key/{1}/'.format(416, api_key)\n",
    "data_416 = requests.get(url).json()\n",
    "vervar_df = pd.DataFrame(data_416['vervar'])\n",
    "turvar_df = pd.DataFrame(data_416['turvar'])\n",
    "tahun_df = pd.DataFrame(data_416['tahun'])\n",
    "content_df = pd.DataFrame(data={'id': data_416['datacontent'].keys(), 'values': data_416['datacontent'].values()})\n",
    "\n",
    "content_df_1 = content_df.merge(vervar_df, how='left', left_on = content_df['id'].str[0:4].astype('int64'),  right_on = 'val')\n",
    "content_df_2 = content_df_1.merge(tahun_df, how='left', left_on = content_df_1['id'].str[-4:-1].astype('int64'), right_on = 'val') \n",
    "content_df_3 = content_df_2.merge(turvar_df, how='left', left_on = content_df_2['id'].str[-7:-4].astype('int64'), right_on = 'val') \n",
    "\n",
    "data_416_df = content_df_3[['id', 'values', 'label_x', 'label_y', 'label']]\n",
    "data_416_df.columns = ['id', 'values', 'dimensi', 'tahun', 'label']"
   ]
  },
  {
   "cell_type": "code",
   "execution_count": 128,
   "metadata": {},
   "outputs": [],
   "source": [
    "data_416_df['dimensi'] = data_416_df['dimensi'].apply(clean_string)\n",
    "\n",
    "data_416_df['data_title'] =  data_416['var'][0]['label']\n",
    "\n",
    "data_416_df.to_csv('ipm_416.csv', index=False)"
   ]
  },
  {
   "attachments": {},
   "cell_type": "markdown",
   "metadata": {},
   "source": [
    "## 417"
   ]
  },
  {
   "cell_type": "code",
   "execution_count": 129,
   "metadata": {},
   "outputs": [],
   "source": [
    "url = 'https://webapi.bps.go.id/v1/api/list/model/data/domain/0000/var/{0}/key/{1}/'.format(417, api_key)\n",
    "data_417 = requests.get(url).json()\n",
    "vervar_df = pd.DataFrame(data_417['vervar'])\n",
    "turvar_df = pd.DataFrame(data_417['turvar'])\n",
    "tahun_df = pd.DataFrame(data_417['tahun'])\n",
    "content_df = pd.DataFrame(data={'id': data_417['datacontent'].keys(), 'values': data_417['datacontent'].values()})\n",
    "\n",
    "content_df_1 = content_df.merge(vervar_df, how='left', left_on = content_df['id'].str[0:4].astype('int64'),  right_on = 'val')\n",
    "content_df_2 = content_df_1.merge(tahun_df, how='left', left_on = content_df_1['id'].str[-4:-1].astype('int64'), right_on = 'val') \n",
    "content_df_3 = content_df_2.merge(turvar_df, how='left', left_on = content_df_2['id'].str[-7:-4].astype('int64'), right_on = 'val') \n",
    "\n",
    "data_417_df = content_df_3[['id', 'values', 'label_x', 'label_y', 'label']]\n",
    "data_417_df.columns = ['id', 'values', 'dimensi', 'tahun', 'label']"
   ]
  },
  {
   "cell_type": "code",
   "execution_count": 131,
   "metadata": {},
   "outputs": [],
   "source": [
    "data_417_df['dimensi'] = data_417_df['dimensi'].apply(clean_string)\n",
    "\n",
    "data_417_df['data_title'] =  data_417['var'][0]['label']\n",
    "\n",
    "data_417_df.to_csv('ipm_417.csv', index=False)"
   ]
  },
  {
   "attachments": {},
   "cell_type": "markdown",
   "metadata": {},
   "source": [
    "## 418"
   ]
  },
  {
   "cell_type": "code",
   "execution_count": 132,
   "metadata": {},
   "outputs": [],
   "source": [
    "url = 'https://webapi.bps.go.id/v1/api/list/model/data/domain/0000/var/{0}/key/{1}/'.format(418, api_key)\n",
    "data_418 = requests.get(url).json()\n",
    "vervar_df = pd.DataFrame(data_418['vervar'])\n",
    "turvar_df = pd.DataFrame(data_418['turvar'])\n",
    "tahun_df = pd.DataFrame(data_418['tahun'])\n",
    "content_df = pd.DataFrame(data={'id': data_418['datacontent'].keys(), 'values': data_418['datacontent'].values()})\n",
    "\n",
    "content_df_1 = content_df.merge(vervar_df, how='left', left_on = content_df['id'].str[0:4].astype('int64'),  right_on = 'val')\n",
    "content_df_2 = content_df_1.merge(tahun_df, how='left', left_on = content_df_1['id'].str[-4:-1].astype('int64'), right_on = 'val') \n",
    "content_df_3 = content_df_2.merge(turvar_df, how='left', left_on = content_df_2['id'].str[-7:-4].astype('int64'), right_on = 'val') \n",
    "\n",
    "data_418_df = content_df_3[['id', 'values', 'label_x', 'label_y', 'label']]\n",
    "data_418_df.columns = ['id', 'values', 'dimensi', 'tahun', 'label']"
   ]
  },
  {
   "cell_type": "code",
   "execution_count": 134,
   "metadata": {},
   "outputs": [],
   "source": [
    "data_418_df['dimensi'] = data_418_df['dimensi'].apply(clean_string)\n",
    "\n",
    "data_418_df['data_title'] =  data_418['var'][0]['label']\n",
    "\n",
    "data_418_df.to_csv('ipm_418.csv', index=False)"
   ]
  },
  {
   "attachments": {},
   "cell_type": "markdown",
   "metadata": {},
   "source": [
    "## 494"
   ]
  },
  {
   "cell_type": "code",
   "execution_count": 139,
   "metadata": {},
   "outputs": [],
   "source": [
    "url = 'https://webapi.bps.go.id/v1/api/list/model/data/domain/0000/var/{0}/key/{1}/'.format(494, api_key)\n",
    "data_494 = requests.get(url).json()\n",
    "vervar_df = pd.DataFrame(data_494['vervar'])\n",
    "turvar_df = pd.DataFrame(data_494['turvar'])\n",
    "tahun_df = pd.DataFrame(data_494['tahun'])\n",
    "content_df = pd.DataFrame(data={'id': data_494['datacontent'].keys(), 'values': data_494['datacontent'].values()})\n",
    "\n",
    "content_df_1 = content_df.merge(vervar_df, how='left', left_on = content_df['id'].str[0:4].astype('int64'),  right_on = 'val')\n",
    "content_df_2 = content_df_1.merge(tahun_df, how='left', left_on = content_df_1['id'].str[-4:-1].astype('int64'), right_on = 'val') \n",
    "content_df_3 = content_df_2.merge(turvar_df, how='left', left_on = content_df_2['id'].str[-7:-4].astype('int64'), right_on = 'val') \n",
    "\n",
    "data_494_df = content_df_3[['id', 'values', 'label_x', 'label_y', 'label']]\n",
    "data_494_df.columns = ['id', 'values', 'dimensi', 'tahun', 'label']\n",
    "\n",
    "data_494_df['data_title'] =  data_494['var'][0]['label']\n",
    "\n",
    "data_494_df.to_csv('ipm_494.csv', index=False)"
   ]
  },
  {
   "attachments": {},
   "cell_type": "markdown",
   "metadata": {},
   "source": [
    "## 1505"
   ]
  },
  {
   "cell_type": "code",
   "execution_count": 140,
   "metadata": {},
   "outputs": [],
   "source": [
    "url = 'https://webapi.bps.go.id/v1/api/list/model/data/domain/0000/var/{0}/key/{1}/'.format(1505, api_key)\n",
    "data_1505 = requests.get(url).json()\n",
    "vervar_df = pd.DataFrame(data_1505['vervar'])\n",
    "turvar_df = pd.DataFrame(data_1505['turvar'])\n",
    "tahun_df = pd.DataFrame(data_1505['tahun'])\n",
    "content_df = pd.DataFrame(data={'id': data_1505['datacontent'].keys(), 'values': data_1505['datacontent'].values()})\n",
    "\n",
    "content_df_1 = content_df.merge(vervar_df, how='left', left_on = content_df['id'].str[0:4].astype('int64'),  right_on = 'val')\n",
    "content_df_2 = content_df_1.merge(tahun_df, how='left', left_on = content_df_1['id'].str[-4:-1].astype('int64'), right_on = 'val') \n",
    "content_df_3 = content_df_2.merge(turvar_df, how='left', left_on = content_df_2['id'].str[-7:-4].astype('int64'), right_on = 'val') \n",
    "\n",
    "data_1505_df = content_df_3[['id', 'values', 'label_x', 'label_y', 'label']]\n",
    "data_1505_df.columns = ['id', 'values', 'dimensi', 'tahun', 'label']\n",
    "\n",
    "data_1505_df['data_title'] =  data_1505['var'][0]['label']\n",
    "\n",
    "data_1505_df.to_csv('ipm_1505.csv', index=False)"
   ]
  }
 ],
 "metadata": {
  "kernelspec": {
   "display_name": "Python 3",
   "language": "python",
   "name": "python3"
  },
  "language_info": {
   "codemirror_mode": {
    "name": "ipython",
    "version": 3
   },
   "file_extension": ".py",
   "mimetype": "text/x-python",
   "name": "python",
   "nbconvert_exporter": "python",
   "pygments_lexer": "ipython3",
   "version": "3.10.6"
  },
  "orig_nbformat": 4
 },
 "nbformat": 4,
 "nbformat_minor": 2
}
