{
 "cells": [
  {
   "cell_type": "code",
   "execution_count": 77,
   "metadata": {},
   "outputs": [],
   "source": [
    "import requests\n",
    "import pandas as pd\n",
    "import numpy as np"
   ]
  },
  {
   "cell_type": "code",
   "execution_count": 3,
   "metadata": {},
   "outputs": [],
   "source": [
    "api_key = '4eda5e3af511b6d4892332948b84476c'"
   ]
  },
  {
   "cell_type": "markdown",
   "metadata": {},
   "source": [
    "# Retrieve domain list"
   ]
  },
  {
   "cell_type": "code",
   "execution_count": 4,
   "metadata": {},
   "outputs": [],
   "source": [
    "domain_list = []\n",
    "url = 'https://webapi.bps.go.id/v1/api/domain/type/all/key/{}/'.format(api_key)\n",
    "req_domain = requests.get(url).json()\n",
    "\n",
    "for i in req_domain['data'][1]:\n",
    "    domain_list.append(i)"
   ]
  },
  {
   "cell_type": "code",
   "execution_count": 5,
   "metadata": {},
   "outputs": [],
   "source": [
    "domain_df = pd.DataFrame(domain_list)"
   ]
  },
  {
   "cell_type": "code",
   "execution_count": 6,
   "metadata": {},
   "outputs": [
    {
     "data": {
      "text/plain": [
       "array(['0000', '1100', '1101', '1102', '1103', '1104', '1105', '1106',\n",
       "       '1107', '1108', '1109', '1110', '1111', '1112', '1113', '1114',\n",
       "       '1115', '1116', '1117', '1118', '1171', '1172', '1173', '1174',\n",
       "       '1175', '1200', '1201', '1202', '1203', '1204', '1205', '1206',\n",
       "       '1207', '1208', '1209', '1210', '1211', '1212', '1213', '1214',\n",
       "       '1215', '1216', '1217', '1218', '1219', '1220', '1221', '1222',\n",
       "       '1223', '1224', '1225', '1271', '1272', '1273', '1274', '1275',\n",
       "       '1276', '1277', '1278', '1300', '1301', '1302', '1303', '1304',\n",
       "       '1305', '1306', '1307', '1308', '1309', '1310', '1311', '1312',\n",
       "       '1371', '1372', '1373', '1374', '1375', '1376', '1377', '1400',\n",
       "       '1401', '1402', '1403', '1404', '1405', '1406', '1407', '1408',\n",
       "       '1409', '1410', '1471', '1473', '1500', '1501', '1502', '1503',\n",
       "       '1504', '1505', '1506', '1507', '1508', '1509', '1571', '1572',\n",
       "       '1600', '1601', '1602', '1603', '1604', '1605', '1606', '1607',\n",
       "       '1608', '1609', '1610', '1611', '1612', '1613', '1671', '1672',\n",
       "       '1673', '1674', '1700', '1701', '1702', '1703', '1704', '1705',\n",
       "       '1706', '1707', '1708', '1709', '1771', '1800', '1801', '1802',\n",
       "       '1803', '1804', '1805', '1806', '1807', '1808', '1809', '1810',\n",
       "       '1811', '1812', '1813', '1871', '1872', '1900', '1901', '1902',\n",
       "       '1903', '1904', '1905', '1906', '1971', '2100', '2101', '2102',\n",
       "       '2103', '2104', '2105', '2171', '2172', '3100', '3101', '3171',\n",
       "       '3172', '3173', '3174', '3175', '3200', '3201', '3202', '3203',\n",
       "       '3204', '3205', '3206', '3207', '3208', '3209', '3210', '3211',\n",
       "       '3212', '3213', '3214', '3215', '3216', '3217', '3218', '3271',\n",
       "       '3272', '3273', '3274', '3275', '3276', '3277', '3278', '3279',\n",
       "       '3300', '3301', '3302', '3303', '3304', '3305', '3306', '3307',\n",
       "       '3308', '3309', '3310', '3311', '3312', '3313', '3314', '3315',\n",
       "       '3316', '3317', '3318', '3319', '3320', '3321', '3322', '3323',\n",
       "       '3324', '3325', '3326', '3327', '3328', '3329', '3371', '3372',\n",
       "       '3373', '3374', '3375', '3376', '3400', '3401', '3402', '3403',\n",
       "       '3404', '3471', '3500', '3501', '3502', '3503', '3504', '3505',\n",
       "       '3506', '3507', '3508', '3509', '3510', '3511', '3512', '3513',\n",
       "       '3514', '3515', '3516', '3517', '3518', '3519', '3520', '3521',\n",
       "       '3522', '3523', '3524', '3525', '3526', '3527', '3528', '3529',\n",
       "       '3571', '3572', '3573', '3574', '3575', '3576', '3577', '3578',\n",
       "       '3579', '3600', '3601', '3602', '3603', '3604', '3671', '3672',\n",
       "       '3673', '3674', '5100', '5101', '5102', '5103', '5104', '5105',\n",
       "       '5106', '5107', '5108', '5171', '5200', '5201', '5202', '5203',\n",
       "       '5204', '5205', '5206', '5207', '5208', '5271', '5272', '5300',\n",
       "       '5301', '5302', '5303', '5304', '5305', '5306', '5307', '5308',\n",
       "       '5309', '5310', '5311', '5312', '5313', '5314', '5315', '5316',\n",
       "       '5317', '5318', '5319', '5320', '5321', '5371', '6100', '6101',\n",
       "       '6102', '6103', '6104', '6105', '6106', '6107', '6108', '6109',\n",
       "       '6110', '6111', '6112', '6171', '6172', '6200', '6201', '6202',\n",
       "       '6203', '6204', '6205', '6206', '6207', '6208', '6209', '6210',\n",
       "       '6211', '6212', '6213', '6271', '6300', '6301', '6302', '6303',\n",
       "       '6304', '6305', '6306', '6307', '6308', '6309', '6310', '6311',\n",
       "       '6371', '6372', '6400', '6401', '6402', '6403', '6404', '6405',\n",
       "       '6409', '6411', '6471', '6472', '6474', '6500', '6501', '6502',\n",
       "       '6503', '6504', '6571', '7100', '7101', '7102', '7103', '7104',\n",
       "       '7105', '7106', '7107', '7108', '7109', '7110', '7111', '7171',\n",
       "       '7172', '7173', '7174', '7200', '7201', '7202', '7203', '7204',\n",
       "       '7205', '7206', '7207', '7208', '7209', '7210', '7211', '7212',\n",
       "       '7271', '7300', '7301', '7302', '7303', '7304', '7305', '7306',\n",
       "       '7307', '7308', '7309', '7310', '7311', '7312', '7313', '7314',\n",
       "       '7315', '7316', '7317', '7318', '7322', '7325', '7326', '7371',\n",
       "       '7372', '7373', '7400', '7401', '7402', '7403', '7404', '7405',\n",
       "       '7406', '7407', '7408', '7409', '7410', '7411', '7412', '7413',\n",
       "       '7414', '7415', '7471', '7472', '7500', '7501', '7502', '7503',\n",
       "       '7504', '7505', '7571', '7600', '7601', '7602', '7603', '7604',\n",
       "       '7605', '7606', '8100', '8101', '8102', '8103', '8104', '8105',\n",
       "       '8106', '8107', '8108', '8109', '8171', '8172', '8200', '8201',\n",
       "       '8202', '8203', '8204', '8205', '8206', '8207', '8208', '8271',\n",
       "       '8272', '9100', '9101', '9102', '9103', '9104', '9105', '9106',\n",
       "       '9107', '9108', '9109', '9110', '9111', '9112', '9171', '9400',\n",
       "       '9401', '9402', '9403', '9404', '9408', '9409', '9410', '9411',\n",
       "       '9412', '9413', '9414', '9415', '9416', '9417', '9418', '9419',\n",
       "       '9420', '9426', '9427', '9428', '9429', '9430', '9431', '9432',\n",
       "       '9433', '9434', '9435', '9436', '9471'], dtype=object)"
      ]
     },
     "execution_count": 6,
     "metadata": {},
     "output_type": "execute_result"
    }
   ],
   "source": [
    "domain_df['domain_id'].unique()"
   ]
  },
  {
   "cell_type": "markdown",
   "metadata": {},
   "source": [
    "# Subject"
   ]
  },
  {
   "cell_type": "code",
   "execution_count": 7,
   "metadata": {},
   "outputs": [],
   "source": [
    "retrieve_subject = []\n",
    "for i in range(1,5):\n",
    "    url = 'https://webapi.bps.go.id/v1/api/list/model/subject/lang/ind/domain/0000/page/{0}/key/{1}/'.format(i, api_key)\n",
    "    req_subject = requests.get(url).json()\n",
    "\n",
    "    for j in req_subject['data'][1]:\n",
    "        retrieve_subject.append(j)\n",
    "    "
   ]
  },
  {
   "cell_type": "markdown",
   "metadata": {},
   "source": [
    "# Static table"
   ]
  },
  {
   "cell_type": "code",
   "execution_count": 8,
   "metadata": {},
   "outputs": [],
   "source": [
    "retrieve_static = []\n",
    "for i in range(1, 66):\n",
    "    url = 'https://webapi.bps.go.id/v1/api/list/model/statictable/lang/ind/domain/0000/page/{0}/key/{1}/'.format(i, api_key)\n",
    "    req_static = requests.get(url).json()\n",
    "\n",
    "    for j in req_static['data'][1]:\n",
    "        retrieve_static.append(j)"
   ]
  },
  {
   "cell_type": "code",
   "execution_count": 9,
   "metadata": {},
   "outputs": [],
   "source": [
    "static_table = pd.DataFrame(retrieve_static)"
   ]
  },
  {
   "cell_type": "code",
   "execution_count": 10,
   "metadata": {},
   "outputs": [
    {
     "data": {
      "text/html": [
       "<div>\n",
       "<style scoped>\n",
       "    .dataframe tbody tr th:only-of-type {\n",
       "        vertical-align: middle;\n",
       "    }\n",
       "\n",
       "    .dataframe tbody tr th {\n",
       "        vertical-align: top;\n",
       "    }\n",
       "\n",
       "    .dataframe thead th {\n",
       "        text-align: right;\n",
       "    }\n",
       "</style>\n",
       "<table border=\"1\" class=\"dataframe\">\n",
       "  <thead>\n",
       "    <tr style=\"text-align: right;\">\n",
       "      <th></th>\n",
       "      <th>table_id</th>\n",
       "      <th>title</th>\n",
       "      <th>subj_id</th>\n",
       "      <th>subj</th>\n",
       "      <th>updt_date</th>\n",
       "      <th>size</th>\n",
       "      <th>excel</th>\n",
       "    </tr>\n",
       "  </thead>\n",
       "  <tbody>\n",
       "    <tr>\n",
       "      <th>235</th>\n",
       "      <td>1843</td>\n",
       "      <td>Rata-rata Persentase Waktu Penyiaran dalam Sem...</td>\n",
       "      <td>2</td>\n",
       "      <td>Komunikasi</td>\n",
       "      <td>2021-01-14 10:35:05.628328</td>\n",
       "      <td>0.03 MB</td>\n",
       "      <td>https://www.bps.go.id/statictable/downloadapi....</td>\n",
       "    </tr>\n",
       "    <tr>\n",
       "      <th>236</th>\n",
       "      <td>878</td>\n",
       "      <td>Persentase Rumah Tangga yang Pernah Mengakses ...</td>\n",
       "      <td>2</td>\n",
       "      <td>Komunikasi</td>\n",
       "      <td>2021-01-14 10:30:41.601274</td>\n",
       "      <td>0.03 MB</td>\n",
       "      <td>https://www.bps.go.id/statictable/downloadapi....</td>\n",
       "    </tr>\n",
       "    <tr>\n",
       "      <th>237</th>\n",
       "      <td>875</td>\n",
       "      <td>Persentase Rumah Tangga yang Memiliki/Menguasa...</td>\n",
       "      <td>2</td>\n",
       "      <td>Komunikasi</td>\n",
       "      <td>2021-01-14 10:21:53.862129</td>\n",
       "      <td>0.03 MB</td>\n",
       "      <td>https://www.bps.go.id/statictable/downloadapi....</td>\n",
       "    </tr>\n",
       "    <tr>\n",
       "      <th>238</th>\n",
       "      <td>876</td>\n",
       "      <td>Persentase Rumah Tangga yang Memiliki/Menguasa...</td>\n",
       "      <td>2</td>\n",
       "      <td>Komunikasi</td>\n",
       "      <td>2021-01-14 10:16:57.126294</td>\n",
       "      <td>0.02 MB</td>\n",
       "      <td>https://www.bps.go.id/statictable/downloadapi....</td>\n",
       "    </tr>\n",
       "    <tr>\n",
       "      <th>239</th>\n",
       "      <td>877</td>\n",
       "      <td>Persentase Rumah Tangga yang Memiliki/Menguasa...</td>\n",
       "      <td>2</td>\n",
       "      <td>Komunikasi</td>\n",
       "      <td>2021-01-14 10:11:16.092238</td>\n",
       "      <td>0.02 MB</td>\n",
       "      <td>https://www.bps.go.id/statictable/downloadapi....</td>\n",
       "    </tr>\n",
       "  </tbody>\n",
       "</table>\n",
       "</div>"
      ],
      "text/plain": [
       "     table_id                                              title  subj_id  \\\n",
       "235      1843  Rata-rata Persentase Waktu Penyiaran dalam Sem...        2   \n",
       "236       878  Persentase Rumah Tangga yang Pernah Mengakses ...        2   \n",
       "237       875  Persentase Rumah Tangga yang Memiliki/Menguasa...        2   \n",
       "238       876  Persentase Rumah Tangga yang Memiliki/Menguasa...        2   \n",
       "239       877  Persentase Rumah Tangga yang Memiliki/Menguasa...        2   \n",
       "\n",
       "           subj                   updt_date     size  \\\n",
       "235  Komunikasi  2021-01-14 10:35:05.628328  0.03 MB   \n",
       "236  Komunikasi  2021-01-14 10:30:41.601274  0.03 MB   \n",
       "237  Komunikasi  2021-01-14 10:21:53.862129  0.03 MB   \n",
       "238  Komunikasi  2021-01-14 10:16:57.126294  0.02 MB   \n",
       "239  Komunikasi  2021-01-14 10:11:16.092238  0.02 MB   \n",
       "\n",
       "                                                 excel  \n",
       "235  https://www.bps.go.id/statictable/downloadapi....  \n",
       "236  https://www.bps.go.id/statictable/downloadapi....  \n",
       "237  https://www.bps.go.id/statictable/downloadapi....  \n",
       "238  https://www.bps.go.id/statictable/downloadapi....  \n",
       "239  https://www.bps.go.id/statictable/downloadapi....  "
      ]
     },
     "execution_count": 10,
     "metadata": {},
     "output_type": "execute_result"
    }
   ],
   "source": [
    "static_table.loc[static_table['subj'] == 'Komunikasi']"
   ]
  },
  {
   "cell_type": "markdown",
   "metadata": {},
   "source": [
    "# Dynamic table"
   ]
  },
  {
   "cell_type": "markdown",
   "metadata": {},
   "source": [
    "## Get the variable list"
   ]
  },
  {
   "cell_type": "code",
   "execution_count": 11,
   "metadata": {},
   "outputs": [],
   "source": [
    "retrieve_dynamic_var = []\n",
    "for i in range(1, 142):\n",
    "    url = 'https://webapi.bps.go.id/v1/api/list/model/var/domain/0000/page/{0}/key/{1}/'.format(i, api_key)\n",
    "    req_dynamic_var = requests.get(url).json()\n",
    "\n",
    "    for j in req_dynamic_var['data'][1]:\n",
    "        retrieve_dynamic_var.append(j)"
   ]
  },
  {
   "cell_type": "code",
   "execution_count": 12,
   "metadata": {},
   "outputs": [],
   "source": [
    "dynamic_table_var = pd.DataFrame(retrieve_dynamic_var)"
   ]
  },
  {
   "cell_type": "code",
   "execution_count": 13,
   "metadata": {},
   "outputs": [
    {
     "data": {
      "text/html": [
       "<div>\n",
       "<style scoped>\n",
       "    .dataframe tbody tr th:only-of-type {\n",
       "        vertical-align: middle;\n",
       "    }\n",
       "\n",
       "    .dataframe tbody tr th {\n",
       "        vertical-align: top;\n",
       "    }\n",
       "\n",
       "    .dataframe thead th {\n",
       "        text-align: right;\n",
       "    }\n",
       "</style>\n",
       "<table border=\"1\" class=\"dataframe\">\n",
       "  <thead>\n",
       "    <tr style=\"text-align: right;\">\n",
       "      <th></th>\n",
       "      <th>var_id</th>\n",
       "      <th>title</th>\n",
       "      <th>sub_id</th>\n",
       "      <th>sub_name</th>\n",
       "      <th>def</th>\n",
       "      <th>notes</th>\n",
       "      <th>vertical</th>\n",
       "      <th>unit</th>\n",
       "      <th>graph_id</th>\n",
       "      <th>graph_name</th>\n",
       "    </tr>\n",
       "  </thead>\n",
       "  <tbody>\n",
       "    <tr>\n",
       "      <th>0</th>\n",
       "      <td>70</td>\n",
       "      <td>Persentase Penduduk Usia 5 tahun ke atas yang ...</td>\n",
       "      <td>2</td>\n",
       "      <td>Komunikasi</td>\n",
       "      <td></td>\n",
       "      <td>&amp;lt;p&amp;gt;Sumber: BPS, Survei Sosial Ekonomi Na...</td>\n",
       "      <td>1</td>\n",
       "      <td>Tidak Ada Satuan</td>\n",
       "      <td>1.0</td>\n",
       "      <td>bar</td>\n",
       "    </tr>\n",
       "    <tr>\n",
       "      <th>1</th>\n",
       "      <td>111</td>\n",
       "      <td>Persentase Rumah Tangga yang Memiliki/Menguasa...</td>\n",
       "      <td>2</td>\n",
       "      <td>Komunikasi</td>\n",
       "      <td></td>\n",
       "      <td>Sumber: BPS, Survei Sosial Ekonomi Nasional (S...</td>\n",
       "      <td>1</td>\n",
       "      <td>Tidak Ada Satuan</td>\n",
       "      <td>1.0</td>\n",
       "      <td>bar</td>\n",
       "    </tr>\n",
       "    <tr>\n",
       "      <th>2</th>\n",
       "      <td>391</td>\n",
       "      <td>Persentase Rumah Tangga yang Memiliki/Menguasa...</td>\n",
       "      <td>2</td>\n",
       "      <td>Komunikasi</td>\n",
       "      <td></td>\n",
       "      <td>Sumber: BPS, Survei Sosial Ekonomi Nasional (S...</td>\n",
       "      <td>1</td>\n",
       "      <td>Tidak Ada Satuan</td>\n",
       "      <td>1.0</td>\n",
       "      <td>bar</td>\n",
       "    </tr>\n",
       "    <tr>\n",
       "      <th>3</th>\n",
       "      <td>392</td>\n",
       "      <td>Rata-Rata Banyaknya Nomor Telepon Seluler Akti...</td>\n",
       "      <td>2</td>\n",
       "      <td>Komunikasi</td>\n",
       "      <td></td>\n",
       "      <td>Sumber: BPS, Survei Sosial Ekonomi Nasional (S...</td>\n",
       "      <td>1</td>\n",
       "      <td>Tidak Ada Satuan</td>\n",
       "      <td>1.0</td>\n",
       "      <td>bar</td>\n",
       "    </tr>\n",
       "    <tr>\n",
       "      <th>4</th>\n",
       "      <td>393</td>\n",
       "      <td>Persentase Rumah Tangga yang Memiliki/Menguasa...</td>\n",
       "      <td>2</td>\n",
       "      <td>Komunikasi</td>\n",
       "      <td></td>\n",
       "      <td>Sumber: BPS, Survei Sosial Ekonomi Nasional (S...</td>\n",
       "      <td>1</td>\n",
       "      <td>Tidak Ada Satuan</td>\n",
       "      <td>1.0</td>\n",
       "      <td>bar</td>\n",
       "    </tr>\n",
       "  </tbody>\n",
       "</table>\n",
       "</div>"
      ],
      "text/plain": [
       "   var_id                                              title  sub_id  \\\n",
       "0      70  Persentase Penduduk Usia 5 tahun ke atas yang ...       2   \n",
       "1     111  Persentase Rumah Tangga yang Memiliki/Menguasa...       2   \n",
       "2     391  Persentase Rumah Tangga yang Memiliki/Menguasa...       2   \n",
       "3     392  Rata-Rata Banyaknya Nomor Telepon Seluler Akti...       2   \n",
       "4     393  Persentase Rumah Tangga yang Memiliki/Menguasa...       2   \n",
       "\n",
       "     sub_name def                                              notes  \\\n",
       "0  Komunikasi      &lt;p&gt;Sumber: BPS, Survei Sosial Ekonomi Na...   \n",
       "1  Komunikasi      Sumber: BPS, Survei Sosial Ekonomi Nasional (S...   \n",
       "2  Komunikasi      Sumber: BPS, Survei Sosial Ekonomi Nasional (S...   \n",
       "3  Komunikasi      Sumber: BPS, Survei Sosial Ekonomi Nasional (S...   \n",
       "4  Komunikasi      Sumber: BPS, Survei Sosial Ekonomi Nasional (S...   \n",
       "\n",
       "   vertical              unit  graph_id graph_name  \n",
       "0         1  Tidak Ada Satuan       1.0        bar  \n",
       "1         1  Tidak Ada Satuan       1.0        bar  \n",
       "2         1  Tidak Ada Satuan       1.0        bar  \n",
       "3         1  Tidak Ada Satuan       1.0        bar  \n",
       "4         1  Tidak Ada Satuan       1.0        bar  "
      ]
     },
     "execution_count": 13,
     "metadata": {},
     "output_type": "execute_result"
    }
   ],
   "source": [
    "dynamic_table_var.head()"
   ]
  },
  {
   "cell_type": "code",
   "execution_count": 14,
   "metadata": {},
   "outputs": [],
   "source": [
    "edu_var_id = dynamic_table_var.loc[dynamic_table_var['sub_name'] == 'Pendidikan']['var_id'].unique()"
   ]
  },
  {
   "cell_type": "code",
   "execution_count": 103,
   "metadata": {},
   "outputs": [
    {
     "data": {
      "text/html": [
       "<div>\n",
       "<style scoped>\n",
       "    .dataframe tbody tr th:only-of-type {\n",
       "        vertical-align: middle;\n",
       "    }\n",
       "\n",
       "    .dataframe tbody tr th {\n",
       "        vertical-align: top;\n",
       "    }\n",
       "\n",
       "    .dataframe thead th {\n",
       "        text-align: right;\n",
       "    }\n",
       "</style>\n",
       "<table border=\"1\" class=\"dataframe\">\n",
       "  <thead>\n",
       "    <tr style=\"text-align: right;\">\n",
       "      <th></th>\n",
       "      <th>var_id</th>\n",
       "      <th>title</th>\n",
       "      <th>sub_id</th>\n",
       "      <th>sub_name</th>\n",
       "      <th>def</th>\n",
       "      <th>notes</th>\n",
       "      <th>vertical</th>\n",
       "      <th>unit</th>\n",
       "      <th>graph_id</th>\n",
       "      <th>graph_name</th>\n",
       "    </tr>\n",
       "  </thead>\n",
       "  <tbody>\n",
       "    <tr>\n",
       "      <th>797</th>\n",
       "      <td>102</td>\n",
       "      <td>Persentase Penduduk Buta Huruf</td>\n",
       "      <td>28</td>\n",
       "      <td>Pendidikan</td>\n",
       "      <td></td>\n",
       "      <td>Sumber: BPS-RI, Susenas 2003-2017 &amp;lt;br /&amp;gt;...</td>\n",
       "      <td>1</td>\n",
       "      <td>Persen</td>\n",
       "      <td>1.0</td>\n",
       "      <td>bar</td>\n",
       "    </tr>\n",
       "    <tr>\n",
       "      <th>798</th>\n",
       "      <td>205</td>\n",
       "      <td>Jumlah Desa yang Memiliki Fasilitas Sekolah Me...</td>\n",
       "      <td>28</td>\n",
       "      <td>Pendidikan</td>\n",
       "      <td></td>\n",
       "      <td>1. Data tahun 2005 di Sumatera Utara tidak ter...</td>\n",
       "      <td>1</td>\n",
       "      <td>Tidak Ada Satuan</td>\n",
       "      <td>1.0</td>\n",
       "      <td>bar</td>\n",
       "    </tr>\n",
       "    <tr>\n",
       "      <th>799</th>\n",
       "      <td>301</td>\n",
       "      <td>Angka Partisipasi Sekolah ( A P S )</td>\n",
       "      <td>28</td>\n",
       "      <td>Pendidikan</td>\n",
       "      <td></td>\n",
       "      <td>- Sumber: BPS-RI, Susenas 2003-2017&amp;lt;br /&amp;gt...</td>\n",
       "      <td>1</td>\n",
       "      <td>Tidak Ada Satuan</td>\n",
       "      <td>1.0</td>\n",
       "      <td>bar</td>\n",
       "    </tr>\n",
       "    <tr>\n",
       "      <th>800</th>\n",
       "      <td>303</td>\n",
       "      <td>Angka Partisipasi Kasar ( A P K )</td>\n",
       "      <td>28</td>\n",
       "      <td>Pendidikan</td>\n",
       "      <td></td>\n",
       "      <td>- Sumber: BPS-RI, Susenas 2003-2017&amp;lt;br /&amp;gt...</td>\n",
       "      <td>1</td>\n",
       "      <td>Tidak Ada Satuan</td>\n",
       "      <td>1.0</td>\n",
       "      <td>bar</td>\n",
       "    </tr>\n",
       "    <tr>\n",
       "      <th>801</th>\n",
       "      <td>304</td>\n",
       "      <td>Angka Partisipasi Murni ( A P M )</td>\n",
       "      <td>28</td>\n",
       "      <td>Pendidikan</td>\n",
       "      <td></td>\n",
       "      <td>- Sumber: BPS-RI, Susenas 2003-2017&amp;lt;br /&amp;gt...</td>\n",
       "      <td>1</td>\n",
       "      <td>Tidak Ada Satuan</td>\n",
       "      <td>1.0</td>\n",
       "      <td>bar</td>\n",
       "    </tr>\n",
       "    <tr>\n",
       "      <th>...</th>\n",
       "      <td>...</td>\n",
       "      <td>...</td>\n",
       "      <td>...</td>\n",
       "      <td>...</td>\n",
       "      <td>...</td>\n",
       "      <td>...</td>\n",
       "      <td>...</td>\n",
       "      <td>...</td>\n",
       "      <td>...</td>\n",
       "      <td>...</td>\n",
       "    </tr>\n",
       "    <tr>\n",
       "      <th>866</th>\n",
       "      <td>1992</td>\n",
       "      <td>Tingkat partisipasi dalam pembelajaran yang te...</td>\n",
       "      <td>28</td>\n",
       "      <td>Pendidikan</td>\n",
       "      <td></td>\n",
       "      <td>&amp;lt;p&amp;gt;&amp;lt;br /&amp;gt;&amp;lt;/p&amp;gt;&amp;lt;p&amp;gt;Sumber...</td>\n",
       "      <td>310</td>\n",
       "      <td>Tidak Ada Satuan</td>\n",
       "      <td>1.0</td>\n",
       "      <td>bar</td>\n",
       "    </tr>\n",
       "    <tr>\n",
       "      <th>867</th>\n",
       "      <td>1994</td>\n",
       "      <td>Tingkat partisipasi dalam pembelajaran yang te...</td>\n",
       "      <td>28</td>\n",
       "      <td>Pendidikan</td>\n",
       "      <td></td>\n",
       "      <td>&amp;lt;p&amp;gt;&amp;lt;br /&amp;gt;&amp;lt;/p&amp;gt;&amp;lt;p&amp;gt;Sumber...</td>\n",
       "      <td>301</td>\n",
       "      <td>Tidak Ada Satuan</td>\n",
       "      <td>1.0</td>\n",
       "      <td>bar</td>\n",
       "    </tr>\n",
       "    <tr>\n",
       "      <th>868</th>\n",
       "      <td>1996</td>\n",
       "      <td>Tingkat partisipasi remaja dan dewasa dalam pe...</td>\n",
       "      <td>28</td>\n",
       "      <td>Pendidikan</td>\n",
       "      <td></td>\n",
       "      <td>&amp;lt;p&amp;gt;&amp;lt;br /&amp;gt;&amp;lt;/p&amp;gt;&amp;lt;p&amp;gt;Sumber...</td>\n",
       "      <td>310</td>\n",
       "      <td>Tidak Ada Satuan</td>\n",
       "      <td>1.0</td>\n",
       "      <td>bar</td>\n",
       "    </tr>\n",
       "    <tr>\n",
       "      <th>869</th>\n",
       "      <td>1998</td>\n",
       "      <td>Tingkat partisipasi remaja dan dewasa dalam pe...</td>\n",
       "      <td>28</td>\n",
       "      <td>Pendidikan</td>\n",
       "      <td></td>\n",
       "      <td>&amp;lt;p&amp;gt;&amp;lt;br /&amp;gt;&amp;lt;/p&amp;gt;&amp;lt;p&amp;gt;Sumber...</td>\n",
       "      <td>301</td>\n",
       "      <td>Tidak Ada Satuan</td>\n",
       "      <td>1.0</td>\n",
       "      <td>bar</td>\n",
       "    </tr>\n",
       "    <tr>\n",
       "      <th>870</th>\n",
       "      <td>2000</td>\n",
       "      <td>Tingkat partisipasi remaja dan dewasa dalam pe...</td>\n",
       "      <td>28</td>\n",
       "      <td>Pendidikan</td>\n",
       "      <td></td>\n",
       "      <td>&amp;lt;p&amp;gt;Sumber Data: Susenas Modul MSBP&amp;lt;/p...</td>\n",
       "      <td>398</td>\n",
       "      <td>Tidak Ada Satuan</td>\n",
       "      <td>1.0</td>\n",
       "      <td>bar</td>\n",
       "    </tr>\n",
       "  </tbody>\n",
       "</table>\n",
       "<p>74 rows × 10 columns</p>\n",
       "</div>"
      ],
      "text/plain": [
       "     var_id                                              title  sub_id  \\\n",
       "797     102                     Persentase Penduduk Buta Huruf      28   \n",
       "798     205  Jumlah Desa yang Memiliki Fasilitas Sekolah Me...      28   \n",
       "799     301                Angka Partisipasi Sekolah ( A P S )      28   \n",
       "800     303                  Angka Partisipasi Kasar ( A P K )      28   \n",
       "801     304                  Angka Partisipasi Murni ( A P M )      28   \n",
       "..      ...                                                ...     ...   \n",
       "866    1992  Tingkat partisipasi dalam pembelajaran yang te...      28   \n",
       "867    1994  Tingkat partisipasi dalam pembelajaran yang te...      28   \n",
       "868    1996  Tingkat partisipasi remaja dan dewasa dalam pe...      28   \n",
       "869    1998  Tingkat partisipasi remaja dan dewasa dalam pe...      28   \n",
       "870    2000  Tingkat partisipasi remaja dan dewasa dalam pe...      28   \n",
       "\n",
       "       sub_name def                                              notes  \\\n",
       "797  Pendidikan      Sumber: BPS-RI, Susenas 2003-2017 &lt;br /&gt;...   \n",
       "798  Pendidikan      1. Data tahun 2005 di Sumatera Utara tidak ter...   \n",
       "799  Pendidikan      - Sumber: BPS-RI, Susenas 2003-2017&lt;br /&gt...   \n",
       "800  Pendidikan      - Sumber: BPS-RI, Susenas 2003-2017&lt;br /&gt...   \n",
       "801  Pendidikan      - Sumber: BPS-RI, Susenas 2003-2017&lt;br /&gt...   \n",
       "..          ...  ..                                                ...   \n",
       "866  Pendidikan      &lt;p&gt;&lt;br /&gt;&lt;/p&gt;&lt;p&gt;Sumber...   \n",
       "867  Pendidikan      &lt;p&gt;&lt;br /&gt;&lt;/p&gt;&lt;p&gt;Sumber...   \n",
       "868  Pendidikan      &lt;p&gt;&lt;br /&gt;&lt;/p&gt;&lt;p&gt;Sumber...   \n",
       "869  Pendidikan      &lt;p&gt;&lt;br /&gt;&lt;/p&gt;&lt;p&gt;Sumber...   \n",
       "870  Pendidikan      &lt;p&gt;Sumber Data: Susenas Modul MSBP&lt;/p...   \n",
       "\n",
       "     vertical              unit  graph_id graph_name  \n",
       "797         1            Persen       1.0        bar  \n",
       "798         1  Tidak Ada Satuan       1.0        bar  \n",
       "799         1  Tidak Ada Satuan       1.0        bar  \n",
       "800         1  Tidak Ada Satuan       1.0        bar  \n",
       "801         1  Tidak Ada Satuan       1.0        bar  \n",
       "..        ...               ...       ...        ...  \n",
       "866       310  Tidak Ada Satuan       1.0        bar  \n",
       "867       301  Tidak Ada Satuan       1.0        bar  \n",
       "868       310  Tidak Ada Satuan       1.0        bar  \n",
       "869       301  Tidak Ada Satuan       1.0        bar  \n",
       "870       398  Tidak Ada Satuan       1.0        bar  \n",
       "\n",
       "[74 rows x 10 columns]"
      ]
     },
     "execution_count": 103,
     "metadata": {},
     "output_type": "execute_result"
    }
   ],
   "source": [
    "dynamic_table_var.loc[dynamic_table_var['sub_name'] == 'Pendidikan']"
   ]
  },
  {
   "cell_type": "code",
   "execution_count": 101,
   "metadata": {},
   "outputs": [
    {
     "data": {
      "text/plain": [
       "1410"
      ]
     },
     "execution_count": 101,
     "metadata": {},
     "output_type": "execute_result"
    }
   ],
   "source": [
    "len(dynamic_table_var['sub_name'] == 'Pendidikan')"
   ]
  },
  {
   "cell_type": "markdown",
   "metadata": {},
   "source": [
    "## Getting for each variable_id"
   ]
  },
  {
   "cell_type": "markdown",
   "metadata": {},
   "source": [
    "vervar + var + turvar +  tahun + turtahun\n",
    "\n",
    "9999 102 232 103 0"
   ]
  },
  {
   "cell_type": "code",
   "execution_count": 15,
   "metadata": {},
   "outputs": [],
   "source": [
    "url = 'https://webapi.bps.go.id/v1/api/list/model/data/domain/0000/var/{0}/key/{1}/'.format(102, api_key)\n",
    "buta_huruf = requests.get(url).json()"
   ]
  },
  {
   "cell_type": "code",
   "execution_count": 60,
   "metadata": {},
   "outputs": [
    {
     "name": "stdout",
     "output_type": "stream",
     "text": [
      "INDONESIA\n"
     ]
    }
   ],
   "source": [
    "print(buta_huruf['vervar'][0]['label'])"
   ]
  },
  {
   "cell_type": "code",
   "execution_count": 90,
   "metadata": {},
   "outputs": [],
   "source": [
    "vervar_df = pd.DataFrame(buta_huruf['vervar'])\n",
    "turvar_df = pd.DataFrame(buta_huruf['turvar'])\n",
    "tahun_df = pd.DataFrame(buta_huruf['tahun'])\n",
    "content_df = pd.DataFrame(data={'id': buta_huruf['datacontent'].keys(), 'values': buta_huruf['datacontent'].values() })\n",
    "#content_df['id'] = content_df['id'].astype('int64')"
   ]
  },
  {
   "cell_type": "code",
   "execution_count": 93,
   "metadata": {},
   "outputs": [
    {
     "name": "stderr",
     "output_type": "stream",
     "text": [
      "/var/folders/j4/1cx_m7js4y55z_qpwdw7fpbw0000gn/T/ipykernel_44166/1202990850.py:3: FutureWarning: Passing 'suffixes' which cause duplicate columns {'val_x'} in the result is deprecated and will raise a MergeError in a future version.\n",
      "  content_df_3 = content_df_2.merge(tahun_df, how='left', left_on = content_df_2['id'].str[10:13].astype('int64'), right_on = 'val')\n"
     ]
    }
   ],
   "source": [
    "content_df_1 = content_df.merge(vervar_df, how='left', left_on = content_df['id'].str[:4].astype('int64'), right_on = 'val')\n",
    "content_df_2 = content_df_1.merge(turvar_df, how='left', left_on = content_df_1['id'].str[7:10].astype('int64'), right_on = 'val') \n",
    "content_df_3 = content_df_2.merge(tahun_df, how='left', left_on = content_df_2['id'].str[10:13].astype('int64'), right_on = 'val') \n"
   ]
  },
  {
   "cell_type": "code",
   "execution_count": 98,
   "metadata": {},
   "outputs": [],
   "source": [
    "buta_huruf_df = content_df_3[['id', 'values', 'label_x', 'label_y', 'label']]\n",
    "buta_huruf_df.columns = ['id', 'values', 'area', 'age_breakdown', 'year']"
   ]
  },
  {
   "cell_type": "code",
   "execution_count": 99,
   "metadata": {},
   "outputs": [
    {
     "data": {
      "text/html": [
       "<div>\n",
       "<style scoped>\n",
       "    .dataframe tbody tr th:only-of-type {\n",
       "        vertical-align: middle;\n",
       "    }\n",
       "\n",
       "    .dataframe tbody tr th {\n",
       "        vertical-align: top;\n",
       "    }\n",
       "\n",
       "    .dataframe thead th {\n",
       "        text-align: right;\n",
       "    }\n",
       "</style>\n",
       "<table border=\"1\" class=\"dataframe\">\n",
       "  <thead>\n",
       "    <tr style=\"text-align: right;\">\n",
       "      <th></th>\n",
       "      <th>id</th>\n",
       "      <th>values</th>\n",
       "      <th>area</th>\n",
       "      <th>age_breakdown</th>\n",
       "      <th>year</th>\n",
       "    </tr>\n",
       "  </thead>\n",
       "  <tbody>\n",
       "    <tr>\n",
       "      <th>0</th>\n",
       "      <td>99991022321030</td>\n",
       "      <td>10.21</td>\n",
       "      <td>INDONESIA</td>\n",
       "      <td>15+</td>\n",
       "      <td>2003</td>\n",
       "    </tr>\n",
       "    <tr>\n",
       "      <th>1</th>\n",
       "      <td>99991022321040</td>\n",
       "      <td>9.62</td>\n",
       "      <td>INDONESIA</td>\n",
       "      <td>15+</td>\n",
       "      <td>2004</td>\n",
       "    </tr>\n",
       "    <tr>\n",
       "      <th>2</th>\n",
       "      <td>99991022321050</td>\n",
       "      <td>9.09</td>\n",
       "      <td>INDONESIA</td>\n",
       "      <td>15+</td>\n",
       "      <td>2005</td>\n",
       "    </tr>\n",
       "    <tr>\n",
       "      <th>3</th>\n",
       "      <td>99991022321060</td>\n",
       "      <td>8.55</td>\n",
       "      <td>INDONESIA</td>\n",
       "      <td>15+</td>\n",
       "      <td>2006</td>\n",
       "    </tr>\n",
       "    <tr>\n",
       "      <th>4</th>\n",
       "      <td>99991022321070</td>\n",
       "      <td>8.13</td>\n",
       "      <td>INDONESIA</td>\n",
       "      <td>15+</td>\n",
       "      <td>2007</td>\n",
       "    </tr>\n",
       "  </tbody>\n",
       "</table>\n",
       "</div>"
      ],
      "text/plain": [
       "               id  values       area age_breakdown  year\n",
       "0  99991022321030   10.21  INDONESIA           15+  2003\n",
       "1  99991022321040    9.62  INDONESIA           15+  2004\n",
       "2  99991022321050    9.09  INDONESIA           15+  2005\n",
       "3  99991022321060    8.55  INDONESIA           15+  2006\n",
       "4  99991022321070    8.13  INDONESIA           15+  2007"
      ]
     },
     "execution_count": 99,
     "metadata": {},
     "output_type": "execute_result"
    }
   ],
   "source": [
    "buta_huruf_df.head()"
   ]
  }
 ],
 "metadata": {
  "kernelspec": {
   "display_name": "Python 3.9.7",
   "language": "python",
   "name": "python3"
  },
  "language_info": {
   "codemirror_mode": {
    "name": "ipython",
    "version": 3
   },
   "file_extension": ".py",
   "mimetype": "text/x-python",
   "name": "python",
   "nbconvert_exporter": "python",
   "pygments_lexer": "ipython3",
   "version": "3.9.7"
  },
  "orig_nbformat": 4,
  "vscode": {
   "interpreter": {
    "hash": "35816621c5761e336dd9a248194022169f7368059d40153f4fc92bcc6e7b5e47"
   }
  }
 },
 "nbformat": 4,
 "nbformat_minor": 2
}
