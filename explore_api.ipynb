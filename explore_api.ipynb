{
 "cells": [
  {
   "cell_type": "code",
   "execution_count": 2,
   "metadata": {},
   "outputs": [],
   "source": [
    "import requests\n",
    "import pandas as pd\n",
    "import numpy as np"
   ]
  },
  {
   "cell_type": "code",
   "execution_count": 3,
   "metadata": {},
   "outputs": [],
   "source": [
    "api_key = '4eda5e3af511b6d4892332948b84476c'"
   ]
  },
  {
   "cell_type": "markdown",
   "metadata": {},
   "source": [
    "# Retrieve domain list"
   ]
  },
  {
   "cell_type": "code",
   "execution_count": 4,
   "metadata": {},
   "outputs": [],
   "source": [
    "domain_list = []\n",
    "url = 'https://webapi.bps.go.id/v1/api/domain/type/all/key/{}/'.format(api_key)\n",
    "req_domain = requests.get(url).json()\n",
    "\n",
    "for i in req_domain['data'][1]:\n",
    "    domain_list.append(i)"
   ]
  },
  {
   "cell_type": "code",
   "execution_count": 5,
   "metadata": {},
   "outputs": [],
   "source": [
    "domain_df = pd.DataFrame(domain_list)"
   ]
  },
  {
   "cell_type": "markdown",
   "metadata": {},
   "source": [
    "# Subject"
   ]
  },
  {
   "cell_type": "code",
   "execution_count": 6,
   "metadata": {},
   "outputs": [],
   "source": [
    "retrieve_subject = []\n",
    "for i in range(1,5):\n",
    "    url = 'https://webapi.bps.go.id/v1/api/list/model/subject/lang/ind/domain/0000/page/{0}/key/{1}/'.format(i, api_key)\n",
    "    req_subject = requests.get(url).json()\n",
    "\n",
    "    for j in req_subject['data'][1]:\n",
    "        retrieve_subject.append(j)\n",
    "    "
   ]
  },
  {
   "cell_type": "markdown",
   "metadata": {},
   "source": [
    "# Static table"
   ]
  },
  {
   "cell_type": "code",
   "execution_count": 7,
   "metadata": {},
   "outputs": [],
   "source": [
    "retrieve_static = []\n",
    "for i in range(1, 66):\n",
    "    url = 'https://webapi.bps.go.id/v1/api/list/model/statictable/lang/ind/domain/0000/page/{0}/key/{1}/'.format(i, api_key)\n",
    "    req_static = requests.get(url).json()\n",
    "\n",
    "    for j in req_static['data'][1]:\n",
    "        retrieve_static.append(j)"
   ]
  },
  {
   "cell_type": "code",
   "execution_count": 8,
   "metadata": {},
   "outputs": [],
   "source": [
    "static_table = pd.DataFrame(retrieve_static)"
   ]
  },
  {
   "cell_type": "code",
   "execution_count": 9,
   "metadata": {},
   "outputs": [
    {
     "data": {
      "text/html": [
       "<div>\n",
       "<style scoped>\n",
       "    .dataframe tbody tr th:only-of-type {\n",
       "        vertical-align: middle;\n",
       "    }\n",
       "\n",
       "    .dataframe tbody tr th {\n",
       "        vertical-align: top;\n",
       "    }\n",
       "\n",
       "    .dataframe thead th {\n",
       "        text-align: right;\n",
       "    }\n",
       "</style>\n",
       "<table border=\"1\" class=\"dataframe\">\n",
       "  <thead>\n",
       "    <tr style=\"text-align: right;\">\n",
       "      <th></th>\n",
       "      <th>table_id</th>\n",
       "      <th>title</th>\n",
       "      <th>subj_id</th>\n",
       "      <th>subj</th>\n",
       "      <th>updt_date</th>\n",
       "      <th>size</th>\n",
       "      <th>excel</th>\n",
       "    </tr>\n",
       "  </thead>\n",
       "  <tbody>\n",
       "    <tr>\n",
       "      <th>235</th>\n",
       "      <td>1843</td>\n",
       "      <td>Rata-rata Persentase Waktu Penyiaran dalam Sem...</td>\n",
       "      <td>2</td>\n",
       "      <td>Komunikasi</td>\n",
       "      <td>2021-01-14 10:35:05.628328</td>\n",
       "      <td>0.03 MB</td>\n",
       "      <td>https://www.bps.go.id/statictable/downloadapi....</td>\n",
       "    </tr>\n",
       "    <tr>\n",
       "      <th>236</th>\n",
       "      <td>878</td>\n",
       "      <td>Persentase Rumah Tangga yang Pernah Mengakses ...</td>\n",
       "      <td>2</td>\n",
       "      <td>Komunikasi</td>\n",
       "      <td>2021-01-14 10:30:41.601274</td>\n",
       "      <td>0.03 MB</td>\n",
       "      <td>https://www.bps.go.id/statictable/downloadapi....</td>\n",
       "    </tr>\n",
       "    <tr>\n",
       "      <th>237</th>\n",
       "      <td>875</td>\n",
       "      <td>Persentase Rumah Tangga yang Memiliki/Menguasa...</td>\n",
       "      <td>2</td>\n",
       "      <td>Komunikasi</td>\n",
       "      <td>2021-01-14 10:21:53.862129</td>\n",
       "      <td>0.03 MB</td>\n",
       "      <td>https://www.bps.go.id/statictable/downloadapi....</td>\n",
       "    </tr>\n",
       "    <tr>\n",
       "      <th>238</th>\n",
       "      <td>876</td>\n",
       "      <td>Persentase Rumah Tangga yang Memiliki/Menguasa...</td>\n",
       "      <td>2</td>\n",
       "      <td>Komunikasi</td>\n",
       "      <td>2021-01-14 10:16:57.126294</td>\n",
       "      <td>0.02 MB</td>\n",
       "      <td>https://www.bps.go.id/statictable/downloadapi....</td>\n",
       "    </tr>\n",
       "    <tr>\n",
       "      <th>239</th>\n",
       "      <td>877</td>\n",
       "      <td>Persentase Rumah Tangga yang Memiliki/Menguasa...</td>\n",
       "      <td>2</td>\n",
       "      <td>Komunikasi</td>\n",
       "      <td>2021-01-14 10:11:16.092238</td>\n",
       "      <td>0.02 MB</td>\n",
       "      <td>https://www.bps.go.id/statictable/downloadapi....</td>\n",
       "    </tr>\n",
       "  </tbody>\n",
       "</table>\n",
       "</div>"
      ],
      "text/plain": [
       "     table_id                                              title  subj_id  \\\n",
       "235      1843  Rata-rata Persentase Waktu Penyiaran dalam Sem...        2   \n",
       "236       878  Persentase Rumah Tangga yang Pernah Mengakses ...        2   \n",
       "237       875  Persentase Rumah Tangga yang Memiliki/Menguasa...        2   \n",
       "238       876  Persentase Rumah Tangga yang Memiliki/Menguasa...        2   \n",
       "239       877  Persentase Rumah Tangga yang Memiliki/Menguasa...        2   \n",
       "\n",
       "           subj                   updt_date     size  \\\n",
       "235  Komunikasi  2021-01-14 10:35:05.628328  0.03 MB   \n",
       "236  Komunikasi  2021-01-14 10:30:41.601274  0.03 MB   \n",
       "237  Komunikasi  2021-01-14 10:21:53.862129  0.03 MB   \n",
       "238  Komunikasi  2021-01-14 10:16:57.126294  0.02 MB   \n",
       "239  Komunikasi  2021-01-14 10:11:16.092238  0.02 MB   \n",
       "\n",
       "                                                 excel  \n",
       "235  https://www.bps.go.id/statictable/downloadapi....  \n",
       "236  https://www.bps.go.id/statictable/downloadapi....  \n",
       "237  https://www.bps.go.id/statictable/downloadapi....  \n",
       "238  https://www.bps.go.id/statictable/downloadapi....  \n",
       "239  https://www.bps.go.id/statictable/downloadapi....  "
      ]
     },
     "execution_count": 9,
     "metadata": {},
     "output_type": "execute_result"
    }
   ],
   "source": [
    "static_table.loc[static_table['subj'] == 'Komunikasi']"
   ]
  },
  {
   "cell_type": "markdown",
   "metadata": {},
   "source": [
    "# Dynamic table"
   ]
  },
  {
   "cell_type": "markdown",
   "metadata": {},
   "source": [
    "## Get the variable list"
   ]
  },
  {
   "cell_type": "code",
   "execution_count": 10,
   "metadata": {},
   "outputs": [],
   "source": [
    "retrieve_dynamic_var = []\n",
    "for i in range(1, 142):\n",
    "    url = 'https://webapi.bps.go.id/v1/api/list/model/var/domain/0000/page/{0}/key/{1}/'.format(i, api_key)\n",
    "    req_dynamic_var = requests.get(url).json()\n",
    "\n",
    "    for j in req_dynamic_var['data'][1]:\n",
    "        retrieve_dynamic_var.append(j)"
   ]
  },
  {
   "cell_type": "code",
   "execution_count": 11,
   "metadata": {},
   "outputs": [],
   "source": [
    "dynamic_table_var = pd.DataFrame(retrieve_dynamic_var)"
   ]
  },
  {
   "cell_type": "code",
   "execution_count": 12,
   "metadata": {},
   "outputs": [
    {
     "data": {
      "text/html": [
       "<div>\n",
       "<style scoped>\n",
       "    .dataframe tbody tr th:only-of-type {\n",
       "        vertical-align: middle;\n",
       "    }\n",
       "\n",
       "    .dataframe tbody tr th {\n",
       "        vertical-align: top;\n",
       "    }\n",
       "\n",
       "    .dataframe thead th {\n",
       "        text-align: right;\n",
       "    }\n",
       "</style>\n",
       "<table border=\"1\" class=\"dataframe\">\n",
       "  <thead>\n",
       "    <tr style=\"text-align: right;\">\n",
       "      <th></th>\n",
       "      <th>var_id</th>\n",
       "      <th>title</th>\n",
       "      <th>sub_id</th>\n",
       "      <th>sub_name</th>\n",
       "      <th>def</th>\n",
       "      <th>notes</th>\n",
       "      <th>vertical</th>\n",
       "      <th>unit</th>\n",
       "      <th>graph_id</th>\n",
       "      <th>graph_name</th>\n",
       "    </tr>\n",
       "  </thead>\n",
       "  <tbody>\n",
       "    <tr>\n",
       "      <th>0</th>\n",
       "      <td>70</td>\n",
       "      <td>Persentase Penduduk Usia 5 tahun ke atas yang ...</td>\n",
       "      <td>2</td>\n",
       "      <td>Komunikasi</td>\n",
       "      <td></td>\n",
       "      <td>&amp;lt;p&amp;gt;Sumber: BPS, Survei Sosial Ekonomi Na...</td>\n",
       "      <td>1</td>\n",
       "      <td>Tidak Ada Satuan</td>\n",
       "      <td>1.0</td>\n",
       "      <td>bar</td>\n",
       "    </tr>\n",
       "    <tr>\n",
       "      <th>1</th>\n",
       "      <td>111</td>\n",
       "      <td>Persentase Rumah Tangga yang Memiliki/Menguasa...</td>\n",
       "      <td>2</td>\n",
       "      <td>Komunikasi</td>\n",
       "      <td></td>\n",
       "      <td>Sumber: BPS, Survei Sosial Ekonomi Nasional (S...</td>\n",
       "      <td>1</td>\n",
       "      <td>Tidak Ada Satuan</td>\n",
       "      <td>1.0</td>\n",
       "      <td>bar</td>\n",
       "    </tr>\n",
       "    <tr>\n",
       "      <th>2</th>\n",
       "      <td>391</td>\n",
       "      <td>Persentase Rumah Tangga yang Memiliki/Menguasa...</td>\n",
       "      <td>2</td>\n",
       "      <td>Komunikasi</td>\n",
       "      <td></td>\n",
       "      <td>Sumber: BPS, Survei Sosial Ekonomi Nasional (S...</td>\n",
       "      <td>1</td>\n",
       "      <td>Tidak Ada Satuan</td>\n",
       "      <td>1.0</td>\n",
       "      <td>bar</td>\n",
       "    </tr>\n",
       "    <tr>\n",
       "      <th>3</th>\n",
       "      <td>392</td>\n",
       "      <td>Rata-Rata Banyaknya Nomor Telepon Seluler Akti...</td>\n",
       "      <td>2</td>\n",
       "      <td>Komunikasi</td>\n",
       "      <td></td>\n",
       "      <td>Sumber: BPS, Survei Sosial Ekonomi Nasional (S...</td>\n",
       "      <td>1</td>\n",
       "      <td>Tidak Ada Satuan</td>\n",
       "      <td>1.0</td>\n",
       "      <td>bar</td>\n",
       "    </tr>\n",
       "    <tr>\n",
       "      <th>4</th>\n",
       "      <td>393</td>\n",
       "      <td>Persentase Rumah Tangga yang Memiliki/Menguasa...</td>\n",
       "      <td>2</td>\n",
       "      <td>Komunikasi</td>\n",
       "      <td></td>\n",
       "      <td>Sumber: BPS, Survei Sosial Ekonomi Nasional (S...</td>\n",
       "      <td>1</td>\n",
       "      <td>Tidak Ada Satuan</td>\n",
       "      <td>1.0</td>\n",
       "      <td>bar</td>\n",
       "    </tr>\n",
       "  </tbody>\n",
       "</table>\n",
       "</div>"
      ],
      "text/plain": [
       "   var_id                                              title  sub_id  \\\n",
       "0      70  Persentase Penduduk Usia 5 tahun ke atas yang ...       2   \n",
       "1     111  Persentase Rumah Tangga yang Memiliki/Menguasa...       2   \n",
       "2     391  Persentase Rumah Tangga yang Memiliki/Menguasa...       2   \n",
       "3     392  Rata-Rata Banyaknya Nomor Telepon Seluler Akti...       2   \n",
       "4     393  Persentase Rumah Tangga yang Memiliki/Menguasa...       2   \n",
       "\n",
       "     sub_name def                                              notes  \\\n",
       "0  Komunikasi      &lt;p&gt;Sumber: BPS, Survei Sosial Ekonomi Na...   \n",
       "1  Komunikasi      Sumber: BPS, Survei Sosial Ekonomi Nasional (S...   \n",
       "2  Komunikasi      Sumber: BPS, Survei Sosial Ekonomi Nasional (S...   \n",
       "3  Komunikasi      Sumber: BPS, Survei Sosial Ekonomi Nasional (S...   \n",
       "4  Komunikasi      Sumber: BPS, Survei Sosial Ekonomi Nasional (S...   \n",
       "\n",
       "   vertical              unit  graph_id graph_name  \n",
       "0         1  Tidak Ada Satuan       1.0        bar  \n",
       "1         1  Tidak Ada Satuan       1.0        bar  \n",
       "2         1  Tidak Ada Satuan       1.0        bar  \n",
       "3         1  Tidak Ada Satuan       1.0        bar  \n",
       "4         1  Tidak Ada Satuan       1.0        bar  "
      ]
     },
     "execution_count": 12,
     "metadata": {},
     "output_type": "execute_result"
    }
   ],
   "source": [
    "dynamic_table_var.head()"
   ]
  },
  {
   "cell_type": "code",
   "execution_count": 13,
   "metadata": {},
   "outputs": [],
   "source": [
    "edu_var_id = dynamic_table_var.loc[dynamic_table_var['sub_name'] == 'Pendidikan']"
   ]
  },
  {
   "cell_type": "markdown",
   "metadata": {},
   "source": [
    "# Education variable ID list"
   ]
  },
  {
   "cell_type": "code",
   "execution_count": 14,
   "metadata": {},
   "outputs": [
    {
     "data": {
      "text/plain": [
       "array([ 102,  205,  301,  303,  304, 1339, 1342, 1343, 1417, 1419, 1421,\n",
       "       1423, 1424, 1425, 1426, 1427, 1428, 1429, 1430, 1431, 1432, 1439,\n",
       "       1440, 1441, 1442, 1443, 1444, 1445, 1446, 1447, 1448, 1449, 1450,\n",
       "       1451, 1452, 1453, 1454, 1455, 1456, 1457, 1458, 1459, 1460, 1461,\n",
       "       1462, 1463, 1464, 1465, 1466, 1467, 1468, 1469, 1526, 1527, 1607,\n",
       "       1608, 1794, 1796, 1797, 1798, 1799, 1980, 1981, 1982, 1983, 1984,\n",
       "       1986, 1988, 1990, 1992, 1994, 1996, 1998, 2000])"
      ]
     },
     "execution_count": 14,
     "metadata": {},
     "output_type": "execute_result"
    }
   ],
   "source": [
    "edu_var_id['var_id'].unique()"
   ]
  },
  {
   "cell_type": "code",
   "execution_count": 21,
   "metadata": {},
   "outputs": [
    {
     "data": {
      "text/html": [
       "<div>\n",
       "<style scoped>\n",
       "    .dataframe tbody tr th:only-of-type {\n",
       "        vertical-align: middle;\n",
       "    }\n",
       "\n",
       "    .dataframe tbody tr th {\n",
       "        vertical-align: top;\n",
       "    }\n",
       "\n",
       "    .dataframe thead th {\n",
       "        text-align: right;\n",
       "    }\n",
       "</style>\n",
       "<table border=\"1\" class=\"dataframe\">\n",
       "  <thead>\n",
       "    <tr style=\"text-align: right;\">\n",
       "      <th></th>\n",
       "      <th>var_id</th>\n",
       "      <th>title</th>\n",
       "    </tr>\n",
       "  </thead>\n",
       "  <tbody>\n",
       "    <tr>\n",
       "      <th>867</th>\n",
       "      <td>1994</td>\n",
       "      <td>Tingkat partisipasi dalam pembelajaran yang te...</td>\n",
       "    </tr>\n",
       "    <tr>\n",
       "      <th>868</th>\n",
       "      <td>1996</td>\n",
       "      <td>Tingkat partisipasi remaja dan dewasa dalam pe...</td>\n",
       "    </tr>\n",
       "    <tr>\n",
       "      <th>869</th>\n",
       "      <td>1998</td>\n",
       "      <td>Tingkat partisipasi remaja dan dewasa dalam pe...</td>\n",
       "    </tr>\n",
       "    <tr>\n",
       "      <th>870</th>\n",
       "      <td>2000</td>\n",
       "      <td>Tingkat partisipasi remaja dan dewasa dalam pe...</td>\n",
       "    </tr>\n",
       "  </tbody>\n",
       "</table>\n",
       "</div>"
      ],
      "text/plain": [
       "     var_id                                              title\n",
       "867    1994  Tingkat partisipasi dalam pembelajaran yang te...\n",
       "868    1996  Tingkat partisipasi remaja dan dewasa dalam pe...\n",
       "869    1998  Tingkat partisipasi remaja dan dewasa dalam pe...\n",
       "870    2000  Tingkat partisipasi remaja dan dewasa dalam pe..."
      ]
     },
     "execution_count": 21,
     "metadata": {},
     "output_type": "execute_result"
    }
   ],
   "source": [
    "edu_var_id[['var_id', 'title']].loc[edu_var_id['var_id'] > 1993]"
   ]
  }
 ],
 "metadata": {
  "kernelspec": {
   "display_name": "Python 3.9.7",
   "language": "python",
   "name": "python3"
  },
  "language_info": {
   "codemirror_mode": {
    "name": "ipython",
    "version": 3
   },
   "file_extension": ".py",
   "mimetype": "text/x-python",
   "name": "python",
   "nbconvert_exporter": "python",
   "pygments_lexer": "ipython3",
   "version": "3.9.7"
  },
  "orig_nbformat": 4,
  "vscode": {
   "interpreter": {
    "hash": "35816621c5761e336dd9a248194022169f7368059d40153f4fc92bcc6e7b5e47"
   }
  }
 },
 "nbformat": 4,
 "nbformat_minor": 2
}
