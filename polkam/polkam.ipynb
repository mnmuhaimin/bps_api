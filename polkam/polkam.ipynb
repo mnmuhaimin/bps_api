{
 "cells": [
  {
   "cell_type": "code",
   "execution_count": 1,
   "metadata": {},
   "outputs": [],
   "source": [
    "import pandas as pd\n",
    "import numpy as np\n",
    "import requests\n",
    "import warnings\n",
    "import matplotlib.pyplot as plt\n",
    "import seaborn as sns\n",
    "from matplotlib import rc\n",
    "\n",
    "warnings.filterwarnings('ignore')\n",
    "api_key = '4eda5e3af511b6d4892332948b84476c'"
   ]
  },
  {
   "attachments": {},
   "cell_type": "markdown",
   "metadata": {},
   "source": [
    "## 101"
   ]
  },
  {
   "cell_type": "code",
   "execution_count": 11,
   "metadata": {},
   "outputs": [],
   "source": [
    "url = 'https://webapi.bps.go.id/v1/api/list/model/data/domain/0000/var/{0}/key/{1}/'.format(101, api_key)\n",
    "data_101 = requests.get(url).json()\n",
    "vervar_df = pd.DataFrame(data_101['vervar'])\n",
    "tahun_df = pd.DataFrame(data_101['tahun'])\n",
    "content_df = pd.DataFrame(data={'id': data_101['datacontent'].keys(), 'values': data_101['datacontent'].values()})\n",
    "\n",
    "content_df['id_len'] = content_df['id'].apply(len)\n",
    "content_df['short_id'] = np.where(content_df['id_len'] == 9, content_df['id'].str[0].astype('int64'), content_df['id'].str[0:2].astype('int64'))"
   ]
  },
  {
   "cell_type": "code",
   "execution_count": 16,
   "metadata": {},
   "outputs": [],
   "source": [
    "content_df_1 = content_df.merge(vervar_df, how='left', left_on = content_df['short_id'].astype('int64'), right_on = 'val')\n",
    "content_df_2 = content_df_1.merge(tahun_df, how='left', left_on = content_df_1['id'].str[-4:-1].astype('int64'), right_on = 'val') \n",
    "\n",
    "data_101_df = content_df_2[['id', 'values', 'label_x', 'label_y']]\n",
    "data_101_df.columns = ['id', 'values', 'kuantil', 'tahun']\n",
    "\n",
    "data_101_df['data_title'] =  data_101['var'][0]['label']\n",
    "\n",
    "data_101_df.to_csv('polkam_101.csv', index=False)"
   ]
  },
  {
   "attachments": {},
   "cell_type": "markdown",
   "metadata": {},
   "source": [
    "## 297"
   ]
  },
  {
   "cell_type": "code",
   "execution_count": 19,
   "metadata": {},
   "outputs": [],
   "source": [
    "url = 'https://webapi.bps.go.id/v1/api/list/model/data/domain/0000/var/{0}/key/{1}/'.format(297, api_key)\n",
    "data_297 = requests.get(url).json()\n",
    "vervar_df = pd.DataFrame(data_297['vervar'])\n",
    "tahun_df = pd.DataFrame(data_297['tahun'])\n",
    "content_df = pd.DataFrame(data={'id': data_297['datacontent'].keys(), 'values': data_297['datacontent'].values()})\n",
    "\n",
    "content_df['id_len'] = content_df['id'].apply(len)\n",
    "content_df['short_id'] = np.where(content_df['id_len'] == 9, content_df['id'].str[0].astype('int64'), content_df['id'].str[0:2].astype('int64'))\n",
    "\n",
    "content_df_1 = content_df.merge(vervar_df, how='left', left_on = content_df['short_id'].astype('int64'), right_on = 'val')\n",
    "content_df_2 = content_df_1.merge(tahun_df, how='left', left_on = content_df_1['id'].str[-4:-1].astype('int64'), right_on = 'val') \n",
    "\n",
    "data_297_df = content_df_2[['id', 'values', 'label_x', 'label_y']]\n",
    "data_297_df.columns = ['id', 'values', 'kuantil', 'tahun']\n",
    "\n",
    "data_297_df['data_title'] =  data_297['var'][0]['label']\n",
    "\n",
    "data_297_df.to_csv('polkam_297.csv', index=False)"
   ]
  },
  {
   "attachments": {},
   "cell_type": "markdown",
   "metadata": {},
   "source": [
    "## 299"
   ]
  },
  {
   "cell_type": "code",
   "execution_count": 20,
   "metadata": {},
   "outputs": [],
   "source": [
    "url = 'https://webapi.bps.go.id/v1/api/list/model/data/domain/0000/var/{0}/key/{1}/'.format(299, api_key)\n",
    "data_299 = requests.get(url).json()\n",
    "vervar_df = pd.DataFrame(data_299['vervar'])\n",
    "tahun_df = pd.DataFrame(data_299['tahun'])\n",
    "content_df = pd.DataFrame(data={'id': data_299['datacontent'].keys(), 'values': data_299['datacontent'].values()})\n",
    "\n",
    "content_df['id_len'] = content_df['id'].apply(len)\n",
    "content_df['short_id'] = np.where(content_df['id_len'] == 9, content_df['id'].str[0].astype('int64'), content_df['id'].str[0:2].astype('int64'))\n",
    "\n",
    "content_df_1 = content_df.merge(vervar_df, how='left', left_on = content_df['short_id'].astype('int64'), right_on = 'val')\n",
    "content_df_2 = content_df_1.merge(tahun_df, how='left', left_on = content_df_1['id'].str[-4:-1].astype('int64'), right_on = 'val') \n",
    "\n",
    "data_299_df = content_df_2[['id', 'values', 'label_x', 'label_y']]\n",
    "data_299_df.columns = ['id', 'values', 'kuantil', 'tahun']\n",
    "\n",
    "data_299_df['data_title'] =  data_299['var'][0]['label']\n",
    "\n",
    "data_299_df.to_csv('polkam_299.csv', index=False)"
   ]
  },
  {
   "attachments": {},
   "cell_type": "markdown",
   "metadata": {},
   "source": [
    "## 592"
   ]
  },
  {
   "cell_type": "code",
   "execution_count": 22,
   "metadata": {},
   "outputs": [],
   "source": [
    "url = 'https://webapi.bps.go.id/v1/api/list/model/data/domain/0000/var/{0}/key/{1}/'.format(592, api_key)\n",
    "data_592 = requests.get(url).json()\n",
    "vervar_df = pd.DataFrame(data_592['vervar'])\n",
    "turvar_df = pd.DataFrame(data_592['turvar'])\n",
    "tahun_df = pd.DataFrame(data_592['tahun'])\n",
    "content_df = pd.DataFrame(data={'id': data_592['datacontent'].keys(), 'values': data_592['datacontent'].values()})\n",
    "\n",
    "content_df_1 = content_df.merge(vervar_df, how='left', left_on = content_df['id'].str[0].astype('int64'), right_on = 'val')\n",
    "content_df_2 = content_df_1.merge(tahun_df, how='left', left_on = content_df_1['id'].str[-4:-1].astype('int64'), right_on = 'val') \n",
    "content_df_3 = content_df_2.merge(turvar_df, how='left', left_on = content_df_2['id'].str[4:7].astype('int64'), right_on = 'val') \n",
    "\n",
    "data_592_df = content_df_3[['id', 'values', 'label_x', 'label_y', 'label']]\n",
    "data_592_df.columns = ['id', 'values', 'dimensi', 'tahun', 'jenis_kelamin']\n",
    "\n",
    "data_592_df['data_title'] =  data_592['var'][0]['label']\n",
    "\n",
    "data_592_df.to_csv('polkam_592.csv', index=False)"
   ]
  },
  {
   "attachments": {},
   "cell_type": "markdown",
   "metadata": {},
   "source": [
    "## 594"
   ]
  },
  {
   "cell_type": "code",
   "execution_count": 24,
   "metadata": {},
   "outputs": [],
   "source": [
    "url = 'https://webapi.bps.go.id/v1/api/list/model/data/domain/0000/var/{0}/key/{1}/'.format(594, api_key)\n",
    "data_594 = requests.get(url).json()\n",
    "vervar_df = pd.DataFrame(data_594['vervar'])\n",
    "turvar_df = pd.DataFrame(data_594['turvar'])\n",
    "content_df = pd.DataFrame(data={'id': data_594['datacontent'].keys(), 'values': data_594['datacontent'].values()})\n",
    "\n",
    "content_df_1 = content_df.merge(vervar_df, how='left', left_on = content_df['id'].str[0].astype('int64'), right_on = 'val')\n",
    "content_df_2 = content_df_1.merge(turvar_df, how='left', left_on = content_df_1['id'].str[4:7].astype('int64'), right_on = 'val') \n",
    "\n",
    "data_594_df = content_df_2[['id', 'values', 'label_x', 'label_y']]\n",
    "data_594_df.columns = ['id', 'values', 'dimensi', 'segmen']\n",
    "\n",
    "data_594_df['data_title'] =  data_594['var'][0]['label']\n",
    "\n",
    "data_594_df.to_csv('polkam_594.csv', index=False)"
   ]
  },
  {
   "attachments": {},
   "cell_type": "markdown",
   "metadata": {},
   "source": [
    "## 595"
   ]
  },
  {
   "cell_type": "code",
   "execution_count": 25,
   "metadata": {},
   "outputs": [],
   "source": [
    "url = 'https://webapi.bps.go.id/v1/api/list/model/data/domain/0000/var/{0}/key/{1}/'.format(595, api_key)\n",
    "data_595 = requests.get(url).json()\n",
    "vervar_df = pd.DataFrame(data_595['vervar'])\n",
    "turvar_df = pd.DataFrame(data_595['turvar'])\n",
    "tahun_df = pd.DataFrame(data_595['tahun'])\n",
    "content_df = pd.DataFrame(data={'id': data_595['datacontent'].keys(), 'values': data_595['datacontent'].values()})\n",
    "\n",
    "content_df_1 = content_df.merge(vervar_df, how='left', left_on = content_df['id'].str[0].astype('int64'), right_on = 'val')\n",
    "content_df_2 = content_df_1.merge(tahun_df, how='left', left_on = content_df_1['id'].str[-4:-1].astype('int64'), right_on = 'val') \n",
    "content_df_3 = content_df_2.merge(turvar_df, how='left', left_on = content_df_2['id'].str[4:7].astype('int64'), right_on = 'val') \n",
    "\n",
    "data_595_df = content_df_3[['id', 'values', 'label_x', 'label_y', 'label']]\n",
    "data_595_df.columns = ['id', 'values', 'dimensi', 'tahun', 'jenis_kelamin']\n",
    "\n",
    "data_595_df['data_title'] =  data_595['var'][0]['label']\n",
    "\n",
    "data_595_df.to_csv('polkam_595.csv', index=False)"
   ]
  },
  {
   "attachments": {},
   "cell_type": "markdown",
   "metadata": {},
   "source": [
    "## 597"
   ]
  },
  {
   "cell_type": "code",
   "execution_count": 26,
   "metadata": {},
   "outputs": [],
   "source": [
    "url = 'https://webapi.bps.go.id/v1/api/list/model/data/domain/0000/var/{0}/key/{1}/'.format(597, api_key)\n",
    "data_597 = requests.get(url).json()\n",
    "vervar_df = pd.DataFrame(data_597['vervar'])\n",
    "turvar_df = pd.DataFrame(data_597['turvar'])\n",
    "tahun_df = pd.DataFrame(data_597['tahun'])\n",
    "content_df = pd.DataFrame(data={'id': data_597['datacontent'].keys(), 'values': data_597['datacontent'].values()})\n",
    "\n",
    "content_df_1 = content_df.merge(vervar_df, how='left', left_on = content_df['id'].str[0].astype('int64'), right_on = 'val')\n",
    "content_df_2 = content_df_1.merge(tahun_df, how='left', left_on = content_df_1['id'].str[-4:-1].astype('int64'), right_on = 'val') \n",
    "content_df_3 = content_df_2.merge(turvar_df, how='left', left_on = content_df_2['id'].str[4:7].astype('int64'), right_on = 'val') \n",
    "\n",
    "data_597_df = content_df_3[['id', 'values', 'label_x', 'label_y', 'label']]\n",
    "data_597_df.columns = ['id', 'values', 'dimensi', 'tahun', 'jenis_kelamin']\n",
    "\n",
    "data_597_df['data_title'] =  data_597['var'][0]['label']\n",
    "\n",
    "data_597_df.to_csv('polkam_597.csv', index=False)"
   ]
  },
  {
   "attachments": {},
   "cell_type": "markdown",
   "metadata": {},
   "source": [
    "## 598"
   ]
  },
  {
   "cell_type": "code",
   "execution_count": 27,
   "metadata": {},
   "outputs": [],
   "source": [
    "url = 'https://webapi.bps.go.id/v1/api/list/model/data/domain/0000/var/{0}/key/{1}/'.format(598, api_key)\n",
    "data_598 = requests.get(url).json()\n",
    "vervar_df = pd.DataFrame(data_598['vervar'])\n",
    "turvar_df = pd.DataFrame(data_598['turvar'])\n",
    "tahun_df = pd.DataFrame(data_598['tahun'])\n",
    "content_df = pd.DataFrame(data={'id': data_598['datacontent'].keys(), 'values': data_598['datacontent'].values()})\n",
    "\n",
    "content_df_1 = content_df.merge(vervar_df, how='left', left_on = content_df['id'].str[0].astype('int64'), right_on = 'val')\n",
    "content_df_2 = content_df_1.merge(tahun_df, how='left', left_on = content_df_1['id'].str[-4:-1].astype('int64'), right_on = 'val') \n",
    "content_df_3 = content_df_2.merge(turvar_df, how='left', left_on = content_df_2['id'].str[4:7].astype('int64'), right_on = 'val') \n",
    "\n",
    "data_598_df = content_df_3[['id', 'values', 'label_x', 'label_y', 'label']]\n",
    "data_598_df.columns = ['id', 'values', 'dimensi', 'tahun', 'jenis_kelamin']\n",
    "\n",
    "data_598_df['data_title'] =  data_598['var'][0]['label']\n",
    "\n",
    "data_598_df.to_csv('polkam_598.csv', index=False)"
   ]
  },
  {
   "attachments": {},
   "cell_type": "markdown",
   "metadata": {},
   "source": [
    "## 599"
   ]
  },
  {
   "cell_type": "code",
   "execution_count": 28,
   "metadata": {},
   "outputs": [],
   "source": [
    "url = 'https://webapi.bps.go.id/v1/api/list/model/data/domain/0000/var/{0}/key/{1}/'.format(599, api_key)\n",
    "data_599 = requests.get(url).json()\n",
    "vervar_df = pd.DataFrame(data_599['vervar'])\n",
    "turvar_df = pd.DataFrame(data_599['turvar'])\n",
    "tahun_df = pd.DataFrame(data_599['tahun'])\n",
    "content_df = pd.DataFrame(data={'id': data_599['datacontent'].keys(), 'values': data_599['datacontent'].values()})\n",
    "\n",
    "content_df_1 = content_df.merge(vervar_df, how='left', left_on = content_df['id'].str[0:4].astype('int64'), right_on = 'val')\n",
    "content_df_2 = content_df_1.merge(tahun_df, how='left', left_on = content_df_1['id'].str[-4:-1].astype('int64'), right_on = 'val') \n",
    "content_df_3 = content_df_2.merge(turvar_df, how='left', left_on = content_df_2['id'].str[-7:-4].astype('int64'), right_on = 'val') \n",
    "\n",
    "data_599_df = content_df_3[['id', 'values', 'label_x', 'label_y', 'label']]\n",
    "data_599_df.columns = ['id', 'values', 'provinsi', 'tahun', 'aspek']\n",
    "\n",
    "data_599_df['data_title'] =  data_599['var'][0]['label']\n",
    "\n",
    "data_599_df.to_csv('polkam_599.csv', index=False)"
   ]
  },
  {
   "attachments": {},
   "cell_type": "markdown",
   "metadata": {},
   "source": [
    "## 601"
   ]
  },
  {
   "cell_type": "code",
   "execution_count": 29,
   "metadata": {},
   "outputs": [],
   "source": [
    "url = 'https://webapi.bps.go.id/v1/api/list/model/data/domain/0000/var/{0}/key/{1}/'.format(601, api_key)\n",
    "data_601 = requests.get(url).json()\n",
    "vervar_df = pd.DataFrame(data_601['vervar'])\n",
    "tahun_df = pd.DataFrame(data_601['tahun'])\n",
    "content_df = pd.DataFrame(data={'id': data_601['datacontent'].keys(), 'values': data_601['datacontent'].values()})\n",
    "\n",
    "content_df_1 = content_df.merge(vervar_df, how='left', left_on = content_df['id'].str[0:4].astype('int64'), right_on = 'val')\n",
    "content_df_2 = content_df_1.merge(tahun_df, how='left', left_on = content_df_1['id'].str[-4:-1].astype('int64'), right_on = 'val') \n",
    "\n",
    "data_601_df = content_df_2[['id', 'values', 'label_x', 'label_y']]\n",
    "data_601_df.columns = ['id', 'values', 'provinsi', 'tahun']\n",
    "\n",
    "data_601_df['data_title'] =  data_601['var'][0]['label']\n",
    "\n",
    "data_601_df.to_csv('polkam_601.csv', index=False)"
   ]
  },
  {
   "attachments": {},
   "cell_type": "markdown",
   "metadata": {},
   "source": [
    "## 602"
   ]
  },
  {
   "cell_type": "code",
   "execution_count": 30,
   "metadata": {},
   "outputs": [],
   "source": [
    "url = 'https://webapi.bps.go.id/v1/api/list/model/data/domain/0000/var/{0}/key/{1}/'.format(602, api_key)\n",
    "data_602 = requests.get(url).json()\n",
    "vervar_df = pd.DataFrame(data_602['vervar'])\n",
    "turvar_df = pd.DataFrame(data_602['turvar'])\n",
    "tahun_df = pd.DataFrame(data_602['tahun'])\n",
    "content_df = pd.DataFrame(data={'id': data_602['datacontent'].keys(), 'values': data_602['datacontent'].values()})\n",
    "\n",
    "content_df_1 = content_df.merge(vervar_df, how='left', left_on = content_df['id'].str[0:4].astype('int64'), right_on = 'val')\n",
    "content_df_2 = content_df_1.merge(turvar_df, how='left', left_on = content_df_1['id'].str[-7:-4].astype('int64'), right_on = 'val') \n",
    "\n",
    "data_602_df = content_df_2[['id', 'values', 'label_x', 'label_y']]\n",
    "data_602_df.columns = ['id', 'values', 'provinsi', 'aspek']\n",
    "\n",
    "data_602_df['data_title'] =  data_602['var'][0]['label']\n",
    "\n",
    "data_602_df.to_csv('polkam_602.csv', index=False)"
   ]
  },
  {
   "attachments": {},
   "cell_type": "markdown",
   "metadata": {},
   "source": [
    "## 604"
   ]
  },
  {
   "cell_type": "code",
   "execution_count": 31,
   "metadata": {},
   "outputs": [],
   "source": [
    "url = 'https://webapi.bps.go.id/v1/api/list/model/data/domain/0000/var/{0}/key/{1}/'.format(604, api_key)\n",
    "data_604 = requests.get(url).json()\n",
    "vervar_df = pd.DataFrame(data_604['vervar'])\n",
    "turvar_df = pd.DataFrame(data_604['turvar'])\n",
    "tahun_df = pd.DataFrame(data_604['tahun'])\n",
    "content_df = pd.DataFrame(data={'id': data_604['datacontent'].keys(), 'values': data_604['datacontent'].values()})\n",
    "\n",
    "content_df_1 = content_df.merge(vervar_df, how='left', left_on = content_df['id'].str[0].astype('int64'), right_on = 'val')\n",
    "content_df_2 = content_df_1.merge(turvar_df, how='left', left_on = content_df_1['id'].str[-4:-1].astype('int64'), right_on = 'val') \n",
    "\n",
    "data_604_df = content_df_2[['id', 'values', 'label_x', 'label_y']]\n",
    "data_604_df.columns = ['id', 'values', 'area', 'tahun']\n",
    "\n",
    "data_604_df['data_title'] =  data_604['var'][0]['label']\n",
    "\n",
    "data_604_df.to_csv('polkam_604.csv', index=False)"
   ]
  },
  {
   "attachments": {},
   "cell_type": "markdown",
   "metadata": {},
   "source": [
    "## 605"
   ]
  },
  {
   "cell_type": "code",
   "execution_count": 32,
   "metadata": {},
   "outputs": [],
   "source": [
    "url = 'https://webapi.bps.go.id/v1/api/list/model/data/domain/0000/var/{0}/key/{1}/'.format(605, api_key)\n",
    "data_605 = requests.get(url).json()\n",
    "vervar_df = pd.DataFrame(data_605['vervar'])\n",
    "turvar_df = pd.DataFrame(data_605['turvar'])\n",
    "tahun_df = pd.DataFrame(data_605['tahun'])\n",
    "content_df = pd.DataFrame(data={'id': data_605['datacontent'].keys(), 'values': data_605['datacontent'].values()})\n",
    "\n",
    "content_df_1 = content_df.merge(vervar_df, how='left', left_on = content_df['id'].str[0].astype('int64'), right_on = 'val')\n",
    "content_df_2 = content_df_1.merge(turvar_df, how='left', left_on = content_df_1['id'].str[-4:-1].astype('int64'), right_on = 'val') \n",
    "\n",
    "data_605_df = content_df_2[['id', 'values', 'label_x', 'label_y']]\n",
    "data_605_df.columns = ['id', 'values', 'jenis_kelamin', 'tahun']\n",
    "\n",
    "data_605_df['data_title'] =  data_605['var'][0]['label']\n",
    "\n",
    "data_605_df.to_csv('polkam_605.csv', index=False)"
   ]
  },
  {
   "attachments": {},
   "cell_type": "markdown",
   "metadata": {},
   "source": [
    "## 607"
   ]
  },
  {
   "cell_type": "code",
   "execution_count": 39,
   "metadata": {},
   "outputs": [],
   "source": [
    "url = 'https://webapi.bps.go.id/v1/api/list/model/data/domain/0000/var/{0}/key/{1}/'.format(607, api_key)\n",
    "data_607 = requests.get(url).json()\n",
    "vervar_df = pd.DataFrame(data_607['vervar'])\n",
    "tahun_df = pd.DataFrame(data_607['tahun'])\n",
    "content_df = pd.DataFrame(data={'id': data_607['datacontent'].keys(), 'values': data_607['datacontent'].values()})\n",
    "\n",
    "content_df_1 = content_df.merge(vervar_df, how='left', left_on = content_df['id'].str[0].astype('int64'), right_on = 'val')\n",
    "content_df_2 = content_df_1.merge(tahun_df, how='left', left_on = content_df_1['id'].str[-4:-1].astype('int64'), right_on = 'val') \n",
    "\n",
    "data_607_df = content_df_2[['id', 'values', 'label_x', 'label_y']]\n",
    "data_607_df.columns = ['id', 'values', 'status', 'tahun']\n",
    "\n",
    "data_607_df['data_title'] =  data_607['var'][0]['label']\n",
    "\n",
    "data_607_df.to_csv('polkam_607.csv', index=False)"
   ]
  },
  {
   "attachments": {},
   "cell_type": "markdown",
   "metadata": {},
   "source": [
    "## 610"
   ]
  },
  {
   "cell_type": "code",
   "execution_count": 40,
   "metadata": {},
   "outputs": [],
   "source": [
    "url = 'https://webapi.bps.go.id/v1/api/list/model/data/domain/0000/var/{0}/key/{1}/'.format(610, api_key)\n",
    "data_610 = requests.get(url).json()\n",
    "vervar_df = pd.DataFrame(data_610['vervar'])\n",
    "tahun_df = pd.DataFrame(data_610['tahun'])\n",
    "content_df = pd.DataFrame(data={'id': data_610['datacontent'].keys(), 'values': data_610['datacontent'].values()})\n",
    "\n",
    "content_df_1 = content_df.merge(vervar_df, how='left', left_on = content_df['id'].str[0].astype('int64'), right_on = 'val')\n",
    "content_df_2 = content_df_1.merge(tahun_df, how='left', left_on = content_df_1['id'].str[-4:-1].astype('int64'), right_on = 'val') \n",
    "\n",
    "data_610_df = content_df_2[['id', 'values', 'label_x', 'label_y']]\n",
    "data_610_df.columns = ['id', 'values', 'kelompok_umur', 'tahun']\n",
    "\n",
    "data_610_df['data_title'] =  data_610['var'][0]['label']\n",
    "\n",
    "data_610_df.to_csv('polkam_610.csv', index=False)"
   ]
  },
  {
   "attachments": {},
   "cell_type": "markdown",
   "metadata": {},
   "source": [
    "## 611"
   ]
  },
  {
   "cell_type": "code",
   "execution_count": 41,
   "metadata": {},
   "outputs": [],
   "source": [
    "url = 'https://webapi.bps.go.id/v1/api/list/model/data/domain/0000/var/{0}/key/{1}/'.format(611, api_key)\n",
    "data_611 = requests.get(url).json()\n",
    "vervar_df = pd.DataFrame(data_611['vervar'])\n",
    "tahun_df = pd.DataFrame(data_611['tahun'])\n",
    "content_df = pd.DataFrame(data={'id': data_611['datacontent'].keys(), 'values': data_611['datacontent'].values()})\n",
    "\n",
    "content_df_1 = content_df.merge(vervar_df, how='left', left_on = content_df['id'].str[0].astype('int64'), right_on = 'val')\n",
    "content_df_2 = content_df_1.merge(tahun_df, how='left', left_on = content_df_1['id'].str[-4:-1].astype('int64'), right_on = 'val') \n",
    "\n",
    "data_611_df = content_df_2[['id', 'values', 'label_x', 'label_y']]\n",
    "data_611_df.columns = ['id', 'values', 'kelompok_umur', 'tahun']\n",
    "\n",
    "data_611_df['data_title'] =  data_611['var'][0]['label']\n",
    "\n",
    "data_611_df.to_csv('polkam_611.csv', index=False)"
   ]
  },
  {
   "attachments": {},
   "cell_type": "markdown",
   "metadata": {},
   "source": [
    "## 613"
   ]
  },
  {
   "cell_type": "code",
   "execution_count": 42,
   "metadata": {},
   "outputs": [],
   "source": [
    "url = 'https://webapi.bps.go.id/v1/api/list/model/data/domain/0000/var/{0}/key/{1}/'.format(613, api_key)\n",
    "data_613 = requests.get(url).json()\n",
    "vervar_df = pd.DataFrame(data_613['vervar'])\n",
    "tahun_df = pd.DataFrame(data_613['tahun'])\n",
    "content_df = pd.DataFrame(data={'id': data_613['datacontent'].keys(), 'values': data_613['datacontent'].values()})\n",
    "\n",
    "content_df_1 = content_df.merge(vervar_df, how='left', left_on = content_df['id'].str[0].astype('int64'), right_on = 'val')\n",
    "content_df_2 = content_df_1.merge(tahun_df, how='left', left_on = content_df_1['id'].str[-4:-1].astype('int64'), right_on = 'val') \n",
    "\n",
    "data_613_df = content_df_2[['id', 'values', 'label_x', 'label_y']]\n",
    "data_613_df.columns = ['id', 'values', 'kelompok_umur', 'tahun']\n",
    "\n",
    "data_613_df['data_title'] =  data_613['var'][0]['label']\n",
    "\n",
    "data_613_df.to_csv('polkam_613.csv', index=False)"
   ]
  },
  {
   "attachments": {},
   "cell_type": "markdown",
   "metadata": {},
   "source": [
    "## 615"
   ]
  },
  {
   "cell_type": "code",
   "execution_count": 43,
   "metadata": {},
   "outputs": [],
   "source": [
    "url = 'https://webapi.bps.go.id/v1/api/list/model/data/domain/0000/var/{0}/key/{1}/'.format(615, api_key)\n",
    "data_615 = requests.get(url).json()\n",
    "vervar_df = pd.DataFrame(data_615['vervar'])\n",
    "tahun_df = pd.DataFrame(data_615['tahun'])\n",
    "content_df = pd.DataFrame(data={'id': data_615['datacontent'].keys(), 'values': data_615['datacontent'].values()})\n",
    "\n",
    "content_df_1 = content_df.merge(vervar_df, how='left', left_on = content_df['id'].str[0].astype('int64'), right_on = 'val')\n",
    "content_df_2 = content_df_1.merge(tahun_df, how='left', left_on = content_df_1['id'].str[-4:-1].astype('int64'), right_on = 'val') \n",
    "\n",
    "data_615_df = content_df_2[['id', 'values', 'label_x', 'label_y']]\n",
    "data_615_df.columns = ['id', 'values', 'kelompok_umur', 'tahun']\n",
    "\n",
    "data_615_df['data_title'] =  data_615['var'][0]['label']\n",
    "\n",
    "data_615_df.to_csv('polkam_615.csv', index=False)"
   ]
  },
  {
   "attachments": {},
   "cell_type": "markdown",
   "metadata": {},
   "source": [
    "## 617"
   ]
  },
  {
   "cell_type": "code",
   "execution_count": 44,
   "metadata": {},
   "outputs": [],
   "source": [
    "url = 'https://webapi.bps.go.id/v1/api/list/model/data/domain/0000/var/{0}/key/{1}/'.format(617, api_key)\n",
    "data_617 = requests.get(url).json()\n",
    "vervar_df = pd.DataFrame(data_617['vervar'])\n",
    "tahun_df = pd.DataFrame(data_617['tahun'])\n",
    "content_df = pd.DataFrame(data={'id': data_617['datacontent'].keys(), 'values': data_617['datacontent'].values()})\n",
    "\n",
    "content_df_1 = content_df.merge(vervar_df, how='left', left_on = content_df['id'].str[0].astype('int64'), right_on = 'val')\n",
    "content_df_2 = content_df_1.merge(tahun_df, how='left', left_on = content_df_1['id'].str[-4:-1].astype('int64'), right_on = 'val') \n",
    "\n",
    "data_617_df = content_df_2[['id', 'values', 'label_x', 'label_y']]\n",
    "data_617_df.columns = ['id', 'values', 'kelompok_umur', 'tahun']\n",
    "\n",
    "data_617_df['data_title'] =  data_617['var'][0]['label']\n",
    "\n",
    "data_617_df.to_csv('polkam_617.csv', index=False)"
   ]
  },
  {
   "attachments": {},
   "cell_type": "markdown",
   "metadata": {},
   "source": [
    "## 627"
   ]
  },
  {
   "cell_type": "code",
   "execution_count": 46,
   "metadata": {},
   "outputs": [],
   "source": [
    "url = 'https://webapi.bps.go.id/v1/api/list/model/data/domain/0000/var/{0}/key/{1}/'.format(627, api_key)\n",
    "data_627 = requests.get(url).json()\n",
    "vervar_df = pd.DataFrame(data_627['vervar'])\n",
    "turvar_df = pd.DataFrame(data_627['turvar'])\n",
    "tahun_df = pd.DataFrame(data_627['tahun'])\n",
    "content_df = pd.DataFrame(data={'id': data_627['datacontent'].keys(), 'values': data_627['datacontent'].values()})\n",
    "\n",
    "content_df_1 = content_df.merge(vervar_df, how='left', left_on = content_df['id'].str[0:4].astype('int64'), right_on = 'val')\n",
    "content_df_2 = content_df_1.merge(tahun_df, how='left', left_on = content_df_1['id'].str[-4:-1].astype('int64'), right_on = 'val') \n",
    "content_df_3 = content_df_2.merge(turvar_df, how='left', left_on = content_df_2['id'].str[-7:-4].astype('int64'), right_on = 'val') \n",
    "\n",
    "data_627_df = content_df_3[['id', 'values', 'label_x', 'label_y', 'label']]\n",
    "data_627_df.columns = ['id', 'values', 'provinsi', 'tahun', 'aspek']\n",
    "\n",
    "data_627_df['data_title'] =  data_627['var'][0]['label']\n",
    "\n",
    "data_627_df.to_csv('polkam_627.csv', index=False)"
   ]
  },
  {
   "attachments": {},
   "cell_type": "markdown",
   "metadata": {},
   "source": [
    "## 628"
   ]
  },
  {
   "cell_type": "code",
   "execution_count": 47,
   "metadata": {},
   "outputs": [],
   "source": [
    "url = 'https://webapi.bps.go.id/v1/api/list/model/data/domain/0000/var/{0}/key/{1}/'.format(628, api_key)\n",
    "data_628 = requests.get(url).json()\n",
    "vervar_df = pd.DataFrame(data_628['vervar'])\n",
    "turvar_df = pd.DataFrame(data_628['turvar'])\n",
    "tahun_df = pd.DataFrame(data_628['tahun'])\n",
    "content_df = pd.DataFrame(data={'id': data_628['datacontent'].keys(), 'values': data_628['datacontent'].values()})\n",
    "\n",
    "content_df_1 = content_df.merge(vervar_df, how='left', left_on = content_df['id'].str[0:4].astype('int64'), right_on = 'val')\n",
    "content_df_2 = content_df_1.merge(tahun_df, how='left', left_on = content_df_1['id'].str[-4:-1].astype('int64'), right_on = 'val') \n",
    "content_df_3 = content_df_2.merge(turvar_df, how='left', left_on = content_df_2['id'].str[-7:-4].astype('int64'), right_on = 'val') \n",
    "\n",
    "data_628_df = content_df_3[['id', 'values', 'label_x', 'label_y', 'label']]\n",
    "data_628_df.columns = ['id', 'values', 'provinsi', 'tahun', 'dimensi']\n",
    "\n",
    "data_628_df['data_title'] =  data_628['var'][0]['label']\n",
    "\n",
    "data_628_df.to_csv('polkam_628.csv', index=False)"
   ]
  },
  {
   "attachments": {},
   "cell_type": "markdown",
   "metadata": {},
   "source": [
    "## 630"
   ]
  },
  {
   "cell_type": "code",
   "execution_count": 48,
   "metadata": {},
   "outputs": [],
   "source": [
    "url = 'https://webapi.bps.go.id/v1/api/list/model/data/domain/0000/var/{0}/key/{1}/'.format(630, api_key)\n",
    "data_630 = requests.get(url).json()\n",
    "vervar_df = pd.DataFrame(data_630['vervar'])\n",
    "turvar_df = pd.DataFrame(data_630['turvar'])\n",
    "tahun_df = pd.DataFrame(data_630['tahun'])\n",
    "content_df = pd.DataFrame(data={'id': data_630['datacontent'].keys(), 'values': data_630['datacontent'].values()})\n",
    "\n",
    "content_df_1 = content_df.merge(vervar_df, how='left', left_on = content_df['id'].str[0:4].astype('int64'), right_on = 'val')\n",
    "content_df_2 = content_df_1.merge(tahun_df, how='left', left_on = content_df_1['id'].str[-4:-1].astype('int64'), right_on = 'val') \n",
    "content_df_3 = content_df_2.merge(turvar_df, how='left', left_on = content_df_2['id'].str[-7:-4].astype('int64'), right_on = 'val') \n",
    "\n",
    "data_630_df = content_df_3[['id', 'values', 'label_x', 'label_y', 'label']]\n",
    "data_630_df.columns = ['id', 'values', 'provinsi', 'tahun', 'dimensi']\n",
    "\n",
    "data_630_df['data_title'] =  data_630['var'][0]['label']\n",
    "\n",
    "data_630_df.to_csv('polkam_630.csv', index=False)"
   ]
  },
  {
   "attachments": {},
   "cell_type": "markdown",
   "metadata": {},
   "source": [
    "## 635"
   ]
  },
  {
   "cell_type": "code",
   "execution_count": 49,
   "metadata": {},
   "outputs": [],
   "source": [
    "url = 'https://webapi.bps.go.id/v1/api/list/model/data/domain/0000/var/{0}/key/{1}/'.format(635, api_key)\n",
    "data_635 = requests.get(url).json()\n",
    "vervar_df = pd.DataFrame(data_635['vervar'])\n",
    "tahun_df = pd.DataFrame(data_635['tahun'])\n",
    "content_df = pd.DataFrame(data={'id': data_635['datacontent'].keys(), 'values': data_635['datacontent'].values()})\n",
    "\n",
    "content_df_1 = content_df.merge(vervar_df, how='left', left_on = content_df['id'].str[0].astype('int64'), right_on = 'val')\n",
    "content_df_2 = content_df_1.merge(tahun_df, how='left', left_on = content_df_1['id'].str[-4:-1].astype('int64'), right_on = 'val') \n",
    "\n",
    "data_635_df = content_df_2[['id', 'values', 'label_x', 'label_y']]\n",
    "data_635_df.columns = ['id', 'values', 'dimensi', 'tahun']\n",
    "\n",
    "data_635_df['data_title'] =  data_635['var'][0]['label']\n",
    "\n",
    "data_635_df.to_csv('polkam_635.csv', index=False)"
   ]
  },
  {
   "attachments": {},
   "cell_type": "markdown",
   "metadata": {},
   "source": [
    "## 637"
   ]
  },
  {
   "cell_type": "code",
   "execution_count": 50,
   "metadata": {},
   "outputs": [],
   "source": [
    "url = 'https://webapi.bps.go.id/v1/api/list/model/data/domain/0000/var/{0}/key/{1}/'.format(637, api_key)\n",
    "data_637 = requests.get(url).json()\n",
    "vervar_df = pd.DataFrame(data_637['vervar'])\n",
    "tahun_df = pd.DataFrame(data_637['tahun'])\n",
    "content_df = pd.DataFrame(data={'id': data_637['datacontent'].keys(), 'values': data_637['datacontent'].values()})\n",
    "\n",
    "content_df['id_len'] = content_df['id'].apply(len)\n",
    "content_df['short_id'] = np.where(content_df['id_len'] == 9, content_df['id'].str[0].astype('int64'), content_df['id'].str[0:2].astype('int64'))\n",
    "\n",
    "content_df_1 = content_df.merge(vervar_df, how='left', left_on = content_df['short_id'].astype('int64'), right_on = 'val')\n",
    "content_df_2 = content_df_1.merge(tahun_df, how='left', left_on = content_df_1['id'].str[-4:-1].astype('int64'), right_on = 'val') \n",
    "\n",
    "data_637_df = content_df_2[['id', 'values', 'label_x', 'label_y']]\n",
    "data_637_df.columns = ['id', 'values', 'variabel', 'tahun']\n",
    "\n",
    "data_637_df['data_title'] =  data_637['var'][0]['label']\n",
    "\n",
    "data_637_df.to_csv('polkam_637.csv', index=False)"
   ]
  },
  {
   "attachments": {},
   "cell_type": "markdown",
   "metadata": {},
   "source": [
    "## 638"
   ]
  },
  {
   "cell_type": "code",
   "execution_count": 51,
   "metadata": {},
   "outputs": [],
   "source": [
    "url = 'https://webapi.bps.go.id/v1/api/list/model/data/domain/0000/var/{0}/key/{1}/'.format(638, api_key)\n",
    "data_638 = requests.get(url).json()\n",
    "vervar_df = pd.DataFrame(data_638['vervar'])\n",
    "tahun_df = pd.DataFrame(data_638['tahun'])\n",
    "content_df = pd.DataFrame(data={'id': data_638['datacontent'].keys(), 'values': data_638['datacontent'].values()})\n",
    "\n",
    "content_df['id_len'] = content_df['id'].apply(len)\n",
    "content_df['short_id'] = np.where(content_df['id_len'] == 9, content_df['id'].str[0].astype('int64'), content_df['id'].str[0:2].astype('int64'))\n",
    "\n",
    "content_df_1 = content_df.merge(vervar_df, how='left', left_on = content_df['short_id'].astype('int64'), right_on = 'val')\n",
    "content_df_2 = content_df_1.merge(tahun_df, how='left', left_on = content_df_1['id'].str[-4:-1].astype('int64'), right_on = 'val') \n",
    "\n",
    "data_638_df = content_df_2[['id', 'values', 'label_x', 'label_y']]\n",
    "data_638_df.columns = ['id', 'values', 'variabel', 'tahun']\n",
    "\n",
    "data_638_df['data_title'] =  data_638['var'][0]['label']\n",
    "\n",
    "data_638_df.to_csv('polkam_638.csv', index=False)"
   ]
  },
  {
   "attachments": {},
   "cell_type": "markdown",
   "metadata": {},
   "source": [
    "## 1187"
   ]
  },
  {
   "cell_type": "code",
   "execution_count": 52,
   "metadata": {},
   "outputs": [],
   "source": [
    "url = 'https://webapi.bps.go.id/v1/api/list/model/data/domain/0000/var/{0}/key/{1}/'.format(1187, api_key)\n",
    "data_1187 = requests.get(url).json()\n",
    "vervar_df = pd.DataFrame(data_1187['vervar'])\n",
    "tahun_df = pd.DataFrame(data_1187['tahun'])\n",
    "content_df = pd.DataFrame(data={'id': data_1187['datacontent'].keys(), 'values': data_1187['datacontent'].values()})\n",
    "\n",
    "content_df_1 = content_df.merge(vervar_df, how='left', left_on = content_df['id'].str[0].astype('int64'), right_on = 'val')\n",
    "content_df_2 = content_df_1.merge(tahun_df, how='left', left_on = content_df_1['id'].str[-4:-1].astype('int64'), right_on = 'val') \n",
    "\n",
    "data_1187_df = content_df_2[['id', 'values', 'label_x', 'label_y']]\n",
    "data_1187_df.columns = ['id', 'values', 'jenis_kelamin', 'tahun']\n",
    "\n",
    "data_1187_df['data_title'] =  data_1187['var'][0]['label']\n",
    "\n",
    "data_1187_df.to_csv('polkam_1187.csv', index=False)"
   ]
  },
  {
   "attachments": {},
   "cell_type": "markdown",
   "metadata": {},
   "source": [
    "## 1191"
   ]
  },
  {
   "cell_type": "code",
   "execution_count": 53,
   "metadata": {},
   "outputs": [],
   "source": [
    "url = 'https://webapi.bps.go.id/v1/api/list/model/data/domain/0000/var/{0}/key/{1}/'.format(1191, api_key)\n",
    "data_1191 = requests.get(url).json()\n",
    "vervar_df = pd.DataFrame(data_1191['vervar'])\n",
    "tahun_df = pd.DataFrame(data_1191['tahun'])\n",
    "content_df = pd.DataFrame(data={'id': data_1191['datacontent'].keys(), 'values': data_1191['datacontent'].values()})\n",
    "\n",
    "content_df_1 = content_df.merge(vervar_df, how='left', left_on = content_df['id'].str[0].astype('int64'), right_on = 'val')\n",
    "content_df_2 = content_df_1.merge(tahun_df, how='left', left_on = content_df_1['id'].str[-4:-1].astype('int64'), right_on = 'val') \n",
    "\n",
    "data_1191_df = content_df_2[['id', 'values', 'label_x', 'label_y']]\n",
    "data_1191_df.columns = ['id', 'values', 'proporsi', 'tahun']\n",
    "\n",
    "data_1191_df['data_title'] =  data_1191['var'][0]['label']\n",
    "\n",
    "data_1191_df.to_csv('polkam_1191.csv', index=False)"
   ]
  },
  {
   "attachments": {},
   "cell_type": "markdown",
   "metadata": {},
   "source": [
    "## 1240"
   ]
  },
  {
   "cell_type": "code",
   "execution_count": 54,
   "metadata": {},
   "outputs": [],
   "source": [
    "url = 'https://webapi.bps.go.id/v1/api/list/model/data/domain/0000/var/{0}/key/{1}/'.format(1240, api_key)\n",
    "data_1240 = requests.get(url).json()\n",
    "vervar_df = pd.DataFrame(data_1240['vervar'])\n",
    "tahun_df = pd.DataFrame(data_1240['tahun'])\n",
    "content_df = pd.DataFrame(data={'id': data_1240['datacontent'].keys(), 'values': data_1240['datacontent'].values()})\n",
    "\n",
    "content_df_1 = content_df.merge(vervar_df, how='left', left_on = content_df['id'].str[0].astype('int64'), right_on = 'val')\n",
    "content_df_2 = content_df_1.merge(tahun_df, how='left', left_on = content_df_1['id'].str[-4:-1].astype('int64'), right_on = 'val') \n",
    "\n",
    "data_1240_df = content_df_2[['id', 'values', 'label_x', 'label_y']]\n",
    "data_1240_df.columns = ['id', 'values', 'jenis', 'tahun']\n",
    "\n",
    "data_1240_df['data_title'] =  data_1240['var'][0]['label']\n",
    "\n",
    "data_1240_df.to_csv('polkam_1240.csv', index=False)"
   ]
  },
  {
   "attachments": {},
   "cell_type": "markdown",
   "metadata": {},
   "source": [
    "## 1252"
   ]
  },
  {
   "cell_type": "code",
   "execution_count": 55,
   "metadata": {},
   "outputs": [],
   "source": [
    "url = 'https://webapi.bps.go.id/v1/api/list/model/data/domain/0000/var/{0}/key/{1}/'.format(1252, api_key)\n",
    "data_1252 = requests.get(url).json()\n",
    "vervar_df = pd.DataFrame(data_1252['vervar'])\n",
    "tahun_df = pd.DataFrame(data_1252['tahun'])\n",
    "content_df = pd.DataFrame(data={'id': data_1252['datacontent'].keys(), 'values': data_1252['datacontent'].values()})\n",
    "\n",
    "content_df_1 = content_df.merge(vervar_df, how='left', left_on = content_df['id'].str[0].astype('int64'), right_on = 'val')\n",
    "content_df_2 = content_df_1.merge(tahun_df, how='left', left_on = content_df_1['id'].str[-4:-1].astype('int64'), right_on = 'val') \n",
    "\n",
    "data_1252_df = content_df_2[['id', 'values', 'label_x', 'label_y']]\n",
    "data_1252_df.columns = ['id', 'values', 'jenis', 'tahun']\n",
    "\n",
    "data_1252_df['data_title'] =  data_1252['var'][0]['label']\n",
    "\n",
    "data_1252_df.to_csv('polkam_1252.csv', index=False)"
   ]
  },
  {
   "attachments": {},
   "cell_type": "markdown",
   "metadata": {},
   "source": [
    "## 1253"
   ]
  },
  {
   "cell_type": "code",
   "execution_count": 56,
   "metadata": {},
   "outputs": [],
   "source": [
    "url = 'https://webapi.bps.go.id/v1/api/list/model/data/domain/0000/var/{0}/key/{1}/'.format(1253, api_key)\n",
    "data_1253 = requests.get(url).json()\n",
    "vervar_df = pd.DataFrame(data_1253['vervar'])\n",
    "tahun_df = pd.DataFrame(data_1253['tahun'])\n",
    "content_df = pd.DataFrame(data={'id': data_1253['datacontent'].keys(), 'values': data_1253['datacontent'].values()})\n",
    "\n",
    "content_df_1 = content_df.merge(vervar_df, how='left', left_on = content_df['id'].str[0].astype('int64'), right_on = 'val')\n",
    "content_df_2 = content_df_1.merge(tahun_df, how='left', left_on = content_df_1['id'].str[-4:-1].astype('int64'), right_on = 'val') \n",
    "\n",
    "data_1253_df = content_df_2[['id', 'values', 'label_x', 'label_y']]\n",
    "data_1253_df.columns = ['id', 'values', 'jenis_kelamin', 'tahun']\n",
    "\n",
    "data_1253_df['data_title'] =  data_1253['var'][0]['label']\n",
    "\n",
    "data_1253_df.to_csv('polkam_1253.csv', index=False)"
   ]
  },
  {
   "attachments": {},
   "cell_type": "markdown",
   "metadata": {},
   "source": [
    "## 1306"
   ]
  },
  {
   "cell_type": "code",
   "execution_count": 57,
   "metadata": {},
   "outputs": [],
   "source": [
    "url = 'https://webapi.bps.go.id/v1/api/list/model/data/domain/0000/var/{0}/key/{1}/'.format(1306, api_key)\n",
    "data_1306 = requests.get(url).json()\n",
    "vervar_df = pd.DataFrame(data_1306['vervar'])\n",
    "tahun_df = pd.DataFrame(data_1306['tahun'])\n",
    "content_df = pd.DataFrame(data={'id': data_1306['datacontent'].keys(), 'values': data_1306['datacontent'].values()})\n",
    "\n",
    "content_df_1 = content_df.merge(vervar_df, how='left', left_on = content_df['id'].str[0].astype('int64'), right_on = 'val')\n",
    "content_df_2 = content_df_1.merge(tahun_df, how='left', left_on = content_df_1['id'].str[-4:-1].astype('int64'), right_on = 'val') \n",
    "\n",
    "data_1306_df = content_df_2[['id', 'values', 'label_x', 'label_y']]\n",
    "data_1306_df.columns = ['id', 'values', 'variabel', 'tahun']\n",
    "\n",
    "data_1306_df['data_title'] =  data_1306['var'][0]['label']\n",
    "\n",
    "data_1306_df.to_csv('polkam_1306.csv', index=False)"
   ]
  },
  {
   "attachments": {},
   "cell_type": "markdown",
   "metadata": {},
   "source": [
    "## 1308"
   ]
  },
  {
   "cell_type": "code",
   "execution_count": 58,
   "metadata": {},
   "outputs": [],
   "source": [
    "url = 'https://webapi.bps.go.id/v1/api/list/model/data/domain/0000/var/{0}/key/{1}/'.format(1308, api_key)\n",
    "data_1308 = requests.get(url).json()\n",
    "vervar_df = pd.DataFrame(data_1308['vervar'])\n",
    "tahun_df = pd.DataFrame(data_1308['tahun'])\n",
    "content_df = pd.DataFrame(data={'id': data_1308['datacontent'].keys(), 'values': data_1308['datacontent'].values()})\n",
    "\n",
    "content_df_1 = content_df.merge(vervar_df, how='left', left_on = content_df['id'].str[0].astype('int64'), right_on = 'val')\n",
    "content_df_2 = content_df_1.merge(tahun_df, how='left', left_on = content_df_1['id'].str[-4:-1].astype('int64'), right_on = 'val') \n",
    "\n",
    "data_1308_df = content_df_2[['id', 'values', 'label_x', 'label_y']]\n",
    "data_1308_df.columns = ['id', 'values', 'variabel', 'tahun']\n",
    "\n",
    "data_1308_df['data_title'] =  data_1308['var'][0]['label']\n",
    "\n",
    "data_1308_df.to_csv('polkam_1308.csv', index=False)"
   ]
  },
  {
   "attachments": {},
   "cell_type": "markdown",
   "metadata": {},
   "source": [
    "## 1309"
   ]
  },
  {
   "cell_type": "code",
   "execution_count": 59,
   "metadata": {},
   "outputs": [],
   "source": [
    "url = 'https://webapi.bps.go.id/v1/api/list/model/data/domain/0000/var/{0}/key/{1}/'.format(1309, api_key)\n",
    "data_1309 = requests.get(url).json()\n",
    "vervar_df = pd.DataFrame(data_1309['vervar'])\n",
    "tahun_df = pd.DataFrame(data_1309['tahun'])\n",
    "content_df = pd.DataFrame(data={'id': data_1309['datacontent'].keys(), 'values': data_1309['datacontent'].values()})\n",
    "\n",
    "content_df_1 = content_df.merge(vervar_df, how='left', left_on = content_df['id'].str[0].astype('int64'), right_on = 'val')\n",
    "content_df_2 = content_df_1.merge(tahun_df, how='left', left_on = content_df_1['id'].str[-4:-1].astype('int64'), right_on = 'val') \n",
    "\n",
    "data_1309_df = content_df_2[['id', 'values', 'label_x', 'label_y']]\n",
    "data_1309_df.columns = ['id', 'values', 'variabel', 'tahun']\n",
    "\n",
    "data_1309_df['data_title'] =  data_1309['var'][0]['label']\n",
    "\n",
    "data_1309_df.to_csv('polkam_1309.csv', index=False)"
   ]
  },
  {
   "attachments": {},
   "cell_type": "markdown",
   "metadata": {},
   "source": [
    "## 1310"
   ]
  },
  {
   "cell_type": "code",
   "execution_count": 61,
   "metadata": {},
   "outputs": [],
   "source": [
    "url = 'https://webapi.bps.go.id/v1/api/list/model/data/domain/0000/var/{0}/key/{1}/'.format(1310, api_key)\n",
    "data_1310 = requests.get(url).json()\n",
    "vervar_df = pd.DataFrame(data_1310['vervar'])\n",
    "tahun_df = pd.DataFrame(data_1310['tahun'])\n",
    "content_df = pd.DataFrame(data={'id': data_1310['datacontent'].keys(), 'values': data_1310['datacontent'].values()})\n",
    "\n",
    "content_df_1 = content_df.merge(vervar_df, how='left', left_on = content_df['id'].str[0].astype('int64'), right_on = 'val')\n",
    "content_df_2 = content_df_1.merge(tahun_df, how='left', left_on = content_df_1['id'].str[-4:-1].astype('int64'), right_on = 'val') \n",
    "\n",
    "data_1310_df = content_df_2[['id', 'values', 'label_x', 'label_y']]\n",
    "data_1310_df.columns = ['id', 'values', 'variabel', 'tahun']\n",
    "\n",
    "data_1310_df['data_title'] =  data_1310['var'][0]['label']\n",
    "\n",
    "data_1310_df.to_csv('polkam_1310.csv', index=False)"
   ]
  },
  {
   "attachments": {},
   "cell_type": "markdown",
   "metadata": {},
   "source": [
    "## 1311"
   ]
  },
  {
   "cell_type": "code",
   "execution_count": 62,
   "metadata": {},
   "outputs": [],
   "source": [
    "url = 'https://webapi.bps.go.id/v1/api/list/model/data/domain/0000/var/{0}/key/{1}/'.format(1311, api_key)\n",
    "data_1311 = requests.get(url).json()\n",
    "vervar_df = pd.DataFrame(data_1311['vervar'])\n",
    "tahun_df = pd.DataFrame(data_1311['tahun'])\n",
    "content_df = pd.DataFrame(data={'id': data_1311['datacontent'].keys(), 'values': data_1311['datacontent'].values()})\n",
    "\n",
    "content_df_1 = content_df.merge(vervar_df, how='left', left_on = content_df['id'].str[0:4].astype('int64'), right_on = 'val')\n",
    "content_df_2 = content_df_1.merge(tahun_df, how='left', left_on = content_df_1['id'].str[-4:-1].astype('int64'), right_on = 'val') \n",
    "\n",
    "data_1311_df = content_df_2[['id', 'values', 'label_x', 'label_y']]\n",
    "data_1311_df.columns = ['id', 'values', 'provinsi', 'tahun']\n",
    "\n",
    "data_1311_df['data_title'] =  data_1311['var'][0]['label']\n",
    "\n",
    "data_1311_df.to_csv('polkam_1311.csv', index=False)"
   ]
  },
  {
   "attachments": {},
   "cell_type": "markdown",
   "metadata": {},
   "source": [
    "## 1312"
   ]
  },
  {
   "cell_type": "code",
   "execution_count": 63,
   "metadata": {},
   "outputs": [],
   "source": [
    "url = 'https://webapi.bps.go.id/v1/api/list/model/data/domain/0000/var/{0}/key/{1}/'.format(1312, api_key)\n",
    "data_1312 = requests.get(url).json()\n",
    "vervar_df = pd.DataFrame(data_1312['vervar'])\n",
    "tahun_df = pd.DataFrame(data_1312['tahun'])\n",
    "content_df = pd.DataFrame(data={'id': data_1312['datacontent'].keys(), 'values': data_1312['datacontent'].values()})\n",
    "\n",
    "content_df_1 = content_df.merge(vervar_df, how='left', left_on = content_df['id'].str[0:4].astype('int64'), right_on = 'val')\n",
    "content_df_2 = content_df_1.merge(tahun_df, how='left', left_on = content_df_1['id'].str[-4:-1].astype('int64'), right_on = 'val') \n",
    "\n",
    "data_1312_df = content_df_2[['id', 'values', 'label_x', 'label_y']]\n",
    "data_1312_df.columns = ['id', 'values', 'provinsi', 'tahun']\n",
    "\n",
    "data_1312_df['data_title'] =  data_1312['var'][0]['label']\n",
    "\n",
    "data_1312_df.to_csv('polkam_1312.csv', index=False)"
   ]
  },
  {
   "attachments": {},
   "cell_type": "markdown",
   "metadata": {},
   "source": [
    "## 1313"
   ]
  },
  {
   "cell_type": "code",
   "execution_count": 64,
   "metadata": {},
   "outputs": [],
   "source": [
    "url = 'https://webapi.bps.go.id/v1/api/list/model/data/domain/0000/var/{0}/key/{1}/'.format(1313, api_key)\n",
    "data_1313 = requests.get(url).json()\n",
    "vervar_df = pd.DataFrame(data_1313['vervar'])\n",
    "tahun_df = pd.DataFrame(data_1313['tahun'])\n",
    "content_df = pd.DataFrame(data={'id': data_1313['datacontent'].keys(), 'values': data_1313['datacontent'].values()})\n",
    "\n",
    "content_df_1 = content_df.merge(vervar_df, how='left', left_on = content_df['id'].str[0].astype('int64'), right_on = 'val')\n",
    "content_df_2 = content_df_1.merge(tahun_df, how='left', left_on = content_df_1['id'].str[-4:-1].astype('int64'), right_on = 'val') \n",
    "\n",
    "data_1313_df = content_df_2[['id', 'values', 'label_x', 'label_y']]\n",
    "data_1313_df.columns = ['id', 'values', 'provinsi', 'tahun']\n",
    "\n",
    "data_1313_df['data_title'] =  data_1313['var'][0]['label']\n",
    "\n",
    "data_1313_df.to_csv('polkam_1313.csv', index=False)"
   ]
  },
  {
   "attachments": {},
   "cell_type": "markdown",
   "metadata": {},
   "source": [
    "## 1314"
   ]
  },
  {
   "cell_type": "code",
   "execution_count": 65,
   "metadata": {},
   "outputs": [],
   "source": [
    "url = 'https://webapi.bps.go.id/v1/api/list/model/data/domain/0000/var/{0}/key/{1}/'.format(1314, api_key)\n",
    "data_1314 = requests.get(url).json()\n",
    "vervar_df = pd.DataFrame(data_1314['vervar'])\n",
    "tahun_df = pd.DataFrame(data_1314['tahun'])\n",
    "content_df = pd.DataFrame(data={'id': data_1314['datacontent'].keys(), 'values': data_1314['datacontent'].values()})\n",
    "\n",
    "content_df_1 = content_df.merge(vervar_df, how='left', left_on = content_df['id'].str[0].astype('int64'), right_on = 'val')\n",
    "content_df_2 = content_df_1.merge(tahun_df, how='left', left_on = content_df_1['id'].str[-4:-1].astype('int64'), right_on = 'val') \n",
    "\n",
    "data_1314_df = content_df_2[['id', 'values', 'label_x', 'label_y']]\n",
    "data_1314_df.columns = ['id', 'values', 'area', 'tahun']\n",
    "\n",
    "data_1314_df['data_title'] =  data_1314['var'][0]['label']\n",
    "\n",
    "data_1314_df.to_csv('polkam_1314.csv', index=False)"
   ]
  },
  {
   "attachments": {},
   "cell_type": "markdown",
   "metadata": {},
   "source": [
    "## 1499"
   ]
  },
  {
   "cell_type": "code",
   "execution_count": 66,
   "metadata": {},
   "outputs": [],
   "source": [
    "url = 'https://webapi.bps.go.id/v1/api/list/model/data/domain/0000/var/{0}/key/{1}/'.format(1499, api_key)\n",
    "data_1499 = requests.get(url).json()\n",
    "vervar_df = pd.DataFrame(data_1499['vervar'])\n",
    "tahun_df = pd.DataFrame(data_1499['tahun'])\n",
    "content_df = pd.DataFrame(data={'id': data_1499['datacontent'].keys(), 'values': data_1499['datacontent'].values()})\n",
    "\n",
    "content_df_1 = content_df.merge(vervar_df, how='left', left_on = content_df['id'].str[0].astype('int64'), right_on = 'val')\n",
    "content_df_2 = content_df_1.merge(tahun_df, how='left', left_on = content_df_1['id'].str[-4:-1].astype('int64'), right_on = 'val') \n",
    "\n",
    "data_1499_df = content_df_2[['id', 'values', 'label_x', 'label_y']]\n",
    "data_1499_df.columns = ['id', 'values', 'kelompok_umur', 'tahun']\n",
    "\n",
    "data_1499_df['data_title'] =  data_1499['var'][0]['label']\n",
    "\n",
    "data_1499_df.to_csv('polkam_1499.csv', index=False)"
   ]
  },
  {
   "attachments": {},
   "cell_type": "markdown",
   "metadata": {},
   "source": [
    "## 1501"
   ]
  },
  {
   "cell_type": "code",
   "execution_count": 67,
   "metadata": {},
   "outputs": [],
   "source": [
    "url = 'https://webapi.bps.go.id/v1/api/list/model/data/domain/0000/var/{0}/key/{1}/'.format(1501, api_key)\n",
    "data_1501 = requests.get(url).json()\n",
    "vervar_df = pd.DataFrame(data_1501['vervar'])\n",
    "tahun_df = pd.DataFrame(data_1501['tahun'])\n",
    "content_df = pd.DataFrame(data={'id': data_1501['datacontent'].keys(), 'values': data_1501['datacontent'].values()})\n",
    "\n",
    "content_df_1 = content_df.merge(vervar_df, how='left', left_on = content_df['id'].str[0].astype('int64'), right_on = 'val')\n",
    "content_df_2 = content_df_1.merge(tahun_df, how='left', left_on = content_df_1['id'].str[-4:-1].astype('int64'), right_on = 'val') \n",
    "\n",
    "data_1501_df = content_df_2[['id', 'values', 'label_x', 'label_y']]\n",
    "data_1501_df.columns = ['id', 'values', 'kelompok_umur', 'tahun']\n",
    "\n",
    "data_1501_df['data_title'] =  data_1501['var'][0]['label']\n",
    "\n",
    "data_1501_df.to_csv('polkam_1501.csv', index=False)"
   ]
  },
  {
   "attachments": {},
   "cell_type": "markdown",
   "metadata": {},
   "source": [
    "## 1504"
   ]
  },
  {
   "cell_type": "code",
   "execution_count": 68,
   "metadata": {},
   "outputs": [],
   "source": [
    "url = 'https://webapi.bps.go.id/v1/api/list/model/data/domain/0000/var/{0}/key/{1}/'.format(1504, api_key)\n",
    "data_1504 = requests.get(url).json()\n",
    "vervar_df = pd.DataFrame(data_1504['vervar'])\n",
    "tahun_df = pd.DataFrame(data_1504['tahun'])\n",
    "content_df = pd.DataFrame(data={'id': data_1504['datacontent'].keys(), 'values': data_1504['datacontent'].values()})\n",
    "\n",
    "content_df_1 = content_df.merge(vervar_df, how='left', left_on = content_df['id'].str[0].astype('int64'), right_on = 'val')\n",
    "content_df_2 = content_df_1.merge(tahun_df, how='left', left_on = content_df_1['id'].str[-4:-1].astype('int64'), right_on = 'val') \n",
    "\n",
    "data_1504_df = content_df_2[['id', 'values', 'label_x', 'label_y']]\n",
    "data_1504_df.columns = ['id', 'values', 'jenjang', 'tahun']\n",
    "\n",
    "data_1504_df['data_title'] =  data_1504['var'][0]['label']\n",
    "\n",
    "data_1504_df.to_csv('polkam_1504.csv', index=False)"
   ]
  },
  {
   "attachments": {},
   "cell_type": "markdown",
   "metadata": {},
   "source": [
    "## 1823"
   ]
  },
  {
   "cell_type": "code",
   "execution_count": 69,
   "metadata": {},
   "outputs": [],
   "source": [
    "url = 'https://webapi.bps.go.id/v1/api/list/model/data/domain/0000/var/{0}/key/{1}/'.format(1823, api_key)\n",
    "data_1823 = requests.get(url).json()\n",
    "vervar_df = pd.DataFrame(data_1823['vervar'])\n",
    "turvar_df = pd.DataFrame(data_1823['turvar'])\n",
    "tahun_df = pd.DataFrame(data_1823['tahun'])\n",
    "content_df = pd.DataFrame(data={'id': data_1823['datacontent'].keys(), 'values': data_1823['datacontent'].values()})\n",
    "\n",
    "content_df_1 = content_df.merge(vervar_df, how='left', left_on = content_df['id'].str[0].astype('int64'), right_on = 'val')\n",
    "content_df_2 = content_df_1.merge(tahun_df, how='left', left_on = content_df_1['id'].str[-4:-1].astype('int64'), right_on = 'val') \n",
    "content_df_3 = content_df_2.merge(turvar_df, how='left', left_on = content_df_2['id'].str[-8:-4].astype('int64'), right_on = 'val') \n",
    "\n",
    "data_1823_df = content_df_3[['id', 'values', 'label_x', 'label_y', 'label']]\n",
    "data_1823_df.columns = ['id', 'values', 'jenis_pelayanan', 'tahun', 'jenis_angka']\n",
    "\n",
    "data_1823_df['data_title'] =  data_1823['var'][0]['label']\n",
    "\n",
    "data_1823_df.to_csv('polkam_1823.csv', index=False)"
   ]
  },
  {
   "attachments": {},
   "cell_type": "markdown",
   "metadata": {},
   "source": [
    "## 2159"
   ]
  },
  {
   "cell_type": "code",
   "execution_count": 70,
   "metadata": {},
   "outputs": [],
   "source": [
    "url = 'https://webapi.bps.go.id/v1/api/list/model/data/domain/0000/var/{0}/key/{1}/'.format(2159, api_key)\n",
    "data_2159 = requests.get(url).json()\n",
    "vervar_df = pd.DataFrame(data_2159['vervar'])\n",
    "tahun_df = pd.DataFrame(data_2159['tahun'])\n",
    "content_df = pd.DataFrame(data={'id': data_2159['datacontent'].keys(), 'values': data_2159['datacontent'].values()})\n",
    "\n",
    "content_df['id_len'] = content_df['id'].apply(len)\n",
    "content_df['short_id'] = np.where(content_df['id_len'] == 10, content_df['id'].str[0].astype('int64'), content_df['id'].str[0:2].astype('int64'))\n",
    "\n",
    "content_df_1 = content_df.merge(vervar_df, how='left', left_on = content_df['short_id'].astype('int64'), right_on = 'val')\n",
    "content_df_2 = content_df_1.merge(tahun_df, how='left', left_on = content_df_1['id'].str[-4:-1].astype('int64'), right_on = 'val') \n",
    "\n",
    "data_2159_df = content_df_2[['id', 'values', 'label_x', 'label_y']]\n",
    "data_2159_df.columns = ['id', 'values', 'provinsi', 'tahun']\n",
    "\n",
    "data_2159_df['data_title'] =  data_2159['var'][0]['label']\n",
    "\n",
    "data_2159_df.to_csv('polkam_2159.csv', index=False)"
   ]
  },
  {
   "attachments": {},
   "cell_type": "markdown",
   "metadata": {},
   "source": [
    "## 2160"
   ]
  },
  {
   "cell_type": "code",
   "execution_count": 75,
   "metadata": {},
   "outputs": [],
   "source": [
    "url = 'https://webapi.bps.go.id/v1/api/list/model/data/domain/0000/var/{0}/key/{1}/'.format(2160, api_key)\n",
    "data_2160 = requests.get(url).json()\n",
    "vervar_df = pd.DataFrame(data_2160['vervar'])\n",
    "tahun_df = pd.DataFrame(data_2160['tahun'])\n",
    "content_df = pd.DataFrame(data={'id': data_2160['datacontent'].keys(), 'values': data_2160['datacontent'].values()})\n",
    "\n",
    "content_df['id_len'] = content_df['id'].apply(len)\n",
    "content_df['short_id'] = np.where(content_df['id_len'] == 13, content_df['id'].str[0].astype('int64'), content_df['id'].str[0:2].astype('int64'))\n",
    "\n",
    "content_df_1 = content_df.merge(vervar_df, how='left', left_on = content_df['short_id'].astype('int64'), right_on = 'val')\n",
    "content_df_2 = content_df_1.merge(tahun_df, how='left', left_on = content_df_1['id'].str[-4:-1].astype('int64'), right_on = 'val') \n",
    "\n",
    "data_2160_df = content_df_2[['id', 'values', 'label_x', 'label_y']]\n",
    "data_2160_df.columns = ['id', 'values', 'aspek', 'tahun']\n",
    "\n",
    "data_2160_df['data_title'] =  data_2160['var'][0]['label']\n",
    "\n",
    "data_2160_df.to_csv('polkam_2160.csv', index=False)"
   ]
  },
  {
   "attachments": {},
   "cell_type": "markdown",
   "metadata": {},
   "source": [
    "## 2161"
   ]
  },
  {
   "cell_type": "code",
   "execution_count": 72,
   "metadata": {},
   "outputs": [],
   "source": [
    "url = 'https://webapi.bps.go.id/v1/api/list/model/data/domain/0000/var/{0}/key/{1}/'.format(2161, api_key)\n",
    "data_2161 = requests.get(url).json()\n",
    "vervar_df = pd.DataFrame(data_2161['vervar'])\n",
    "tahun_df = pd.DataFrame(data_2161['tahun'])\n",
    "content_df = pd.DataFrame(data={'id': data_2161['datacontent'].keys(), 'values': data_2161['datacontent'].values()})\n",
    "\n",
    "content_df_1 = content_df.merge(vervar_df, how='left', left_on = content_df['id'].str[0].astype('int64'), right_on = 'val')\n",
    "content_df_2 = content_df_1.merge(tahun_df, how='left', left_on = content_df_1['id'].str[-4:-1].astype('int64'), right_on = 'val') \n",
    "\n",
    "data_2161_df = content_df_2[['id', 'values', 'label_x', 'label_y']]\n",
    "data_2161_df.columns = ['id', 'values', 'jenis_index', 'tahun']\n",
    "\n",
    "data_2161_df['data_title'] =  data_2161['var'][0]['label']\n",
    "\n",
    "data_2161_df.to_csv('polkam_2161.csv', index=False)"
   ]
  },
  {
   "attachments": {},
   "cell_type": "markdown",
   "metadata": {},
   "source": [
    "## 2162"
   ]
  },
  {
   "cell_type": "code",
   "execution_count": 73,
   "metadata": {},
   "outputs": [],
   "source": [
    "url = 'https://webapi.bps.go.id/v1/api/list/model/data/domain/0000/var/{0}/key/{1}/'.format(2162, api_key)\n",
    "data_2162 = requests.get(url).json()\n",
    "vervar_df = pd.DataFrame(data_2162['vervar'])\n",
    "turvar_df = pd.DataFrame(data_2162['turvar'])\n",
    "tahun_df = pd.DataFrame(data_2162['tahun'])\n",
    "content_df = pd.DataFrame(data={'id': data_2162['datacontent'].keys(), 'values': data_2162['datacontent'].values()})\n",
    "\n",
    "content_df_1 = content_df.merge(vervar_df, how='left', left_on = content_df['id'].str[0].astype('int64'), right_on = 'val')\n",
    "content_df_2 = content_df_1.merge(turvar_df, how='left', left_on = content_df_1['id'].str[-8:-4].astype('int64'), right_on = 'val') \n",
    "content_df_3 = content_df_2.merge(tahun_df, how='left', left_on = content_df_1['id'].str[-4:-1].astype('int64'), right_on = 'val') \n",
    "\n",
    "data_2162_df = content_df_3[['id', 'values', 'label_x', 'label_y', 'label']]\n",
    "data_2162_df.columns = ['id', 'values', 'jenis_index', 'aspek', 'tahun']\n",
    "\n",
    "data_2162_df['data_title'] =  data_2162['var'][0]['label']\n",
    "\n",
    "data_2162_df.to_csv('polkam_2162.csv', index=False)"
   ]
  },
  {
   "attachments": {},
   "cell_type": "markdown",
   "metadata": {},
   "source": [
    "## 2163"
   ]
  },
  {
   "cell_type": "code",
   "execution_count": 77,
   "metadata": {},
   "outputs": [],
   "source": [
    "url = 'https://webapi.bps.go.id/v1/api/list/model/data/domain/0000/var/{0}/key/{1}/'.format(2163, api_key)\n",
    "data_2163 = requests.get(url).json()\n",
    "vervar_df = pd.DataFrame(data_2163['vervar'])\n",
    "tahun_df = pd.DataFrame(data_2163['tahun'])\n",
    "content_df = pd.DataFrame(data={'id': data_2163['datacontent'].keys(), 'values': data_2163['datacontent'].values()})\n",
    "\n",
    "content_df['id_len'] = content_df['id'].apply(len)\n",
    "content_df['short_id'] = np.where(content_df['id_len'] == 10, content_df['id'].str[0].astype('int64'), content_df['id'].str[0:2].astype('int64'))\n",
    "\n",
    "content_df_1 = content_df.merge(vervar_df, how='left', left_on = content_df['short_id'].astype('int64'), right_on = 'val')\n",
    "content_df_2 = content_df_1.merge(tahun_df, how='left', left_on = content_df_1['id'].str[-4:-1].astype('int64'), right_on = 'val') \n",
    "\n",
    "data_2163_df = content_df_2[['id', 'values', 'label_x', 'label_y']]\n",
    "data_2163_df.columns = ['id', 'values', 'aspek', 'tahun']\n",
    "\n",
    "data_2163_df['data_title'] =  data_2163['var'][0]['label']\n",
    "\n",
    "data_2163_df.to_csv('polkam_2163.csv', index=False)"
   ]
  },
  {
   "attachments": {},
   "cell_type": "markdown",
   "metadata": {},
   "source": [
    "## 2164"
   ]
  },
  {
   "cell_type": "code",
   "execution_count": 78,
   "metadata": {},
   "outputs": [],
   "source": [
    "url = 'https://webapi.bps.go.id/v1/api/list/model/data/domain/0000/var/{0}/key/{1}/'.format(2164, api_key)\n",
    "data_2164 = requests.get(url).json()\n",
    "vervar_df = pd.DataFrame(data_2164['vervar'])\n",
    "tahun_df = pd.DataFrame(data_2164['tahun'])\n",
    "content_df = pd.DataFrame(data={'id': data_2164['datacontent'].keys(), 'values': data_2164['datacontent'].values()})\n",
    "\n",
    "content_df['id_len'] = content_df['id'].apply(len)\n",
    "content_df['short_id'] = np.where(content_df['id_len'] == 10, content_df['id'].str[0].astype('int64'), content_df['id'].str[0:2].astype('int64'))\n",
    "\n",
    "content_df_1 = content_df.merge(vervar_df, how='left', left_on = content_df['short_id'].astype('int64'), right_on = 'val')\n",
    "content_df_2 = content_df_1.merge(tahun_df, how='left', left_on = content_df_1['id'].str[-4:-1].astype('int64'), right_on = 'val') \n",
    "\n",
    "data_2164_df = content_df_2[['id', 'values', 'label_x', 'label_y']]\n",
    "data_2164_df.columns = ['id', 'values', 'aspek', 'tahun']\n",
    "\n",
    "data_2164_df['data_title'] =  data_2164['var'][0]['label']\n",
    "\n",
    "data_2164_df.to_csv('polkam_2164.csv', index=False)"
   ]
  }
 ],
 "metadata": {
  "kernelspec": {
   "display_name": "Python 3",
   "language": "python",
   "name": "python3"
  },
  "language_info": {
   "codemirror_mode": {
    "name": "ipython",
    "version": 3
   },
   "file_extension": ".py",
   "mimetype": "text/x-python",
   "name": "python",
   "nbconvert_exporter": "python",
   "pygments_lexer": "ipython3",
   "version": "3.9.7 (default, Sep 16 2021, 08:50:36) \n[Clang 10.0.0 ]"
  },
  "orig_nbformat": 4,
  "vscode": {
   "interpreter": {
    "hash": "35816621c5761e336dd9a248194022169f7368059d40153f4fc92bcc6e7b5e47"
   }
  }
 },
 "nbformat": 4,
 "nbformat_minor": 2
}
