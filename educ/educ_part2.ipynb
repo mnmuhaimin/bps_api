{
 "cells": [
  {
   "attachments": {},
   "cell_type": "markdown",
   "metadata": {},
   "source": [
    "For 1455 onward"
   ]
  },
  {
   "cell_type": "code",
   "execution_count": 1,
   "metadata": {},
   "outputs": [],
   "source": [
    "import pandas as pd\n",
    "import numpy as np\n",
    "import requests\n",
    "import warnings\n",
    "import matplotlib.pyplot as plt\n",
    "import seaborn as sns\n",
    "from matplotlib import rc\n",
    "\n",
    "warnings.filterwarnings('ignore')\n",
    "api_key = '4eda5e3af511b6d4892332948b84476c'"
   ]
  },
  {
   "attachments": {},
   "cell_type": "markdown",
   "metadata": {},
   "source": [
    "## 1455"
   ]
  },
  {
   "cell_type": "code",
   "execution_count": 2,
   "metadata": {},
   "outputs": [],
   "source": [
    "url = 'https://webapi.bps.go.id/v1/api/list/model/data/domain/0000/var/{0}/key/{1}/'.format(1455, api_key)\n",
    "data_1455 = requests.get(url).json()\n",
    "vervar_df = pd.DataFrame(data_1455['vervar'])\n",
    "turvar_df = pd.DataFrame(data_1455['turvar'])\n",
    "tahun_df = pd.DataFrame(data_1455['tahun'])\n",
    "content_df = pd.DataFrame(data={'id': data_1455['datacontent'].keys(), 'values': data_1455['datacontent'].values()})\n",
    "\n",
    "content_df_1 = content_df.merge(vervar_df, how='left', left_on = content_df['id'].str[0:4].astype('int64'), right_on = 'val')\n",
    "content_df_2 = content_df_1.merge(turvar_df, how='left', left_on = content_df_1['id'].str[-8:-4].astype('int64'), right_on = 'val') \n",
    "content_df_3 = content_df_2.merge(tahun_df, how='left', left_on = content_df_1['id'].str[-4:-1].astype('int64'), right_on = 'val') "
   ]
  },
  {
   "cell_type": "code",
   "execution_count": 4,
   "metadata": {},
   "outputs": [],
   "source": [
    "data_1455_df = content_df_3[['id', 'values', 'label_x', 'label_y', 'label']]\n",
    "data_1455_df.columns = ['id', 'values', 'area', 'jenjang', 'tahun']\n",
    "\n",
    "data_1455_df['data_title'] =  data_1455['var'][0]['label']\n",
    "\n",
    "data_1455_df.to_csv('edu_1455.csv', index=False)"
   ]
  }
 ],
 "metadata": {
  "kernelspec": {
   "display_name": "Python 3",
   "language": "python",
   "name": "python3"
  },
  "language_info": {
   "codemirror_mode": {
    "name": "ipython",
    "version": 3
   },
   "file_extension": ".py",
   "mimetype": "text/x-python",
   "name": "python",
   "nbconvert_exporter": "python",
   "pygments_lexer": "ipython3",
   "version": "3.9.7"
  },
  "orig_nbformat": 4,
  "vscode": {
   "interpreter": {
    "hash": "35816621c5761e336dd9a248194022169f7368059d40153f4fc92bcc6e7b5e47"
   }
  }
 },
 "nbformat": 4,
 "nbformat_minor": 2
}
