{
 "cells": [
  {
   "attachments": {},
   "cell_type": "markdown",
   "metadata": {},
   "source": [
    "For 1455 onward"
   ]
  },
  {
   "cell_type": "code",
   "execution_count": 1,
   "metadata": {},
   "outputs": [],
   "source": [
    "import pandas as pd\n",
    "import numpy as np\n",
    "import requests\n",
    "import warnings\n",
    "import matplotlib.pyplot as plt\n",
    "import seaborn as sns\n",
    "from matplotlib import rc\n",
    "\n",
    "warnings.filterwarnings('ignore')\n",
    "api_key = '4eda5e3af511b6d4892332948b84476c'"
   ]
  },
  {
   "attachments": {},
   "cell_type": "markdown",
   "metadata": {},
   "source": [
    "## 1455"
   ]
  },
  {
   "cell_type": "code",
   "execution_count": 2,
   "metadata": {},
   "outputs": [],
   "source": [
    "url = 'https://webapi.bps.go.id/v1/api/list/model/data/domain/0000/var/{0}/key/{1}/'.format(1455, api_key)\n",
    "data_1455 = requests.get(url).json()\n",
    "vervar_df = pd.DataFrame(data_1455['vervar'])\n",
    "turvar_df = pd.DataFrame(data_1455['turvar'])\n",
    "tahun_df = pd.DataFrame(data_1455['tahun'])\n",
    "content_df = pd.DataFrame(data={'id': data_1455['datacontent'].keys(), 'values': data_1455['datacontent'].values()})\n",
    "\n",
    "content_df_1 = content_df.merge(vervar_df, how='left', left_on = content_df['id'].str[0:4].astype('int64'), right_on = 'val')\n",
    "content_df_2 = content_df_1.merge(turvar_df, how='left', left_on = content_df_1['id'].str[-8:-4].astype('int64'), right_on = 'val') \n",
    "content_df_3 = content_df_2.merge(tahun_df, how='left', left_on = content_df_1['id'].str[-4:-1].astype('int64'), right_on = 'val') "
   ]
  },
  {
   "cell_type": "code",
   "execution_count": 4,
   "metadata": {},
   "outputs": [],
   "source": [
    "data_1455_df = content_df_3[['id', 'values', 'label_x', 'label_y', 'label']]\n",
    "data_1455_df.columns = ['id', 'values', 'area', 'jenjang', 'tahun']\n",
    "\n",
    "data_1455_df['data_title'] =  data_1455['var'][0]['label']\n",
    "\n",
    "data_1455_df.to_csv('edu_1455.csv', index=False)"
   ]
  },
  {
   "attachments": {},
   "cell_type": "markdown",
   "metadata": {},
   "source": [
    "## 1456"
   ]
  },
  {
   "cell_type": "code",
   "execution_count": 5,
   "metadata": {},
   "outputs": [],
   "source": [
    "url = 'https://webapi.bps.go.id/v1/api/list/model/data/domain/0000/var/{0}/key/{1}/'.format(1456, api_key)\n",
    "data_1456 = requests.get(url).json()\n",
    "vervar_df = pd.DataFrame(data_1456['vervar'])\n",
    "turvar_df = pd.DataFrame(data_1456['turvar'])\n",
    "tahun_df = pd.DataFrame(data_1456['tahun'])\n",
    "content_df = pd.DataFrame(data={'id': data_1456['datacontent'].keys(), 'values': data_1456['datacontent'].values()})\n",
    "\n",
    "content_df_1 = content_df.merge(vervar_df, how='left', left_on = content_df['id'].str[0].astype('int64'), right_on = 'val')\n",
    "content_df_2 = content_df_1.merge(turvar_df, how='left', left_on = content_df_1['id'].str[5:9].astype('int64'), right_on = 'val') \n",
    "content_df_3 = content_df_2.merge(tahun_df, how='left', left_on = content_df_1['id'].str[-4:-1].astype('int64'), right_on = 'val') "
   ]
  },
  {
   "cell_type": "code",
   "execution_count": 6,
   "metadata": {},
   "outputs": [],
   "source": [
    "data_1456_df = content_df_3[['id', 'values', 'label_x', 'label_y', 'label']]\n",
    "data_1456_df.columns = ['id', 'values', 'area', 'jenjang', 'tahun']\n",
    "\n",
    "data_1456_df['data_title'] =  data_1456['var'][0]['label']\n",
    "\n",
    "data_1456_df.to_csv('edu_1456.csv', index=False)"
   ]
  },
  {
   "attachments": {},
   "cell_type": "markdown",
   "metadata": {},
   "source": [
    "## 1457"
   ]
  },
  {
   "cell_type": "code",
   "execution_count": 27,
   "metadata": {},
   "outputs": [],
   "source": [
    "url = 'https://webapi.bps.go.id/v1/api/list/model/data/domain/0000/var/{0}/key/{1}/'.format(1457, api_key)\n",
    "data_1457 = requests.get(url).json()\n",
    "vervar_df = pd.DataFrame(data_1457['vervar'])\n",
    "tahun_df = pd.DataFrame(data_1457['tahun'])\n",
    "content_df = pd.DataFrame(data={'id': data_1457['datacontent'].keys(), 'values': data_1457['datacontent'].values()})\n",
    "\n",
    "content_df_1 = content_df.merge(vervar_df, how='left', left_on = content_df['id'].str[0].astype('int64'), right_on = 'val')\n",
    "content_df_2 = content_df_1.merge(tahun_df, how='left', left_on = content_df_1['id'].str[-4:-1].astype('int64'), right_on = 'val') "
   ]
  },
  {
   "cell_type": "code",
   "execution_count": 28,
   "metadata": {},
   "outputs": [],
   "source": [
    "data_1457_df = content_df_2[['id', 'values', 'label_x', 'label_y']]\n",
    "data_1457_df.columns = ['id', 'values', 'kuantil', 'tahun']\n",
    "\n",
    "data_1457_df['data_title'] =  data_1457['var'][0]['label']\n",
    "\n",
    "data_1457_df.to_csv('edu_1457.csv', index=False)"
   ]
  },
  {
   "attachments": {},
   "cell_type": "markdown",
   "metadata": {},
   "source": [
    "## 1458"
   ]
  },
  {
   "cell_type": "code",
   "execution_count": 25,
   "metadata": {},
   "outputs": [],
   "source": [
    "url = 'https://webapi.bps.go.id/v1/api/list/model/data/domain/0000/var/{0}/key/{1}/'.format(1458, api_key)\n",
    "data_1458 = requests.get(url).json()\n",
    "vervar_df = pd.DataFrame(data_1458['vervar'])\n",
    "tahun_df = pd.DataFrame(data_1458['tahun'])\n",
    "content_df = pd.DataFrame(data={'id': data_1458['datacontent'].keys(), 'values': data_1458['datacontent'].values()})\n",
    "\n",
    "content_df_1 = content_df.merge(vervar_df, how='left', left_on = content_df['id'].str[0:4].astype('int64'), right_on = 'val')\n",
    "content_df_2 = content_df_1.merge(tahun_df, how='left', left_on = content_df_1['id'].str[-4:-1].astype('int64'), right_on = 'val') "
   ]
  },
  {
   "cell_type": "code",
   "execution_count": 31,
   "metadata": {},
   "outputs": [],
   "source": [
    "data_1458_df = content_df_2[['id', 'values', 'label_x', 'label_y']]\n",
    "data_1458_df.columns = ['id', 'values', 'provinsi', 'tahun']\n",
    "\n",
    "data_1458_df['data_title'] =  data_1458['var'][0]['label']\n",
    "\n",
    "data_1458_df.to_csv('edu_1458.csv', index=False)"
   ]
  },
  {
   "attachments": {},
   "cell_type": "markdown",
   "metadata": {},
   "source": [
    "## 1459"
   ]
  },
  {
   "cell_type": "code",
   "execution_count": 32,
   "metadata": {},
   "outputs": [],
   "source": [
    "url = 'https://webapi.bps.go.id/v1/api/list/model/data/domain/0000/var/{0}/key/{1}/'.format(1459, api_key)\n",
    "data_1459 = requests.get(url).json()\n",
    "vervar_df = pd.DataFrame(data_1459['vervar'])\n",
    "tahun_df = pd.DataFrame(data_1459['tahun'])\n",
    "content_df = pd.DataFrame(data={'id': data_1459['datacontent'].keys(), 'values': data_1459['datacontent'].values()})\n",
    "\n",
    "content_df_1 = content_df.merge(vervar_df, how='left', left_on = content_df['id'].str[0].astype('int64'), right_on = 'val')\n",
    "content_df_2 = content_df_1.merge(tahun_df, how='left', left_on = content_df_1['id'].str[-4:-1].astype('int64'), right_on = 'val') \n",
    "\n",
    "data_1459_df = content_df_2[['id', 'values', 'label_x', 'label_y']]\n",
    "data_1459_df.columns = ['id', 'values', 'kuantil', 'tahun']\n",
    "\n",
    "data_1459_df['data_title'] =  data_1459['var'][0]['label']\n",
    "\n",
    "data_1459_df.to_csv('edu_1459.csv', index=False)"
   ]
  },
  {
   "attachments": {},
   "cell_type": "markdown",
   "metadata": {},
   "source": [
    "## 1460"
   ]
  },
  {
   "cell_type": "code",
   "execution_count": 33,
   "metadata": {},
   "outputs": [],
   "source": [
    "url = 'https://webapi.bps.go.id/v1/api/list/model/data/domain/0000/var/{0}/key/{1}/'.format(1460, api_key)\n",
    "data_1460 = requests.get(url).json()\n",
    "vervar_df = pd.DataFrame(data_1460['vervar'])\n",
    "tahun_df = pd.DataFrame(data_1460['tahun'])\n",
    "content_df = pd.DataFrame(data={'id': data_1460['datacontent'].keys(), 'values': data_1460['datacontent'].values()})\n",
    "\n",
    "content_df_1 = content_df.merge(vervar_df, how='left', left_on = content_df['id'].str[0].astype('int64'), right_on = 'val')\n",
    "content_df_2 = content_df_1.merge(tahun_df, how='left', left_on = content_df_1['id'].str[-4:-1].astype('int64'), right_on = 'val') \n",
    "\n",
    "data_1460_df = content_df_2[['id', 'values', 'label_x', 'label_y']]\n",
    "data_1460_df.columns = ['id', 'values', 'jenis_kelamin', 'tahun']\n",
    "\n",
    "data_1460_df['data_title'] =  data_1460['var'][0]['label']\n",
    "\n",
    "data_1460_df.to_csv('edu_1460.csv', index=False)"
   ]
  },
  {
   "attachments": {},
   "cell_type": "markdown",
   "metadata": {},
   "source": [
    "## 1461"
   ]
  },
  {
   "cell_type": "code",
   "execution_count": 34,
   "metadata": {},
   "outputs": [],
   "source": [
    "url = 'https://webapi.bps.go.id/v1/api/list/model/data/domain/0000/var/{0}/key/{1}/'.format(1461, api_key)\n",
    "data_1461 = requests.get(url).json()\n",
    "vervar_df = pd.DataFrame(data_1461['vervar'])\n",
    "tahun_df = pd.DataFrame(data_1461['tahun'])\n",
    "content_df = pd.DataFrame(data={'id': data_1461['datacontent'].keys(), 'values': data_1461['datacontent'].values()})\n",
    "\n",
    "content_df_1 = content_df.merge(vervar_df, how='left', left_on = content_df['id'].str[0].astype('int64'), right_on = 'val')\n",
    "content_df_2 = content_df_1.merge(tahun_df, how='left', left_on = content_df_1['id'].str[-4:-1].astype('int64'), right_on = 'val') \n",
    "\n",
    "data_1461_df = content_df_2[['id', 'values', 'label_x', 'label_y']]\n",
    "data_1461_df.columns = ['id', 'values', 'area', 'tahun']\n",
    "\n",
    "data_1461_df['data_title'] =  data_1461['var'][0]['label']\n",
    "\n",
    "data_1461_df.to_csv('edu_1461.csv', index=False)"
   ]
  },
  {
   "attachments": {},
   "cell_type": "markdown",
   "metadata": {},
   "source": [
    "## 1462"
   ]
  },
  {
   "cell_type": "code",
   "execution_count": 35,
   "metadata": {},
   "outputs": [],
   "source": [
    "url = 'https://webapi.bps.go.id/v1/api/list/model/data/domain/0000/var/{0}/key/{1}/'.format(1462, api_key)\n",
    "data_1462 = requests.get(url).json()\n",
    "vervar_df = pd.DataFrame(data_1462['vervar'])\n",
    "tahun_df = pd.DataFrame(data_1462['tahun'])\n",
    "content_df = pd.DataFrame(data={'id': data_1462['datacontent'].keys(), 'values': data_1462['datacontent'].values()})\n",
    "\n",
    "content_df_1 = content_df.merge(vervar_df, how='left', left_on = content_df['id'].str[0:4].astype('int64'), right_on = 'val')\n",
    "content_df_2 = content_df_1.merge(tahun_df, how='left', left_on = content_df_1['id'].str[-4:-1].astype('int64'), right_on = 'val') \n",
    "\n",
    "data_1462_df = content_df_2[['id', 'values', 'label_x', 'label_y']]\n",
    "data_1462_df.columns = ['id', 'values', 'provinsi', 'tahun']\n",
    "\n",
    "data_1462_df['data_title'] =  data_1462['var'][0]['label']\n",
    "\n",
    "data_1462_df.to_csv('edu_1462.csv', index=False)"
   ]
  },
  {
   "attachments": {},
   "cell_type": "markdown",
   "metadata": {},
   "source": [
    "## 1463"
   ]
  },
  {
   "cell_type": "code",
   "execution_count": 36,
   "metadata": {},
   "outputs": [],
   "source": [
    "url = 'https://webapi.bps.go.id/v1/api/list/model/data/domain/0000/var/{0}/key/{1}/'.format(1463, api_key)\n",
    "data_1463 = requests.get(url).json()\n",
    "vervar_df = pd.DataFrame(data_1463['vervar'])\n",
    "tahun_df = pd.DataFrame(data_1463['tahun'])\n",
    "content_df = pd.DataFrame(data={'id': data_1463['datacontent'].keys(), 'values': data_1463['datacontent'].values()})\n",
    "\n",
    "content_df_1 = content_df.merge(vervar_df, how='left', left_on = content_df['id'].str[0].astype('int64'), right_on = 'val')\n",
    "content_df_2 = content_df_1.merge(tahun_df, how='left', left_on = content_df_1['id'].str[-4:-1].astype('int64'), right_on = 'val') \n",
    "\n",
    "data_1463_df = content_df_2[['id', 'values', 'label_x', 'label_y']]\n",
    "data_1463_df.columns = ['id', 'values', 'provinsi', 'tahun']\n",
    "\n",
    "data_1463_df['data_title'] =  data_1463['var'][0]['label']\n",
    "\n",
    "data_1463_df.to_csv('edu_1463.csv', index=False)"
   ]
  },
  {
   "attachments": {},
   "cell_type": "markdown",
   "metadata": {},
   "source": [
    "## 1464"
   ]
  },
  {
   "cell_type": "code",
   "execution_count": 37,
   "metadata": {},
   "outputs": [],
   "source": [
    "url = 'https://webapi.bps.go.id/v1/api/list/model/data/domain/0000/var/{0}/key/{1}/'.format(1464, api_key)\n",
    "data_1464 = requests.get(url).json()\n",
    "vervar_df = pd.DataFrame(data_1464['vervar'])\n",
    "tahun_df = pd.DataFrame(data_1464['tahun'])\n",
    "content_df = pd.DataFrame(data={'id': data_1464['datacontent'].keys(), 'values': data_1464['datacontent'].values()})\n",
    "\n",
    "content_df_1 = content_df.merge(vervar_df, how='left', left_on = content_df['id'].str[0].astype('int64'), right_on = 'val')\n",
    "content_df_2 = content_df_1.merge(tahun_df, how='left', left_on = content_df_1['id'].str[-4:-1].astype('int64'), right_on = 'val') \n",
    "\n",
    "data_1464_df = content_df_2[['id', 'values', 'label_x', 'label_y']]\n",
    "data_1464_df.columns = ['id', 'values', 'jenis_kelamin', 'tahun']\n",
    "\n",
    "data_1464_df['data_title'] =  data_1464['var'][0]['label']\n",
    "\n",
    "data_1464_df.to_csv('edu_1464.csv', index=False)"
   ]
  },
  {
   "attachments": {},
   "cell_type": "markdown",
   "metadata": {},
   "source": [
    "## 1465"
   ]
  },
  {
   "cell_type": "code",
   "execution_count": 38,
   "metadata": {},
   "outputs": [],
   "source": [
    "url = 'https://webapi.bps.go.id/v1/api/list/model/data/domain/0000/var/{0}/key/{1}/'.format(1465, api_key)\n",
    "data_1465 = requests.get(url).json()\n",
    "vervar_df = pd.DataFrame(data_1465['vervar'])\n",
    "tahun_df = pd.DataFrame(data_1465['tahun'])\n",
    "content_df = pd.DataFrame(data={'id': data_1465['datacontent'].keys(), 'values': data_1465['datacontent'].values()})\n",
    "\n",
    "content_df_1 = content_df.merge(vervar_df, how='left', left_on = content_df['id'].str[0].astype('int64'), right_on = 'val')\n",
    "content_df_2 = content_df_1.merge(tahun_df, how='left', left_on = content_df_1['id'].str[-4:-1].astype('int64'), right_on = 'val') \n",
    "\n",
    "data_1465_df = content_df_2[['id', 'values', 'label_x', 'label_y']]\n",
    "data_1465_df.columns = ['id', 'values', 'kuantil', 'tahun']\n",
    "\n",
    "data_1465_df['data_title'] =  data_1465['var'][0]['label']\n",
    "\n",
    "data_1465_df.to_csv('edu_1465.csv', index=False)"
   ]
  },
  {
   "attachments": {},
   "cell_type": "markdown",
   "metadata": {},
   "source": [
    "## 1466"
   ]
  },
  {
   "cell_type": "code",
   "execution_count": 39,
   "metadata": {},
   "outputs": [],
   "source": [
    "url = 'https://webapi.bps.go.id/v1/api/list/model/data/domain/0000/var/{0}/key/{1}/'.format(1466, api_key)\n",
    "data_1466 = requests.get(url).json()\n",
    "vervar_df = pd.DataFrame(data_1466['vervar'])\n",
    "tahun_df = pd.DataFrame(data_1466['tahun'])\n",
    "content_df = pd.DataFrame(data={'id': data_1466['datacontent'].keys(), 'values': data_1466['datacontent'].values()})\n",
    "\n",
    "content_df_1 = content_df.merge(vervar_df, how='left', left_on = content_df['id'].str[0:4].astype('int64'), right_on = 'val')\n",
    "content_df_2 = content_df_1.merge(tahun_df, how='left', left_on = content_df_1['id'].str[-4:-1].astype('int64'), right_on = 'val') \n",
    "\n",
    "data_1466_df = content_df_2[['id', 'values', 'label_x', 'label_y']]\n",
    "data_1466_df.columns = ['id', 'values', 'provinsi', 'tahun']\n",
    "\n",
    "data_1466_df['data_title'] =  data_1466['var'][0]['label']\n",
    "\n",
    "data_1466_df.to_csv('edu_1466.csv', index=False)"
   ]
  },
  {
   "attachments": {},
   "cell_type": "markdown",
   "metadata": {},
   "source": [
    "## 1467"
   ]
  },
  {
   "cell_type": "code",
   "execution_count": 40,
   "metadata": {},
   "outputs": [],
   "source": [
    "url = 'https://webapi.bps.go.id/v1/api/list/model/data/domain/0000/var/{0}/key/{1}/'.format(1467, api_key)\n",
    "data_1467 = requests.get(url).json()\n",
    "vervar_df = pd.DataFrame(data_1467['vervar'])\n",
    "tahun_df = pd.DataFrame(data_1467['tahun'])\n",
    "content_df = pd.DataFrame(data={'id': data_1467['datacontent'].keys(), 'values': data_1467['datacontent'].values()})\n",
    "\n",
    "content_df_1 = content_df.merge(vervar_df, how='left', left_on = content_df['id'].str[0].astype('int64'), right_on = 'val')\n",
    "content_df_2 = content_df_1.merge(tahun_df, how='left', left_on = content_df_1['id'].str[-4:-1].astype('int64'), right_on = 'val') \n",
    "\n",
    "data_1467_df = content_df_2[['id', 'values', 'label_x', 'label_y']]\n",
    "data_1467_df.columns = ['id', 'values', 'area', 'tahun']\n",
    "\n",
    "data_1467_df['data_title'] =  data_1467['var'][0]['label']\n",
    "\n",
    "data_1467_df.to_csv('edu_1467.csv', index=False)"
   ]
  },
  {
   "attachments": {},
   "cell_type": "markdown",
   "metadata": {},
   "source": [
    "## 1468"
   ]
  },
  {
   "cell_type": "code",
   "execution_count": 41,
   "metadata": {},
   "outputs": [],
   "source": [
    "url = 'https://webapi.bps.go.id/v1/api/list/model/data/domain/0000/var/{0}/key/{1}/'.format(1468, api_key)\n",
    "data_1468 = requests.get(url).json()\n",
    "vervar_df = pd.DataFrame(data_1468['vervar'])\n",
    "tahun_df = pd.DataFrame(data_1468['tahun'])\n",
    "content_df = pd.DataFrame(data={'id': data_1468['datacontent'].keys(), 'values': data_1468['datacontent'].values()})\n",
    "\n",
    "content_df_1 = content_df.merge(vervar_df, how='left', left_on = content_df['id'].str[0].astype('int64'), right_on = 'val')\n",
    "content_df_2 = content_df_1.merge(tahun_df, how='left', left_on = content_df_1['id'].str[-4:-1].astype('int64'), right_on = 'val') \n",
    "\n",
    "data_1468_df = content_df_2[['id', 'values', 'label_x', 'label_y']]\n",
    "data_1468_df.columns = ['id', 'values', 'jenis_kelamin', 'tahun']\n",
    "\n",
    "data_1468_df['data_title'] =  data_1468['var'][0]['label']\n",
    "\n",
    "data_1468_df.to_csv('edu_1468.csv', index=False)"
   ]
  },
  {
   "attachments": {},
   "cell_type": "markdown",
   "metadata": {},
   "source": [
    "## 1469"
   ]
  },
  {
   "cell_type": "code",
   "execution_count": 42,
   "metadata": {},
   "outputs": [],
   "source": [
    "url = 'https://webapi.bps.go.id/v1/api/list/model/data/domain/0000/var/{0}/key/{1}/'.format(1469, api_key)\n",
    "data_1469 = requests.get(url).json()\n",
    "vervar_df = pd.DataFrame(data_1469['vervar'])\n",
    "tahun_df = pd.DataFrame(data_1469['tahun'])\n",
    "content_df = pd.DataFrame(data={'id': data_1469['datacontent'].keys(), 'values': data_1469['datacontent'].values()})\n",
    "\n",
    "content_df_1 = content_df.merge(vervar_df, how='left', left_on = content_df['id'].str[0].astype('int64'), right_on = 'val')\n",
    "content_df_2 = content_df_1.merge(tahun_df, how='left', left_on = content_df_1['id'].str[-4:-1].astype('int64'), right_on = 'val') \n",
    "\n",
    "data_1469_df = content_df_2[['id', 'values', 'label_x', 'label_y']]\n",
    "data_1469_df.columns = ['id', 'values', 'kuantil', 'tahun']\n",
    "\n",
    "data_1469_df['data_title'] =  data_1469['var'][0]['label']\n",
    "\n",
    "data_1469_df.to_csv('edu_1469.csv', index=False)"
   ]
  },
  {
   "attachments": {},
   "cell_type": "markdown",
   "metadata": {},
   "source": [
    "## 1526"
   ]
  },
  {
   "cell_type": "code",
   "execution_count": 43,
   "metadata": {},
   "outputs": [],
   "source": [
    "url = 'https://webapi.bps.go.id/v1/api/list/model/data/domain/0000/var/{0}/key/{1}/'.format(1526, api_key)\n",
    "data_1526 = requests.get(url).json()\n",
    "vervar_df = pd.DataFrame(data_1526['vervar'])\n",
    "tahun_df = pd.DataFrame(data_1526['tahun'])\n",
    "content_df = pd.DataFrame(data={'id': data_1526['datacontent'].keys(), 'values': data_1526['datacontent'].values()})\n",
    "\n",
    "content_df_1 = content_df.merge(vervar_df, how='left', left_on = content_df['id'].str[0].astype('int64'), right_on = 'val')\n",
    "content_df_2 = content_df_1.merge(tahun_df, how='left', left_on = content_df_1['id'].str[-4:-1].astype('int64'), right_on = 'val') \n",
    "\n",
    "data_1526_df = content_df_2[['id', 'values', 'label_x', 'label_y']]\n",
    "data_1526_df.columns = ['id', 'values', 'area', 'tahun']\n",
    "\n",
    "data_1526_df['data_title'] =  data_1526['var'][0]['label']\n",
    "\n",
    "data_1526_df.to_csv('edu_1526.csv', index=False)"
   ]
  },
  {
   "attachments": {},
   "cell_type": "markdown",
   "metadata": {},
   "source": [
    "## 1607"
   ]
  },
  {
   "cell_type": "code",
   "execution_count": 45,
   "metadata": {},
   "outputs": [],
   "source": [
    "url = 'https://webapi.bps.go.id/v1/api/list/model/data/domain/0000/var/{0}/key/{1}/'.format(1607, api_key)\n",
    "data_1607 = requests.get(url).json()\n",
    "vervar_df = pd.DataFrame(data_1607['vervar'])\n",
    "tahun_df = pd.DataFrame(data_1607['tahun'])\n",
    "turvar_df = pd.DataFrame(data_1607['turvar'])\n",
    "content_df = pd.DataFrame(data={'id': data_1607['datacontent'].keys(), 'values': data_1607['datacontent'].values()})\n",
    "\n",
    "content_df_1 = content_df.merge(vervar_df, how='left', left_on = content_df['id'].str[0].astype('int64'), right_on = 'val')\n",
    "content_df_2 = content_df_1.merge(turvar_df, how='left', left_on = content_df_1['id'].str[5:9].astype('int64'), right_on = 'val')\n",
    "content_df_3 = content_df_2.merge(tahun_df, how='left', left_on = content_df_2['id'].str[-4:-1].astype('int64'), right_on = 'val') "
   ]
  },
  {
   "cell_type": "code",
   "execution_count": 47,
   "metadata": {},
   "outputs": [],
   "source": [
    "data_1607_df = content_df_3[['id', 'values', 'label_x', 'label_y', 'label']]\n",
    "data_1607_df.columns = ['id', 'values', 'kuantil', 'jenjang', 'tahun']\n",
    "\n",
    "data_1607_df['data_title'] =  data_1607['var'][0]['label']\n",
    "\n",
    "data_1607_df.to_csv('edu_1607.csv', index=False)"
   ]
  },
  {
   "attachments": {},
   "cell_type": "markdown",
   "metadata": {},
   "source": [
    "## 1608"
   ]
  },
  {
   "cell_type": "code",
   "execution_count": 48,
   "metadata": {},
   "outputs": [],
   "source": [
    "url = 'https://webapi.bps.go.id/v1/api/list/model/data/domain/0000/var/{0}/key/{1}/'.format(1608, api_key)\n",
    "data_1608 = requests.get(url).json()\n",
    "vervar_df = pd.DataFrame(data_1608['vervar'])\n",
    "tahun_df = pd.DataFrame(data_1608['tahun'])\n",
    "turvar_df = pd.DataFrame(data_1608['turvar'])\n",
    "content_df = pd.DataFrame(data={'id': data_1608['datacontent'].keys(), 'values': data_1608['datacontent'].values()})\n",
    "\n",
    "content_df_1 = content_df.merge(vervar_df, how='left', left_on = content_df['id'].str[0].astype('int64'), right_on = 'val')\n",
    "content_df_2 = content_df_1.merge(turvar_df, how='left', left_on = content_df_1['id'].str[5:9].astype('int64'), right_on = 'val')\n",
    "content_df_3 = content_df_2.merge(tahun_df, how='left', left_on = content_df_2['id'].str[-4:-1].astype('int64'), right_on = 'val') "
   ]
  },
  {
   "cell_type": "code",
   "execution_count": 49,
   "metadata": {},
   "outputs": [],
   "source": [
    "data_1608_df = content_df_3[['id', 'values', 'label_x', 'label_y', 'label']]\n",
    "data_1608_df.columns = ['id', 'values', 'kuantil', 'jenjang', 'tahun']\n",
    "\n",
    "data_1608_df['data_title'] =  data_1608['var'][0]['label']\n",
    "\n",
    "data_1608_df.to_csv('edu_1608.csv', index=False)"
   ]
  },
  {
   "attachments": {},
   "cell_type": "markdown",
   "metadata": {},
   "source": [
    "## 1794"
   ]
  },
  {
   "cell_type": "code",
   "execution_count": 50,
   "metadata": {},
   "outputs": [],
   "source": [
    "url = 'https://webapi.bps.go.id/v1/api/list/model/data/domain/0000/var/{0}/key/{1}/'.format(1794, api_key)\n",
    "data_1794 = requests.get(url).json()\n",
    "vervar_df = pd.DataFrame(data_1794['vervar'])\n",
    "tahun_df = pd.DataFrame(data_1794['tahun'])\n",
    "content_df = pd.DataFrame(data={'id': data_1794['datacontent'].keys(), 'values': data_1794['datacontent'].values()})\n",
    "\n",
    "content_df_1 = content_df.merge(vervar_df, how='left', left_on = content_df['id'].str[0].astype('int64'), right_on = 'val')\n",
    "content_df_2 = content_df_1.merge(tahun_df, how='left', left_on = content_df_1['id'].str[-4:-1].astype('int64'), right_on = 'val') \n",
    "\n",
    "data_1794_df = content_df_2[['id', 'values', 'label_x', 'label_y']]\n",
    "data_1794_df.columns = ['id', 'values', 'jenjang', 'tahun']\n",
    "\n",
    "data_1794_df['data_title'] =  data_1794['var'][0]['label']\n",
    "\n",
    "data_1794_df.to_csv('edu_1794.csv', index=False)"
   ]
  },
  {
   "attachments": {},
   "cell_type": "markdown",
   "metadata": {},
   "source": [
    "## 1796"
   ]
  },
  {
   "cell_type": "code",
   "execution_count": 51,
   "metadata": {},
   "outputs": [],
   "source": [
    "url = 'https://webapi.bps.go.id/v1/api/list/model/data/domain/0000/var/{0}/key/{1}/'.format(1796, api_key)\n",
    "data_1796 = requests.get(url).json()\n",
    "vervar_df = pd.DataFrame(data_1796['vervar'])\n",
    "tahun_df = pd.DataFrame(data_1796['tahun'])\n",
    "content_df = pd.DataFrame(data={'id': data_1796['datacontent'].keys(), 'values': data_1796['datacontent'].values()})\n",
    "\n",
    "content_df_1 = content_df.merge(vervar_df, how='left', left_on = content_df['id'].str[0].astype('int64'), right_on = 'val')\n",
    "content_df_2 = content_df_1.merge(tahun_df, how='left', left_on = content_df_1['id'].str[-4:-1].astype('int64'), right_on = 'val') \n",
    "\n",
    "data_1796_df = content_df_2[['id', 'values', 'label_x', 'label_y']]\n",
    "data_1796_df.columns = ['id', 'values', 'jenjang', 'tahun']\n",
    "\n",
    "data_1796_df['data_title'] =  data_1796['var'][0]['label']\n",
    "\n",
    "data_1796_df.to_csv('edu_1796.csv', index=False)"
   ]
  },
  {
   "attachments": {},
   "cell_type": "markdown",
   "metadata": {},
   "source": [
    "## 1797"
   ]
  },
  {
   "cell_type": "code",
   "execution_count": 52,
   "metadata": {},
   "outputs": [],
   "source": [
    "url = 'https://webapi.bps.go.id/v1/api/list/model/data/domain/0000/var/{0}/key/{1}/'.format(1797, api_key)\n",
    "data_1797 = requests.get(url).json()\n",
    "vervar_df = pd.DataFrame(data_1797['vervar'])\n",
    "tahun_df = pd.DataFrame(data_1797['tahun'])\n",
    "content_df = pd.DataFrame(data={'id': data_1797['datacontent'].keys(), 'values': data_1797['datacontent'].values()})\n",
    "\n",
    "content_df_1 = content_df.merge(vervar_df, how='left', left_on = content_df['id'].str[0].astype('int64'), right_on = 'val')\n",
    "content_df_2 = content_df_1.merge(tahun_df, how='left', left_on = content_df_1['id'].str[-4:-1].astype('int64'), right_on = 'val') \n",
    "\n",
    "data_1797_df = content_df_2[['id', 'values', 'label_x', 'label_y']]\n",
    "data_1797_df.columns = ['id', 'values', 'jenjang', 'tahun']\n",
    "\n",
    "data_1797_df['data_title'] =  data_1797['var'][0]['label']\n",
    "\n",
    "data_1797_df.to_csv('edu_1797.csv', index=False)"
   ]
  },
  {
   "attachments": {},
   "cell_type": "markdown",
   "metadata": {},
   "source": [
    "## 1798"
   ]
  },
  {
   "cell_type": "code",
   "execution_count": 53,
   "metadata": {},
   "outputs": [],
   "source": [
    "url = 'https://webapi.bps.go.id/v1/api/list/model/data/domain/0000/var/{0}/key/{1}/'.format(1798, api_key)\n",
    "data_1798 = requests.get(url).json()\n",
    "vervar_df = pd.DataFrame(data_1798['vervar'])\n",
    "tahun_df = pd.DataFrame(data_1798['tahun'])\n",
    "content_df = pd.DataFrame(data={'id': data_1798['datacontent'].keys(), 'values': data_1798['datacontent'].values()})\n",
    "\n",
    "content_df_1 = content_df.merge(vervar_df, how='left', left_on = content_df['id'].str[0].astype('int64'), right_on = 'val')\n",
    "content_df_2 = content_df_1.merge(tahun_df, how='left', left_on = content_df_1['id'].str[-4:-1].astype('int64'), right_on = 'val') \n",
    "\n",
    "data_1798_df = content_df_2[['id', 'values', 'label_x', 'label_y']]\n",
    "data_1798_df.columns = ['id', 'values', 'jenjang', 'tahun']\n",
    "\n",
    "data_1798_df['data_title'] =  data_1798['var'][0]['label']\n",
    "\n",
    "data_1798_df.to_csv('edu_1798.csv', index=False)"
   ]
  },
  {
   "attachments": {},
   "cell_type": "markdown",
   "metadata": {},
   "source": [
    "## 1799"
   ]
  },
  {
   "cell_type": "code",
   "execution_count": 54,
   "metadata": {},
   "outputs": [],
   "source": [
    "url = 'https://webapi.bps.go.id/v1/api/list/model/data/domain/0000/var/{0}/key/{1}/'.format(1799, api_key)\n",
    "data_1799 = requests.get(url).json()\n",
    "vervar_df = pd.DataFrame(data_1799['vervar'])\n",
    "tahun_df = pd.DataFrame(data_1799['tahun'])\n",
    "content_df = pd.DataFrame(data={'id': data_1799['datacontent'].keys(), 'values': data_1799['datacontent'].values()})\n",
    "\n",
    "content_df_1 = content_df.merge(vervar_df, how='left', left_on = content_df['id'].str[0].astype('int64'), right_on = 'val')\n",
    "content_df_2 = content_df_1.merge(tahun_df, how='left', left_on = content_df_1['id'].str[-4:-1].astype('int64'), right_on = 'val') \n",
    "\n",
    "data_1799_df = content_df_2[['id', 'values', 'label_x', 'label_y']]\n",
    "data_1799_df.columns = ['id', 'values', 'jenjang', 'tahun']\n",
    "\n",
    "data_1799_df['data_title'] =  data_1799['var'][0]['label']\n",
    "\n",
    "data_1799_df.to_csv('edu_1799.csv', index=False)"
   ]
  },
  {
   "attachments": {},
   "cell_type": "markdown",
   "metadata": {},
   "source": [
    "## 1980"
   ]
  },
  {
   "cell_type": "code",
   "execution_count": 56,
   "metadata": {},
   "outputs": [],
   "source": [
    "url = 'https://webapi.bps.go.id/v1/api/list/model/data/domain/0000/var/{0}/key/{1}/'.format(1980, api_key)\n",
    "data_1980 = requests.get(url).json()\n",
    "vervar_df = pd.DataFrame(data_1980['vervar'])\n",
    "tahun_df = pd.DataFrame(data_1980['tahun'])\n",
    "turvar_df = pd.DataFrame(data_1980['turvar'])\n",
    "content_df = pd.DataFrame(data={'id': data_1980['datacontent'].keys(), 'values': data_1980['datacontent'].values()})\n",
    "\n",
    "content_df_1 = content_df.merge(vervar_df, how='left', left_on = content_df['id'].str[0:4].astype('int64'), right_on = 'val')\n",
    "content_df_2 = content_df_1.merge(turvar_df, how='left', left_on = content_df_1['id'].str[8:12].astype('int64'), right_on = 'val')\n",
    "content_df_3 = content_df_2.merge(tahun_df, how='left', left_on = content_df_2['id'].str[-4:-1].astype('int64'), right_on = 'val') \n",
    "\n",
    "data_1980_df = content_df_3[['id', 'values', 'label_x', 'label_y', 'label']]\n",
    "data_1980_df.columns = ['id', 'values', 'provinsi', 'jenjang', 'tahun']\n",
    "\n",
    "data_1980_df['data_title'] =  data_1980['var'][0]['label']\n",
    "\n",
    "data_1980_df.to_csv('edu_1980.csv', index=False)"
   ]
  },
  {
   "attachments": {},
   "cell_type": "markdown",
   "metadata": {},
   "source": [
    "## 1981"
   ]
  },
  {
   "cell_type": "code",
   "execution_count": 59,
   "metadata": {},
   "outputs": [],
   "source": [
    "url = 'https://webapi.bps.go.id/v1/api/list/model/data/domain/0000/var/{0}/key/{1}/'.format(1981, api_key)\n",
    "data_1981 = requests.get(url).json()\n",
    "vervar_df = pd.DataFrame(data_1981['vervar'])\n",
    "tahun_df = pd.DataFrame(data_1981['tahun'])\n",
    "turvar_df = pd.DataFrame(data_1981['turvar'])\n",
    "content_df = pd.DataFrame(data={'id': data_1981['datacontent'].keys(), 'values': data_1981['datacontent'].values()})\n",
    "\n",
    "content_df_1 = content_df.merge(vervar_df, how='left', left_on = content_df['id'].str[0].astype('int64'), right_on = 'val')\n",
    "content_df_2 = content_df_1.merge(turvar_df, how='left', left_on = content_df_1['id'].str[5:9].astype('int64'), right_on = 'val')\n",
    "content_df_3 = content_df_2.merge(tahun_df, how='left', left_on = content_df_2['id'].str[-4:-1].astype('int64'), right_on = 'val') \n",
    "\n",
    "data_1981_df = content_df_3[['id', 'values', 'label_x', 'label_y', 'label']]\n",
    "data_1981_df.columns = ['id', 'values', 'wilayah', 'jenjang', 'tahun']\n",
    "\n",
    "data_1981_df['data_title'] =  data_1981['var'][0]['label']\n",
    "\n",
    "data_1981_df.to_csv('edu_1981.csv', index=False)"
   ]
  },
  {
   "attachments": {},
   "cell_type": "markdown",
   "metadata": {},
   "source": [
    "## 1982"
   ]
  },
  {
   "cell_type": "code",
   "execution_count": 60,
   "metadata": {},
   "outputs": [],
   "source": [
    "url = 'https://webapi.bps.go.id/v1/api/list/model/data/domain/0000/var/{0}/key/{1}/'.format(1982, api_key)\n",
    "data_1982 = requests.get(url).json()\n",
    "vervar_df = pd.DataFrame(data_1982['vervar'])\n",
    "tahun_df = pd.DataFrame(data_1982['tahun'])\n",
    "turvar_df = pd.DataFrame(data_1982['turvar'])\n",
    "content_df = pd.DataFrame(data={'id': data_1982['datacontent'].keys(), 'values': data_1982['datacontent'].values()})\n",
    "\n",
    "content_df_1 = content_df.merge(vervar_df, how='left', left_on = content_df['id'].str[0].astype('int64'), right_on = 'val')\n",
    "content_df_2 = content_df_1.merge(turvar_df, how='left', left_on = content_df_1['id'].str[5:9].astype('int64'), right_on = 'val')\n",
    "content_df_3 = content_df_2.merge(tahun_df, how='left', left_on = content_df_2['id'].str[-4:-1].astype('int64'), right_on = 'val') \n",
    "\n",
    "data_1982_df = content_df_3[['id', 'values', 'label_x', 'label_y', 'label']]\n",
    "data_1982_df.columns = ['id', 'values', 'jenis_kelamin', 'jenjang', 'tahun']\n",
    "\n",
    "data_1982_df['data_title'] =  data_1982['var'][0]['label']\n",
    "\n",
    "data_1982_df.to_csv('edu_1982.csv', index=False)"
   ]
  },
  {
   "attachments": {},
   "cell_type": "markdown",
   "metadata": {},
   "source": [
    "## 1983"
   ]
  },
  {
   "cell_type": "code",
   "execution_count": 61,
   "metadata": {},
   "outputs": [],
   "source": [
    "url = 'https://webapi.bps.go.id/v1/api/list/model/data/domain/0000/var/{0}/key/{1}/'.format(1983, api_key)\n",
    "data_1983 = requests.get(url).json()\n",
    "vervar_df = pd.DataFrame(data_1983['vervar'])\n",
    "tahun_df = pd.DataFrame(data_1983['tahun'])\n",
    "turvar_df = pd.DataFrame(data_1983['turvar'])\n",
    "content_df = pd.DataFrame(data={'id': data_1983['datacontent'].keys(), 'values': data_1983['datacontent'].values()})\n",
    "\n",
    "content_df_1 = content_df.merge(vervar_df, how='left', left_on = content_df['id'].str[0].astype('int64'), right_on = 'val')\n",
    "content_df_2 = content_df_1.merge(turvar_df, how='left', left_on = content_df_1['id'].str[5:9].astype('int64'), right_on = 'val')\n",
    "content_df_3 = content_df_2.merge(tahun_df, how='left', left_on = content_df_2['id'].str[-4:-1].astype('int64'), right_on = 'val') \n",
    "\n",
    "data_1983_df = content_df_3[['id', 'values', 'label_x', 'label_y', 'label']]\n",
    "data_1983_df.columns = ['id', 'values', 'pengeluaran', 'jenjang', 'tahun']\n",
    "\n",
    "data_1983_df['data_title'] =  data_1983['var'][0]['label']\n",
    "\n",
    "data_1983_df.to_csv('edu_1983.csv', index=False)"
   ]
  },
  {
   "attachments": {},
   "cell_type": "markdown",
   "metadata": {},
   "source": [
    "## 1984"
   ]
  },
  {
   "cell_type": "code",
   "execution_count": 62,
   "metadata": {},
   "outputs": [],
   "source": [
    "url = 'https://webapi.bps.go.id/v1/api/list/model/data/domain/0000/var/{0}/key/{1}/'.format(1984, api_key)\n",
    "data_1984 = requests.get(url).json()\n",
    "vervar_df = pd.DataFrame(data_1984['vervar'])\n",
    "tahun_df = pd.DataFrame(data_1984['tahun'])\n",
    "turvar_df = pd.DataFrame(data_1984['turvar'])\n",
    "content_df = pd.DataFrame(data={'id': data_1984['datacontent'].keys(), 'values': data_1984['datacontent'].values()})\n",
    "\n",
    "content_df_1 = content_df.merge(vervar_df, how='left', left_on = content_df['id'].str[0].astype('int64'), right_on = 'val')\n",
    "content_df_2 = content_df_1.merge(turvar_df, how='left', left_on = content_df_1['id'].str[5:9].astype('int64'), right_on = 'val')\n",
    "content_df_3 = content_df_2.merge(tahun_df, how='left', left_on = content_df_2['id'].str[-4:-1].astype('int64'), right_on = 'val') \n",
    "\n",
    "data_1984_df = content_df_3[['id', 'values', 'label_x', 'label_y', 'label']]\n",
    "data_1984_df.columns = ['id', 'values', 'daerah', 'jenjang', 'tahun']\n",
    "\n",
    "data_1984_df['data_title'] =  data_1984['var'][0]['label']\n",
    "\n",
    "data_1984_df.to_csv('edu_1984.csv', index=False)"
   ]
  },
  {
   "attachments": {},
   "cell_type": "markdown",
   "metadata": {},
   "source": [
    "## 1986"
   ]
  },
  {
   "cell_type": "code",
   "execution_count": 63,
   "metadata": {},
   "outputs": [],
   "source": [
    "url = 'https://webapi.bps.go.id/v1/api/list/model/data/domain/0000/var/{0}/key/{1}/'.format(1986, api_key)\n",
    "data_1986 = requests.get(url).json()\n",
    "vervar_df = pd.DataFrame(data_1986['vervar'])\n",
    "tahun_df = pd.DataFrame(data_1986['tahun'])\n",
    "turvar_df = pd.DataFrame(data_1986['turvar'])\n",
    "content_df = pd.DataFrame(data={'id': data_1986['datacontent'].keys(), 'values': data_1986['datacontent'].values()})\n",
    "\n",
    "content_df_1 = content_df.merge(vervar_df, how='left', left_on = content_df['id'].str[0].astype('int64'), right_on = 'val')\n",
    "content_df_2 = content_df_1.merge(turvar_df, how='left', left_on = content_df_1['id'].str[5:9].astype('int64'), right_on = 'val')\n",
    "content_df_3 = content_df_2.merge(tahun_df, how='left', left_on = content_df_2['id'].str[-4:-1].astype('int64'), right_on = 'val') \n",
    "\n",
    "data_1986_df = content_df_3[['id', 'values', 'label_x', 'label_y', 'label']]\n",
    "data_1986_df.columns = ['id', 'values', 'jenis_kelamin', 'jenjang', 'tahun']\n",
    "\n",
    "data_1986_df['data_title'] =  data_1986['var'][0]['label']\n",
    "\n",
    "data_1986_df.to_csv('edu_1986.csv', index=False)"
   ]
  },
  {
   "attachments": {},
   "cell_type": "markdown",
   "metadata": {},
   "source": [
    "## 1988"
   ]
  },
  {
   "cell_type": "code",
   "execution_count": 64,
   "metadata": {},
   "outputs": [],
   "source": [
    "url = 'https://webapi.bps.go.id/v1/api/list/model/data/domain/0000/var/{0}/key/{1}/'.format(1988, api_key)\n",
    "data_1988 = requests.get(url).json()\n",
    "vervar_df = pd.DataFrame(data_1988['vervar'])\n",
    "tahun_df = pd.DataFrame(data_1988['tahun'])\n",
    "turvar_df = pd.DataFrame(data_1988['turvar'])\n",
    "content_df = pd.DataFrame(data={'id': data_1988['datacontent'].keys(), 'values': data_1988['datacontent'].values()})\n",
    "\n",
    "content_df_1 = content_df.merge(vervar_df, how='left', left_on = content_df['id'].str[0].astype('int64'), right_on = 'val')\n",
    "content_df_2 = content_df_1.merge(turvar_df, how='left', left_on = content_df_1['id'].str[5:9].astype('int64'), right_on = 'val')\n",
    "content_df_3 = content_df_2.merge(tahun_df, how='left', left_on = content_df_2['id'].str[-4:-1].astype('int64'), right_on = 'val') \n",
    "\n",
    "data_1988_df = content_df_3[['id', 'values', 'label_x', 'label_y', 'label']]\n",
    "data_1988_df.columns = ['id', 'values', 'jenis_kelamin', 'jenjang', 'tahun']\n",
    "\n",
    "data_1988_df['data_title'] =  data_1988['var'][0]['label']\n",
    "\n",
    "data_1988_df.to_csv('edu_1988.csv', index=False)"
   ]
  }
 ],
 "metadata": {
  "kernelspec": {
   "display_name": "Python 3",
   "language": "python",
   "name": "python3"
  },
  "language_info": {
   "codemirror_mode": {
    "name": "ipython",
    "version": 3
   },
   "file_extension": ".py",
   "mimetype": "text/x-python",
   "name": "python",
   "nbconvert_exporter": "python",
   "pygments_lexer": "ipython3",
   "version": "3.9.7"
  },
  "orig_nbformat": 4,
  "vscode": {
   "interpreter": {
    "hash": "35816621c5761e336dd9a248194022169f7368059d40153f4fc92bcc6e7b5e47"
   }
  }
 },
 "nbformat": 4,
 "nbformat_minor": 2
}
