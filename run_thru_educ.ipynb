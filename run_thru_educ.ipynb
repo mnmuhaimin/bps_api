{
 "cells": [
  {
   "cell_type": "code",
   "execution_count": 37,
   "metadata": {},
   "outputs": [],
   "source": [
    "import pandas as pd\n",
    "import numpy as np\n",
    "import requests\n",
    "import warnings\n",
    "import matplotlib.pyplot as plt\n",
    "import seaborn as sns\n",
    "from matplotlib import rc\n",
    "\n",
    "warnings.filterwarnings('ignore')"
   ]
  },
  {
   "cell_type": "code",
   "execution_count": 3,
   "metadata": {},
   "outputs": [],
   "source": [
    "api_key = '4eda5e3af511b6d4892332948b84476c'"
   ]
  },
  {
   "cell_type": "code",
   "execution_count": 4,
   "metadata": {},
   "outputs": [],
   "source": [
    "url = 'https://webapi.bps.go.id/v1/api/list/model/data/domain/0000/var/{0}/key/{1}/'.format(205, api_key)\n",
    "data_205 = requests.get(url).json()"
   ]
  },
  {
   "cell_type": "code",
   "execution_count": 9,
   "metadata": {},
   "outputs": [],
   "source": [
    "vervar_df = pd.DataFrame(data_205['vervar'])\n",
    "turvar_df = pd.DataFrame(data_205['turvar'])\n",
    "tahun_df = pd.DataFrame(data_205['tahun'])\n",
    "content_df = pd.DataFrame(data={'id': data_205['datacontent'].keys(), 'values': data_205['datacontent'].values() })\n",
    "\n",
    "content_df_1 = content_df.merge(vervar_df, how='left', left_on = content_df['id'].str[:4].astype('int64'), right_on = 'val')\n",
    "content_df_2 = content_df_1.merge(turvar_df, how='left', left_on = content_df_1['id'].str[7:10].astype('int64'), right_on = 'val') \n",
    "content_df_3 = content_df_2.merge(tahun_df, how='left', left_on = content_df_2['id'].str[10:13].astype('int64'), right_on = 'val') \n",
    "\n",
    "data_205_df = content_df_3[['id', 'values', 'label_x', 'label_y', 'label']]\n",
    "data_205_df.columns = ['id', 'values', 'area', 'breakdown', 'year']\n",
    "\n",
    "data_205_df['data_title'] =  data_205['var'][0]['label']\n"
   ]
  },
  {
   "cell_type": "markdown",
   "metadata": {},
   "source": [
    "# Test Looping to create new variable"
   ]
  },
  {
   "cell_type": "code",
   "execution_count": 11,
   "metadata": {},
   "outputs": [],
   "source": [
    "edu_var_id = [301,  303,  304, 1339, 1342, 1343, 1417, 1419, 1421,\n",
    "       1423, 1424, 1425, 1426, 1427, 1428, 1429, 1430, 1431, 1432, 1439,\n",
    "       1440, 1441, 1442, 1443, 1444, 1445, 1446, 1447, 1448, 1449, 1450,\n",
    "       1451, 1452, 1453, 1454, 1455, 1456, 1457, 1458, 1459, 1460, 1461,\n",
    "       1462, 1463, 1464, 1465, 1466, 1467, 1468, 1469, 1526, 1527, 1607,\n",
    "       1608, 1794, 1796, 1797, 1798, 1799, 1980, 1981, 1982, 1983, 1984,\n",
    "       1986, 1988, 1990, 1992, 1994, 1996, 1998, 2000]"
   ]
  },
  {
   "cell_type": "code",
   "execution_count": 19,
   "metadata": {},
   "outputs": [],
   "source": [
    "new_id_list = []\n",
    "df_name_list = []\n",
    "for i in edu_var_id:\n",
    "    new_id_list.append('data_' + str(i))\n",
    "\n",
    "for j in new_id_list:\n",
    "    df_name_list.append(str(j)+'_df')"
   ]
  },
  {
   "cell_type": "markdown",
   "metadata": {},
   "source": [
    "# Explore"
   ]
  },
  {
   "cell_type": "code",
   "execution_count": 138,
   "metadata": {},
   "outputs": [],
   "source": [
    "def extract_data_all(var_id):\n",
    "    url = 'https://webapi.bps.go.id/v1/api/list/model/data/domain/0000/var/{0}/key/{1}/'.format(var_id, api_key)\n",
    "    data_temp = requests.get(url).json()\n",
    "\n",
    "    vervar_df = pd.DataFrame(data_temp['vervar'])\n",
    "    turvar_df = pd.DataFrame(data_temp['turvar'])\n",
    "    tahun_df = pd.DataFrame(data_temp['tahun'])\n",
    "    content_df = pd.DataFrame(data={'id': data_temp['datacontent'].keys(), 'values': data_temp['datacontent'].values() })\n",
    "\n",
    "    content_df_1 = content_df.merge(vervar_df, how='left', left_on = content_df['id'].str[:4].astype('int64'), right_on = 'val')\n",
    "    content_df_2 = content_df_1.merge(turvar_df, how='left', left_on = content_df_1['id'].str[7:10].astype('int64'), right_on = 'val') \n",
    "    content_df_3 = content_df_2.merge(tahun_df, how='left', left_on = content_df_2['id'].str[10:13].astype('int64'), right_on = 'val') \n",
    "\n",
    "    temp_df = content_df_3[['id', 'values', 'label_x', 'label_y', 'label']]\n",
    "    temp_df.columns = ['id', 'values', 'area', 'breakdown', 'year']\n",
    "\n",
    "    temp_df['data_title'] =  data_temp['var'][0]['label']\n",
    "\n",
    "    return temp_df.to_csv('{}.csv'.format('edu_'+str(var_id)), index=False)\n"
   ]
  },
  {
   "cell_type": "markdown",
   "metadata": {},
   "source": [
    "## 102"
   ]
  },
  {
   "cell_type": "code",
   "execution_count": 29,
   "metadata": {},
   "outputs": [
    {
     "data": {
      "text/html": [
       "<div>\n",
       "<style scoped>\n",
       "    .dataframe tbody tr th:only-of-type {\n",
       "        vertical-align: middle;\n",
       "    }\n",
       "\n",
       "    .dataframe tbody tr th {\n",
       "        vertical-align: top;\n",
       "    }\n",
       "\n",
       "    .dataframe thead th {\n",
       "        text-align: right;\n",
       "    }\n",
       "</style>\n",
       "<table border=\"1\" class=\"dataframe\">\n",
       "  <thead>\n",
       "    <tr style=\"text-align: right;\">\n",
       "      <th></th>\n",
       "      <th>id</th>\n",
       "      <th>values</th>\n",
       "      <th>area</th>\n",
       "      <th>age_breakdown</th>\n",
       "      <th>year</th>\n",
       "      <th>data_title</th>\n",
       "    </tr>\n",
       "  </thead>\n",
       "  <tbody>\n",
       "    <tr>\n",
       "      <th>0</th>\n",
       "      <td>99991022321030</td>\n",
       "      <td>10.21</td>\n",
       "      <td>INDONESIA</td>\n",
       "      <td>15+</td>\n",
       "      <td>2003</td>\n",
       "      <td>Persentase Penduduk Buta Huruf</td>\n",
       "    </tr>\n",
       "    <tr>\n",
       "      <th>1</th>\n",
       "      <td>99991022321040</td>\n",
       "      <td>9.62</td>\n",
       "      <td>INDONESIA</td>\n",
       "      <td>15+</td>\n",
       "      <td>2004</td>\n",
       "      <td>Persentase Penduduk Buta Huruf</td>\n",
       "    </tr>\n",
       "    <tr>\n",
       "      <th>2</th>\n",
       "      <td>99991022321050</td>\n",
       "      <td>9.09</td>\n",
       "      <td>INDONESIA</td>\n",
       "      <td>15+</td>\n",
       "      <td>2005</td>\n",
       "      <td>Persentase Penduduk Buta Huruf</td>\n",
       "    </tr>\n",
       "    <tr>\n",
       "      <th>3</th>\n",
       "      <td>99991022321060</td>\n",
       "      <td>8.55</td>\n",
       "      <td>INDONESIA</td>\n",
       "      <td>15+</td>\n",
       "      <td>2006</td>\n",
       "      <td>Persentase Penduduk Buta Huruf</td>\n",
       "    </tr>\n",
       "    <tr>\n",
       "      <th>4</th>\n",
       "      <td>99991022321070</td>\n",
       "      <td>8.13</td>\n",
       "      <td>INDONESIA</td>\n",
       "      <td>15+</td>\n",
       "      <td>2007</td>\n",
       "      <td>Persentase Penduduk Buta Huruf</td>\n",
       "    </tr>\n",
       "  </tbody>\n",
       "</table>\n",
       "</div>"
      ],
      "text/plain": [
       "               id  values       area age_breakdown  year  \\\n",
       "0  99991022321030   10.21  INDONESIA           15+  2003   \n",
       "1  99991022321040    9.62  INDONESIA           15+  2004   \n",
       "2  99991022321050    9.09  INDONESIA           15+  2005   \n",
       "3  99991022321060    8.55  INDONESIA           15+  2006   \n",
       "4  99991022321070    8.13  INDONESIA           15+  2007   \n",
       "\n",
       "                       data_title  \n",
       "0  Persentase Penduduk Buta Huruf  \n",
       "1  Persentase Penduduk Buta Huruf  \n",
       "2  Persentase Penduduk Buta Huruf  \n",
       "3  Persentase Penduduk Buta Huruf  \n",
       "4  Persentase Penduduk Buta Huruf  "
      ]
     },
     "execution_count": 29,
     "metadata": {},
     "output_type": "execute_result"
    }
   ],
   "source": [
    "data_102 = extract_data_all(102)\n",
    "data_102.head()"
   ]
  },
  {
   "cell_type": "code",
   "execution_count": 68,
   "metadata": {},
   "outputs": [],
   "source": [
    "data_102_2021_15 = data_102.loc[(data_102['year'] == '2021') & (data_102['age_breakdown'] == '15+')]['values']\n",
    "data_102_2021_1544 = data_102.loc[(data_102['year'] == '2021') & (data_102['age_breakdown'] == '15-44')]['values']\n",
    "data_102_2021_45 = data_102.loc[(data_102['year'] == '2021') & (data_102['age_breakdown'] == '45+')]['values']\n",
    "\n",
    "data_102_2021_15_np = np.array(data_102.loc[(data_102['year'] == '2021') & (data_102['age_breakdown'] == '15+')]['values'])\n",
    "data_102_2021_1544_np = np.array(data_102.loc[(data_102['year'] == '2021') & (data_102['age_breakdown'] == '15-44')]['values'])\n",
    "data_102_2021_45_np = np.array(data_102.loc[(data_102['year'] == '2021') & (data_102['age_breakdown'] == '45+')]['values'])"
   ]
  },
  {
   "cell_type": "code",
   "execution_count": 53,
   "metadata": {},
   "outputs": [],
   "source": [
    "i = 0\n",
    "bar_list = []\n",
    "for i in range(35):\n",
    "    bar_list.append(i)"
   ]
  },
  {
   "cell_type": "code",
   "execution_count": 69,
   "metadata": {},
   "outputs": [
    {
     "data": {
      "image/png": "[encoded data removed]",
      "text/plain": [
       "<Figure size 640x480 with 1 Axes>"
      ]
     },
     "metadata": {},
     "output_type": "display_data"
    }
   ],
   "source": [
    "# Names of group and bar width\n",
    "names = data_102['area'].unique()\n",
    "barWidth = 1\n",
    "\n",
    "plt.bar(names, data_102_2021_15_np, color='r', edgecolor='white', width=barWidth)\n",
    "plt.bar(names, data_102_2021_1544_np, bottom=data_102_2021_15_np, color='b', edgecolor='white', width=barWidth)\n",
    "plt.bar(names, data_102_2021_45_np, bottom=data_102_2021_15_np+data_102_2021_1544_np, color='y', edgecolor='white', width=barWidth)\n",
    "plt.xlabel(\"Area\")\n",
    "plt.ylabel(\"% Penduduk Buta Huruf\")\n",
    "plt.legend([\"< 15\", \"15-44\", \"45++\"])\n",
    "plt.title(\"Penduduk Buta Huruf (2021)\")\n",
    "plt.show()"
   ]
  },
  {
   "cell_type": "markdown",
   "metadata": {},
   "source": [
    "nevermind, let's just use tableau"
   ]
  },
  {
   "cell_type": "code",
   "execution_count": 70,
   "metadata": {},
   "outputs": [],
   "source": [
    "data_102.to_csv('data_102.csv', index=False)"
   ]
  },
  {
   "cell_type": "markdown",
   "metadata": {},
   "source": [
    "## 205"
   ]
  },
  {
   "cell_type": "code",
   "execution_count": 73,
   "metadata": {},
   "outputs": [
    {
     "data": {
      "text/html": [
       "<div>\n",
       "<style scoped>\n",
       "    .dataframe tbody tr th:only-of-type {\n",
       "        vertical-align: middle;\n",
       "    }\n",
       "\n",
       "    .dataframe tbody tr th {\n",
       "        vertical-align: top;\n",
       "    }\n",
       "\n",
       "    .dataframe thead th {\n",
       "        text-align: right;\n",
       "    }\n",
       "</style>\n",
       "<table border=\"1\" class=\"dataframe\">\n",
       "  <thead>\n",
       "    <tr style=\"text-align: right;\">\n",
       "      <th></th>\n",
       "      <th>id</th>\n",
       "      <th>values</th>\n",
       "      <th>area</th>\n",
       "      <th>age_breakdown</th>\n",
       "      <th>year</th>\n",
       "      <th>data_title</th>\n",
       "    </tr>\n",
       "  </thead>\n",
       "  <tbody>\n",
       "    <tr>\n",
       "      <th>0</th>\n",
       "      <td>99992054411030</td>\n",
       "      <td>61566</td>\n",
       "      <td>INDONESIA</td>\n",
       "      <td>SD</td>\n",
       "      <td>2003</td>\n",
       "      <td>Jumlah Desa yang Memiliki Fasilitas Sekolah Me...</td>\n",
       "    </tr>\n",
       "    <tr>\n",
       "      <th>1</th>\n",
       "      <td>99992054411050</td>\n",
       "      <td>62658</td>\n",
       "      <td>INDONESIA</td>\n",
       "      <td>SD</td>\n",
       "      <td>2005</td>\n",
       "      <td>Jumlah Desa yang Memiliki Fasilitas Sekolah Me...</td>\n",
       "    </tr>\n",
       "    <tr>\n",
       "      <th>2</th>\n",
       "      <td>99992054411080</td>\n",
       "      <td>66627</td>\n",
       "      <td>INDONESIA</td>\n",
       "      <td>SD</td>\n",
       "      <td>2008</td>\n",
       "      <td>Jumlah Desa yang Memiliki Fasilitas Sekolah Me...</td>\n",
       "    </tr>\n",
       "    <tr>\n",
       "      <th>3</th>\n",
       "      <td>99992054411110</td>\n",
       "      <td>68350</td>\n",
       "      <td>INDONESIA</td>\n",
       "      <td>SD</td>\n",
       "      <td>2011</td>\n",
       "      <td>Jumlah Desa yang Memiliki Fasilitas Sekolah Me...</td>\n",
       "    </tr>\n",
       "    <tr>\n",
       "      <th>4</th>\n",
       "      <td>99992054411140</td>\n",
       "      <td>71205</td>\n",
       "      <td>INDONESIA</td>\n",
       "      <td>SD</td>\n",
       "      <td>2014</td>\n",
       "      <td>Jumlah Desa yang Memiliki Fasilitas Sekolah Me...</td>\n",
       "    </tr>\n",
       "  </tbody>\n",
       "</table>\n",
       "</div>"
      ],
      "text/plain": [
       "               id  values       area age_breakdown  year  \\\n",
       "0  99992054411030   61566  INDONESIA            SD  2003   \n",
       "1  99992054411050   62658  INDONESIA            SD  2005   \n",
       "2  99992054411080   66627  INDONESIA            SD  2008   \n",
       "3  99992054411110   68350  INDONESIA            SD  2011   \n",
       "4  99992054411140   71205  INDONESIA            SD  2014   \n",
       "\n",
       "                                          data_title  \n",
       "0  Jumlah Desa yang Memiliki Fasilitas Sekolah Me...  \n",
       "1  Jumlah Desa yang Memiliki Fasilitas Sekolah Me...  \n",
       "2  Jumlah Desa yang Memiliki Fasilitas Sekolah Me...  \n",
       "3  Jumlah Desa yang Memiliki Fasilitas Sekolah Me...  \n",
       "4  Jumlah Desa yang Memiliki Fasilitas Sekolah Me...  "
      ]
     },
     "execution_count": 73,
     "metadata": {},
     "output_type": "execute_result"
    }
   ],
   "source": [
    "data_205 = extract_data_all(205)\n",
    "data_205.head()"
   ]
  },
  {
   "cell_type": "code",
   "execution_count": 75,
   "metadata": {},
   "outputs": [],
   "source": [
    "data_205.to_csv('edu_205.csv', index=False)"
   ]
  },
  {
   "cell_type": "markdown",
   "metadata": {},
   "source": [
    "## 301"
   ]
  },
  {
   "cell_type": "code",
   "execution_count": 78,
   "metadata": {},
   "outputs": [
    {
     "data": {
      "text/html": [
       "<div>\n",
       "<style scoped>\n",
       "    .dataframe tbody tr th:only-of-type {\n",
       "        vertical-align: middle;\n",
       "    }\n",
       "\n",
       "    .dataframe tbody tr th {\n",
       "        vertical-align: top;\n",
       "    }\n",
       "\n",
       "    .dataframe thead th {\n",
       "        text-align: right;\n",
       "    }\n",
       "</style>\n",
       "<table border=\"1\" class=\"dataframe\">\n",
       "  <thead>\n",
       "    <tr style=\"text-align: right;\">\n",
       "      <th></th>\n",
       "      <th>id</th>\n",
       "      <th>values</th>\n",
       "      <th>area</th>\n",
       "      <th>breakdown</th>\n",
       "      <th>year</th>\n",
       "      <th>data_title</th>\n",
       "    </tr>\n",
       "  </thead>\n",
       "  <tbody>\n",
       "    <tr>\n",
       "      <th>0</th>\n",
       "      <td>99993015351030</td>\n",
       "      <td>96.42</td>\n",
       "      <td>INDONESIA</td>\n",
       "      <td>7-12</td>\n",
       "      <td>2003</td>\n",
       "      <td>Angka Partisipasi Sekolah ( A P S )</td>\n",
       "    </tr>\n",
       "    <tr>\n",
       "      <th>1</th>\n",
       "      <td>99993015351040</td>\n",
       "      <td>96.77</td>\n",
       "      <td>INDONESIA</td>\n",
       "      <td>7-12</td>\n",
       "      <td>2004</td>\n",
       "      <td>Angka Partisipasi Sekolah ( A P S )</td>\n",
       "    </tr>\n",
       "    <tr>\n",
       "      <th>2</th>\n",
       "      <td>99993015351050</td>\n",
       "      <td>97.14</td>\n",
       "      <td>INDONESIA</td>\n",
       "      <td>7-12</td>\n",
       "      <td>2005</td>\n",
       "      <td>Angka Partisipasi Sekolah ( A P S )</td>\n",
       "    </tr>\n",
       "    <tr>\n",
       "      <th>3</th>\n",
       "      <td>99993015351060</td>\n",
       "      <td>97.39</td>\n",
       "      <td>INDONESIA</td>\n",
       "      <td>7-12</td>\n",
       "      <td>2006</td>\n",
       "      <td>Angka Partisipasi Sekolah ( A P S )</td>\n",
       "    </tr>\n",
       "    <tr>\n",
       "      <th>4</th>\n",
       "      <td>99993015351070</td>\n",
       "      <td>97.64</td>\n",
       "      <td>INDONESIA</td>\n",
       "      <td>7-12</td>\n",
       "      <td>2007</td>\n",
       "      <td>Angka Partisipasi Sekolah ( A P S )</td>\n",
       "    </tr>\n",
       "  </tbody>\n",
       "</table>\n",
       "</div>"
      ],
      "text/plain": [
       "               id  values       area breakdown  year  \\\n",
       "0  99993015351030   96.42  INDONESIA      7-12  2003   \n",
       "1  99993015351040   96.77  INDONESIA      7-12  2004   \n",
       "2  99993015351050   97.14  INDONESIA      7-12  2005   \n",
       "3  99993015351060   97.39  INDONESIA      7-12  2006   \n",
       "4  99993015351070   97.64  INDONESIA      7-12  2007   \n",
       "\n",
       "                            data_title  \n",
       "0  Angka Partisipasi Sekolah ( A P S )  \n",
       "1  Angka Partisipasi Sekolah ( A P S )  \n",
       "2  Angka Partisipasi Sekolah ( A P S )  \n",
       "3  Angka Partisipasi Sekolah ( A P S )  \n",
       "4  Angka Partisipasi Sekolah ( A P S )  "
      ]
     },
     "execution_count": 78,
     "metadata": {},
     "output_type": "execute_result"
    }
   ],
   "source": [
    "data_301 = extract_data_all(301)\n",
    "data_301.head()"
   ]
  },
  {
   "cell_type": "code",
   "execution_count": 79,
   "metadata": {},
   "outputs": [],
   "source": [
    "data_301.to_csv('edu_301.csv', index=False)"
   ]
  },
  {
   "cell_type": "markdown",
   "metadata": {},
   "source": [
    "## 303"
   ]
  },
  {
   "cell_type": "code",
   "execution_count": 81,
   "metadata": {},
   "outputs": [
    {
     "data": {
      "text/html": [
       "<div>\n",
       "<style scoped>\n",
       "    .dataframe tbody tr th:only-of-type {\n",
       "        vertical-align: middle;\n",
       "    }\n",
       "\n",
       "    .dataframe tbody tr th {\n",
       "        vertical-align: top;\n",
       "    }\n",
       "\n",
       "    .dataframe thead th {\n",
       "        text-align: right;\n",
       "    }\n",
       "</style>\n",
       "<table border=\"1\" class=\"dataframe\">\n",
       "  <thead>\n",
       "    <tr style=\"text-align: right;\">\n",
       "      <th></th>\n",
       "      <th>id</th>\n",
       "      <th>values</th>\n",
       "      <th>area</th>\n",
       "      <th>breakdown</th>\n",
       "      <th>year</th>\n",
       "      <th>data_title</th>\n",
       "    </tr>\n",
       "  </thead>\n",
       "  <tbody>\n",
       "    <tr>\n",
       "      <th>0</th>\n",
       "      <td>99993035391030</td>\n",
       "      <td>105.80</td>\n",
       "      <td>INDONESIA</td>\n",
       "      <td>SD/MI/Paket A</td>\n",
       "      <td>2003</td>\n",
       "      <td>Angka Partisipasi Kasar ( A P K )</td>\n",
       "    </tr>\n",
       "    <tr>\n",
       "      <th>1</th>\n",
       "      <td>99993035391040</td>\n",
       "      <td>107.13</td>\n",
       "      <td>INDONESIA</td>\n",
       "      <td>SD/MI/Paket A</td>\n",
       "      <td>2004</td>\n",
       "      <td>Angka Partisipasi Kasar ( A P K )</td>\n",
       "    </tr>\n",
       "    <tr>\n",
       "      <th>2</th>\n",
       "      <td>99993035391050</td>\n",
       "      <td>106.63</td>\n",
       "      <td>INDONESIA</td>\n",
       "      <td>SD/MI/Paket A</td>\n",
       "      <td>2005</td>\n",
       "      <td>Angka Partisipasi Kasar ( A P K )</td>\n",
       "    </tr>\n",
       "    <tr>\n",
       "      <th>3</th>\n",
       "      <td>99993035391060</td>\n",
       "      <td>109.96</td>\n",
       "      <td>INDONESIA</td>\n",
       "      <td>SD/MI/Paket A</td>\n",
       "      <td>2006</td>\n",
       "      <td>Angka Partisipasi Kasar ( A P K )</td>\n",
       "    </tr>\n",
       "    <tr>\n",
       "      <th>4</th>\n",
       "      <td>99993035391070</td>\n",
       "      <td>112.19</td>\n",
       "      <td>INDONESIA</td>\n",
       "      <td>SD/MI/Paket A</td>\n",
       "      <td>2007</td>\n",
       "      <td>Angka Partisipasi Kasar ( A P K )</td>\n",
       "    </tr>\n",
       "  </tbody>\n",
       "</table>\n",
       "</div>"
      ],
      "text/plain": [
       "               id  values       area      breakdown  year  \\\n",
       "0  99993035391030  105.80  INDONESIA  SD/MI/Paket A  2003   \n",
       "1  99993035391040  107.13  INDONESIA  SD/MI/Paket A  2004   \n",
       "2  99993035391050  106.63  INDONESIA  SD/MI/Paket A  2005   \n",
       "3  99993035391060  109.96  INDONESIA  SD/MI/Paket A  2006   \n",
       "4  99993035391070  112.19  INDONESIA  SD/MI/Paket A  2007   \n",
       "\n",
       "                          data_title  \n",
       "0  Angka Partisipasi Kasar ( A P K )  \n",
       "1  Angka Partisipasi Kasar ( A P K )  \n",
       "2  Angka Partisipasi Kasar ( A P K )  \n",
       "3  Angka Partisipasi Kasar ( A P K )  \n",
       "4  Angka Partisipasi Kasar ( A P K )  "
      ]
     },
     "execution_count": 81,
     "metadata": {},
     "output_type": "execute_result"
    }
   ],
   "source": [
    "data_303 = extract_data_all(303)\n",
    "data_303.head()"
   ]
  },
  {
   "cell_type": "code",
   "execution_count": 82,
   "metadata": {},
   "outputs": [],
   "source": [
    "data_303.to_csv('edu_303.csv', index=False)"
   ]
  },
  {
   "cell_type": "markdown",
   "metadata": {},
   "source": [
    "## 304"
   ]
  },
  {
   "cell_type": "code",
   "execution_count": 107,
   "metadata": {},
   "outputs": [
    {
     "data": {
      "text/html": [
       "<div>\n",
       "<style scoped>\n",
       "    .dataframe tbody tr th:only-of-type {\n",
       "        vertical-align: middle;\n",
       "    }\n",
       "\n",
       "    .dataframe tbody tr th {\n",
       "        vertical-align: top;\n",
       "    }\n",
       "\n",
       "    .dataframe thead th {\n",
       "        text-align: right;\n",
       "    }\n",
       "</style>\n",
       "<table border=\"1\" class=\"dataframe\">\n",
       "  <thead>\n",
       "    <tr style=\"text-align: right;\">\n",
       "      <th></th>\n",
       "      <th>id</th>\n",
       "      <th>values</th>\n",
       "      <th>area</th>\n",
       "      <th>breakdown</th>\n",
       "      <th>year</th>\n",
       "      <th>data_title</th>\n",
       "    </tr>\n",
       "  </thead>\n",
       "  <tbody>\n",
       "    <tr>\n",
       "      <th>0</th>\n",
       "      <td>99993045391030</td>\n",
       "      <td>92.55</td>\n",
       "      <td>INDONESIA</td>\n",
       "      <td>SD/MI/Paket A</td>\n",
       "      <td>2003</td>\n",
       "      <td>Angka Partisipasi Murni ( A P M )</td>\n",
       "    </tr>\n",
       "    <tr>\n",
       "      <th>1</th>\n",
       "      <td>99993045391040</td>\n",
       "      <td>93.04</td>\n",
       "      <td>INDONESIA</td>\n",
       "      <td>SD/MI/Paket A</td>\n",
       "      <td>2004</td>\n",
       "      <td>Angka Partisipasi Murni ( A P M )</td>\n",
       "    </tr>\n",
       "    <tr>\n",
       "      <th>2</th>\n",
       "      <td>99993045391050</td>\n",
       "      <td>93.25</td>\n",
       "      <td>INDONESIA</td>\n",
       "      <td>SD/MI/Paket A</td>\n",
       "      <td>2005</td>\n",
       "      <td>Angka Partisipasi Murni ( A P M )</td>\n",
       "    </tr>\n",
       "    <tr>\n",
       "      <th>3</th>\n",
       "      <td>99993045391060</td>\n",
       "      <td>93.54</td>\n",
       "      <td>INDONESIA</td>\n",
       "      <td>SD/MI/Paket A</td>\n",
       "      <td>2006</td>\n",
       "      <td>Angka Partisipasi Murni ( A P M )</td>\n",
       "    </tr>\n",
       "    <tr>\n",
       "      <th>4</th>\n",
       "      <td>99993045391070</td>\n",
       "      <td>93.78</td>\n",
       "      <td>INDONESIA</td>\n",
       "      <td>SD/MI/Paket A</td>\n",
       "      <td>2007</td>\n",
       "      <td>Angka Partisipasi Murni ( A P M )</td>\n",
       "    </tr>\n",
       "  </tbody>\n",
       "</table>\n",
       "</div>"
      ],
      "text/plain": [
       "               id  values       area      breakdown  year  \\\n",
       "0  99993045391030   92.55  INDONESIA  SD/MI/Paket A  2003   \n",
       "1  99993045391040   93.04  INDONESIA  SD/MI/Paket A  2004   \n",
       "2  99993045391050   93.25  INDONESIA  SD/MI/Paket A  2005   \n",
       "3  99993045391060   93.54  INDONESIA  SD/MI/Paket A  2006   \n",
       "4  99993045391070   93.78  INDONESIA  SD/MI/Paket A  2007   \n",
       "\n",
       "                          data_title  \n",
       "0  Angka Partisipasi Murni ( A P M )  \n",
       "1  Angka Partisipasi Murni ( A P M )  \n",
       "2  Angka Partisipasi Murni ( A P M )  \n",
       "3  Angka Partisipasi Murni ( A P M )  \n",
       "4  Angka Partisipasi Murni ( A P M )  "
      ]
     },
     "execution_count": 107,
     "metadata": {},
     "output_type": "execute_result"
    }
   ],
   "source": [
    "data_304 = extract_data_all(304)\n",
    "data_304.head()"
   ]
  },
  {
   "cell_type": "code",
   "execution_count": 108,
   "metadata": {},
   "outputs": [],
   "source": [
    "data_304.to_csv('edu_304.csv', index=False)"
   ]
  },
  {
   "cell_type": "markdown",
   "metadata": {},
   "source": [
    "## 1339"
   ]
  },
  {
   "cell_type": "code",
   "execution_count": 106,
   "metadata": {},
   "outputs": [],
   "source": [
    "# specific for 1339\n",
    "url = 'https://webapi.bps.go.id/v1/api/list/model/data/domain/0000/var/{0}/key/{1}/'.format(1339, api_key)\n",
    "data_temp = requests.get(url).json()\n",
    "\n",
    "vervar_df = pd.DataFrame(data_temp['vervar'])\n",
    "tahun_df = pd.DataFrame(data_temp['tahun'])\n",
    "content_df = pd.DataFrame(data={'id': data_temp['datacontent'].keys(), 'values': data_temp['datacontent'].values()})\n",
    "\n",
    "content_df_1 = content_df.merge(vervar_df, how='left', left_on = content_df['id'].str[0].astype('int64'), right_on = 'val')\n",
    "content_df_2 = content_df_1.merge(tahun_df, how='left', left_on = content_df_1['id'].str[-4:-1].astype('int64'), right_on = 'val') \n",
    "\n",
    "data_1339 = content_df_2[['id', 'values', 'label_x', 'label_y']]\n",
    "data_1339.columns = ['id', 'values', 'gender', 'year']\n",
    "\n",
    "data_1339['data_title'] =  data_temp['var'][0]['label']\n",
    "\n",
    "data_1339.to_csv('edu_1339.csv', index=False)"
   ]
  },
  {
   "cell_type": "markdown",
   "metadata": {},
   "source": [
    "# 1342"
   ]
  },
  {
   "cell_type": "code",
   "execution_count": 111,
   "metadata": {},
   "outputs": [],
   "source": [
    "# specific for 1342\n",
    "url = 'https://webapi.bps.go.id/v1/api/list/model/data/domain/0000/var/{0}/key/{1}/'.format(1342, api_key)\n",
    "data_temp = requests.get(url).json()\n",
    "\n",
    "vervar_df = pd.DataFrame(data_temp['vervar'])\n",
    "tahun_df = pd.DataFrame(data_temp['tahun'])\n",
    "content_df = pd.DataFrame(data={'id': data_temp['datacontent'].keys(), 'values': data_temp['datacontent'].values()})\n",
    "\n",
    "content_df_1 = content_df.merge(vervar_df, how='left', left_on = content_df['id'].str[0].astype('int64'), right_on = 'val')\n",
    "content_df_2 = content_df_1.merge(tahun_df, how='left', left_on = content_df_1['id'].str[-4:-1].astype('int64'), right_on = 'val') \n",
    "\n",
    "data_1342 = content_df_2[['id', 'values', 'label_x', 'label_y']]\n",
    "data_1342.columns = ['id', 'values', 'gender', 'year']\n",
    "\n",
    "data_1342['data_title'] =  data_temp['var'][0]['label']\n",
    "\n",
    "data_1342.to_csv('edu_1342.csv', index=False)"
   ]
  },
  {
   "cell_type": "markdown",
   "metadata": {},
   "source": [
    "# 1343"
   ]
  },
  {
   "cell_type": "code",
   "execution_count": 114,
   "metadata": {},
   "outputs": [],
   "source": [
    "# specific for 1343\n",
    "url = 'https://webapi.bps.go.id/v1/api/list/model/data/domain/0000/var/{0}/key/{1}/'.format(1343, api_key)\n",
    "data_temp = requests.get(url).json()\n",
    "\n",
    "vervar_df = pd.DataFrame(data_temp['vervar'])\n",
    "tahun_df = pd.DataFrame(data_temp['tahun'])\n",
    "content_df = pd.DataFrame(data={'id': data_temp['datacontent'].keys(), 'values': data_temp['datacontent'].values()})\n",
    "\n",
    "content_df_1 = content_df.merge(vervar_df, how='left', left_on = content_df['id'].str[0].astype('int64'), right_on = 'val')\n",
    "content_df_2 = content_df_1.merge(tahun_df, how='left', left_on = content_df_1['id'].str[-4:-1].astype('int64'), right_on = 'val') \n",
    "\n",
    "data_1343 = content_df_2[['id', 'values', 'label_x', 'label_y']]\n",
    "data_1343.columns = ['id', 'values', 'gender', 'year']\n",
    "\n",
    "data_1343['data_title'] =  data_temp['var'][0]['label']\n",
    "\n",
    "data_1343.to_csv('edu_1343.csv', index=False)"
   ]
  },
  {
   "cell_type": "markdown",
   "metadata": {},
   "source": [
    "# 1423"
   ]
  },
  {
   "cell_type": "code",
   "execution_count": 117,
   "metadata": {},
   "outputs": [],
   "source": [
    "# specific for 1423\n",
    "url = 'https://webapi.bps.go.id/v1/api/list/model/data/domain/0000/var/{0}/key/{1}/'.format(1423, api_key)\n",
    "data_temp = requests.get(url).json()\n",
    "\n",
    "vervar_df = pd.DataFrame(data_temp['vervar'])\n",
    "tahun_df = pd.DataFrame(data_temp['tahun'])\n",
    "content_df = pd.DataFrame(data={'id': data_temp['datacontent'].keys(), 'values': data_temp['datacontent'].values()})\n",
    "\n",
    "content_df_1 = content_df.merge(vervar_df, how='left', left_on = content_df['id'].str[0].astype('int64'), right_on = 'val')\n",
    "content_df_2 = content_df_1.merge(tahun_df, how='left', left_on = content_df_1['id'].str[-4:-1].astype('int64'), right_on = 'val') \n",
    "\n",
    "data_1423 = content_df_2[['id', 'values', 'label_x', 'label_y']]\n",
    "data_1423.columns = ['id', 'values', 'gender', 'year']\n",
    "\n",
    "data_1423['data_title'] =  data_temp['var'][0]['label']\n",
    "\n",
    "data_1423.to_csv('edu_1423.csv', index=False)"
   ]
  },
  {
   "cell_type": "markdown",
   "metadata": {},
   "source": [
    "# 1424"
   ]
  },
  {
   "cell_type": "code",
   "execution_count": 119,
   "metadata": {},
   "outputs": [],
   "source": [
    "# specific for 1424\n",
    "url = 'https://webapi.bps.go.id/v1/api/list/model/data/domain/0000/var/{0}/key/{1}/'.format(1424, api_key)\n",
    "data_temp = requests.get(url).json()\n",
    "\n",
    "vervar_df = pd.DataFrame(data_temp['vervar'])\n",
    "tahun_df = pd.DataFrame(data_temp['tahun'])\n",
    "content_df = pd.DataFrame(data={'id': data_temp['datacontent'].keys(), 'values': data_temp['datacontent'].values()})\n",
    "\n",
    "content_df_1 = content_df.merge(vervar_df, how='left', left_on = content_df['id'].str[0].astype('int64'), right_on = 'val')\n",
    "content_df_2 = content_df_1.merge(tahun_df, how='left', left_on = content_df_1['id'].str[-4:-1].astype('int64'), right_on = 'val') \n",
    "\n",
    "data_1424 = content_df_2[['id', 'values', 'label_x', 'label_y']]\n",
    "data_1424.columns = ['id', 'values', 'gender', 'year']\n",
    "\n",
    "data_1424['data_title'] =  data_temp['var'][0]['label']\n",
    "\n",
    "data_1424.to_csv('edu_1423.csv', index=False)"
   ]
  },
  {
   "cell_type": "code",
   "execution_count": 126,
   "metadata": {},
   "outputs": [],
   "source": [
    "def extract_data_ver_tahun(var_id):\n",
    "    url = 'https://webapi.bps.go.id/v1/api/list/model/data/domain/0000/var/{0}/key/{1}/'.format(var_id, api_key)\n",
    "    data_temp = requests.get(url).json()\n",
    "\n",
    "    vervar_df = pd.DataFrame(data_temp['vervar'])\n",
    "    tahun_df = pd.DataFrame(data_temp['tahun'])\n",
    "    content_df = pd.DataFrame(data={'id': data_temp['datacontent'].keys(), 'values': data_temp['datacontent'].values()})\n",
    "\n",
    "    content_df_1 = content_df.merge(vervar_df, how='left', left_on = content_df['id'].str[0].astype('int64'), right_on = 'val')\n",
    "    content_df_2 = content_df_1.merge(tahun_df, how='left', left_on = content_df_1['id'].str[-4:-1].astype('int64'), right_on = 'val') \n",
    "\n",
    "    temp_df = content_df_2[['id', 'values', 'label_x', 'label_y']]\n",
    "    temp_df.columns = ['id', 'values', 'gender', 'year']\n",
    "\n",
    "    temp_df['data_title'] =  data_temp['var'][0]['label']\n",
    "\n",
    "    return temp_df.to_csv('{}.csv'.format('edu_'+str(var_id)), index=False)"
   ]
  },
  {
   "cell_type": "markdown",
   "metadata": {},
   "source": [
    "# 1425 - 1608 (Angka partisipasi)"
   ]
  },
  {
   "cell_type": "code",
   "execution_count": 127,
   "metadata": {},
   "outputs": [],
   "source": [
    "extract_data_ver_tahun(1425)"
   ]
  },
  {
   "cell_type": "code",
   "execution_count": 156,
   "metadata": {},
   "outputs": [],
   "source": [
    "ap_list_2var = [1426, 1427,\n",
    "       1428, 1439, 1440, 1441, 1442, 1443, 1444, 1445, 1446]\n",
    "\n",
    "ap_list_3var_apm = [1455, 1456, 1607, 1608]\n",
    "ap_list_3var_apk = [1457, 1526, 1527]"
   ]
  },
  {
   "cell_type": "code",
   "execution_count": 155,
   "metadata": {},
   "outputs": [],
   "source": [
    "def extract_data_3var_apm(var_id):\n",
    "    url = 'https://webapi.bps.go.id/v1/api/list/model/data/domain/0000/var/{0}/key/{1}/'.format(var_id, api_key)\n",
    "    data_temp = requests.get(url).json()\n",
    "\n",
    "    vervar_df = pd.DataFrame(data_temp['vervar'])\n",
    "    turvar_df = pd.DataFrame(data_temp['turvar'])\n",
    "    tahun_df = pd.DataFrame(data_temp['tahun'])\n",
    "    content_df = pd.DataFrame(data={'id': data_temp['datacontent'].keys(), 'values': data_temp['datacontent'].values() })\n",
    "\n",
    "    content_df_1 = content_df.merge(vervar_df, how='left', left_on = content_df['id'].str[:4].astype('int64'), right_on = 'val')\n",
    "    content_df_2 = content_df_1.merge(turvar_df, how='left', left_on = content_df_1['id'].str[8:12].astype('int64'), right_on = 'val') \n",
    "    content_df_3 = content_df_2.merge(tahun_df, how='left', left_on = content_df_2['id'].str[12:15].astype('int64'), right_on = 'val') \n",
    "\n",
    "    temp_df = content_df_3[['id', 'values', 'label_x', 'label_y', 'label']]\n",
    "    temp_df.columns = ['id', 'values', 'area', 'breakdown', 'year']\n",
    "\n",
    "    temp_df['data_title'] =  data_temp['var'][0]['label']\n",
    "\n",
    "    return temp_df.to_csv('{}.csv'.format('edu_'+str(var_id)), index=False)\n",
    "\n",
    "\n",
    "def extract_data_3var_apk(var_id):\n",
    "    url = 'https://webapi.bps.go.id/v1/api/list/model/data/domain/0000/var/{0}/key/{1}/'.format(var_id, api_key)\n",
    "    data_temp = requests.get(url).json()\n",
    "\n",
    "    vervar_df = pd.DataFrame(data_temp['vervar'])\n",
    "    turvar_df = pd.DataFrame(data_temp['turvar'])\n",
    "    tahun_df = pd.DataFrame(data_temp['tahun'])\n",
    "    content_df = pd.DataFrame(data={'id': data_temp['datacontent'].keys(), 'values': data_temp['datacontent'].values() })\n",
    "\n",
    "    content_df_1 = content_df.merge(vervar_df, how='left', left_on = content_df['id'].str[0].astype('int64'), right_on = 'val')\n",
    "    content_df_2 = content_df_1.merge(turvar_df, how='left', left_on = content_df_1['id'].str[6:9].astype('int64'), right_on = 'val') \n",
    "\n",
    "    temp_df = content_df_2[['id', 'values', 'label_x', 'label_y']]\n",
    "    temp_df.columns = ['id', 'values', 'breakdown', 'year']\n",
    "\n",
    "    temp_df['data_title'] =  data_temp['var'][0]['label']\n",
    "\n",
    "    return temp_df.to_csv('{}.csv'.format('edu_'+str(var_id)), index=False)\n"
   ]
  },
  {
   "cell_type": "code",
   "execution_count": 157,
   "metadata": {},
   "outputs": [],
   "source": [
    "for i in ap_list_3var_apm:\n",
    "    extract_data_3var_apm(i)\n",
    "\n",
    "for i in ap_list_3var_apk:\n",
    "    extract_data_3var_apk(i)"
   ]
  },
  {
   "cell_type": "markdown",
   "metadata": {},
   "source": [
    "Angka partisipasi is done for now (might need to check the data format later)"
   ]
  },
  {
   "cell_type": "markdown",
   "metadata": {},
   "source": [
    "# 1794 - 1798\n",
    "2 variable, can use extract_data_3var_apk"
   ]
  },
  {
   "cell_type": "code",
   "execution_count": 160,
   "metadata": {},
   "outputs": [],
   "source": [
    "proporsi_list = [1794, 1796, 1797, 1798]\n",
    "\n",
    "for i in proporsi_list:\n",
    "    extract_data_3var_apk(i)"
   ]
  },
  {
   "cell_type": "code",
   "execution_count": 178,
   "metadata": {},
   "outputs": [],
   "source": [
    "rest_2list = [1799, 1992, 1994, 1996, 1998, 2000]\n",
    "rest_3list = [1980, 1981, 1982, 1983, 1984, 1986,\n",
    "       1988, 1990]\n",
    "\n",
    "for i in rest_2list:\n",
    "    extract_data_3var_apk(i)\n",
    "\n",
    "for i in rest_3list:\n",
    "    extract_data_3var_apm(i)"
   ]
  },
  {
   "cell_type": "markdown",
   "metadata": {},
   "source": [
    "Done! Though really need to check whether the data structure is correctly extracted or not"
   ]
  }
 ],
 "metadata": {
  "kernelspec": {
   "display_name": "Python 3.9.7",
   "language": "python",
   "name": "python3"
  },
  "language_info": {
   "codemirror_mode": {
    "name": "ipython",
    "version": 3
   },
   "file_extension": ".py",
   "mimetype": "text/x-python",
   "name": "python",
   "nbconvert_exporter": "python",
   "pygments_lexer": "ipython3",
   "version": "3.9.7"
  },
  "orig_nbformat": 4,
  "vscode": {
   "interpreter": {
    "hash": "35816621c5761e336dd9a248194022169f7368059d40153f4fc92bcc6e7b5e47"
   }
  }
 },
 "nbformat": 4,
 "nbformat_minor": 2
}
