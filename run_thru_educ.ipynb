{
 "cells": [
  {
   "cell_type": "code",
   "execution_count": 2,
   "metadata": {},
   "outputs": [],
   "source": [
    "import pandas as pd\n",
    "import numpy as np\n",
    "import requests\n",
    "import warnings\n",
    "\n",
    "warnings.filterwarnings('ignore')"
   ]
  },
  {
   "cell_type": "code",
   "execution_count": 3,
   "metadata": {},
   "outputs": [],
   "source": [
    "api_key = '4eda5e3af511b6d4892332948b84476c'"
   ]
  },
  {
   "cell_type": "code",
   "execution_count": 4,
   "metadata": {},
   "outputs": [],
   "source": [
    "url = 'https://webapi.bps.go.id/v1/api/list/model/data/domain/0000/var/{0}/key/{1}/'.format(205, api_key)\n",
    "data_205 = requests.get(url).json()"
   ]
  },
  {
   "cell_type": "code",
   "execution_count": 9,
   "metadata": {},
   "outputs": [],
   "source": [
    "vervar_df = pd.DataFrame(data_205['vervar'])\n",
    "turvar_df = pd.DataFrame(data_205['turvar'])\n",
    "tahun_df = pd.DataFrame(data_205['tahun'])\n",
    "content_df = pd.DataFrame(data={'id': data_205['datacontent'].keys(), 'values': data_205['datacontent'].values() })\n",
    "\n",
    "content_df_1 = content_df.merge(vervar_df, how='left', left_on = content_df['id'].str[:4].astype('int64'), right_on = 'val')\n",
    "content_df_2 = content_df_1.merge(turvar_df, how='left', left_on = content_df_1['id'].str[7:10].astype('int64'), right_on = 'val') \n",
    "content_df_3 = content_df_2.merge(tahun_df, how='left', left_on = content_df_2['id'].str[10:13].astype('int64'), right_on = 'val') \n",
    "\n",
    "data_205_df = content_df_3[['id', 'values', 'label_x', 'label_y', 'label']]\n",
    "data_205_df.columns = ['id', 'values', 'area', 'age_breakdown', 'year']\n",
    "\n",
    "data_205_df['data_title'] =  data_205['var'][0]['label']\n"
   ]
  },
  {
   "cell_type": "markdown",
   "metadata": {},
   "source": [
    "# Test Looping to create new variable"
   ]
  },
  {
   "cell_type": "code",
   "execution_count": 11,
   "metadata": {},
   "outputs": [],
   "source": [
    "edu_var_id = [301,  303,  304, 1339, 1342, 1343, 1417, 1419, 1421,\n",
    "       1423, 1424, 1425, 1426, 1427, 1428, 1429, 1430, 1431, 1432, 1439,\n",
    "       1440, 1441, 1442, 1443, 1444, 1445, 1446, 1447, 1448, 1449, 1450,\n",
    "       1451, 1452, 1453, 1454, 1455, 1456, 1457, 1458, 1459, 1460, 1461,\n",
    "       1462, 1463, 1464, 1465, 1466, 1467, 1468, 1469, 1526, 1527, 1607,\n",
    "       1608, 1794, 1796, 1797, 1798, 1799, 1980, 1981, 1982, 1983, 1984,\n",
    "       1986, 1988, 1990, 1992, 1994, 1996, 1998, 2000]"
   ]
  },
  {
   "cell_type": "code",
   "execution_count": 19,
   "metadata": {},
   "outputs": [],
   "source": [
    "new_id_list = []\n",
    "df_name_list = []\n",
    "for i in edu_var_id:\n",
    "    new_id_list.append('data_' + str(i))\n",
    "\n",
    "for j in new_id_list:\n",
    "    df_name_list.append(str(j)+'_df')"
   ]
  },
  {
   "cell_type": "markdown",
   "metadata": {},
   "source": [
    "need to create looping over the variable list, then create new df on each"
   ]
  },
  {
   "cell_type": "code",
   "execution_count": 24,
   "metadata": {},
   "outputs": [],
   "source": [
    "def extract_data_all(var_id):\n",
    "    url = 'https://webapi.bps.go.id/v1/api/list/model/data/domain/0000/var/{0}/key/{1}/'.format(var_id, api_key)\n",
    "    data_temp = requests.get(url).json()\n",
    "\n",
    "    vervar_df = pd.DataFrame(data_temp['vervar'])\n",
    "    turvar_df = pd.DataFrame(data_temp['turvar'])\n",
    "    tahun_df = pd.DataFrame(data_temp['tahun'])\n",
    "    content_df = pd.DataFrame(data={'id': data_temp['datacontent'].keys(), 'values': data_temp['datacontent'].values() })\n",
    "\n",
    "    content_df_1 = content_df.merge(vervar_df, how='left', left_on = content_df['id'].str[:4].astype('int64'), right_on = 'val')\n",
    "    content_df_2 = content_df_1.merge(turvar_df, how='left', left_on = content_df_1['id'].str[7:10].astype('int64'), right_on = 'val') \n",
    "    content_df_3 = content_df_2.merge(tahun_df, how='left', left_on = content_df_2['id'].str[10:13].astype('int64'), right_on = 'val') \n",
    "\n",
    "    temp_df = content_df_3[['id', 'values', 'label_x', 'label_y', 'label']]\n",
    "    temp_df.columns = ['id', 'values', 'area', 'age_breakdown', 'year']\n",
    "\n",
    "    temp_df['data_title'] =  data_temp['var'][0]['label']\n",
    "\n",
    "    return temp_df\n"
   ]
  },
  {
   "cell_type": "code",
   "execution_count": 25,
   "metadata": {},
   "outputs": [
    {
     "ename": "NameError",
     "evalue": "name 'data_301' is not defined",
     "output_type": "error",
     "traceback": [
      "\u001b[0;31m---------------------------------------------------------------------------\u001b[0m",
      "\u001b[0;31mNameError\u001b[0m                                 Traceback (most recent call last)",
      "\u001b[1;32m/Users/mnmuhaimin/Documents/self/bps_api/run_thru_educ.ipynb Cell 10\u001b[0m in \u001b[0;36m<cell line: 1>\u001b[0;34m()\u001b[0m\n\u001b[0;32m----> <a href='vscode-notebook-cell:/Users/mnmuhaimin/Documents/self/bps_api/run_thru_educ.ipynb#X14sZmlsZQ%3D%3D?line=0'>1</a>\u001b[0m extract_data_all(\u001b[39m301\u001b[39m, data_301)\n",
      "\u001b[0;31mNameError\u001b[0m: name 'data_301' is not defined"
     ]
    }
   ],
   "source": [
    "abcd = extract_data_all(301)"
   ]
  },
  {
   "cell_type": "code",
   "execution_count": 23,
   "metadata": {},
   "outputs": [
    {
     "data": {
      "text/html": [
       "<div>\n",
       "<style scoped>\n",
       "    .dataframe tbody tr th:only-of-type {\n",
       "        vertical-align: middle;\n",
       "    }\n",
       "\n",
       "    .dataframe tbody tr th {\n",
       "        vertical-align: top;\n",
       "    }\n",
       "\n",
       "    .dataframe thead th {\n",
       "        text-align: right;\n",
       "    }\n",
       "</style>\n",
       "<table border=\"1\" class=\"dataframe\">\n",
       "  <thead>\n",
       "    <tr style=\"text-align: right;\">\n",
       "      <th></th>\n",
       "      <th>id</th>\n",
       "      <th>values</th>\n",
       "      <th>area</th>\n",
       "      <th>age_breakdown</th>\n",
       "      <th>year</th>\n",
       "      <th>data_title</th>\n",
       "    </tr>\n",
       "  </thead>\n",
       "  <tbody>\n",
       "    <tr>\n",
       "      <th>0</th>\n",
       "      <td>99993015351030</td>\n",
       "      <td>96.42</td>\n",
       "      <td>INDONESIA</td>\n",
       "      <td>7-12</td>\n",
       "      <td>2003</td>\n",
       "      <td>Angka Partisipasi Sekolah ( A P S )</td>\n",
       "    </tr>\n",
       "    <tr>\n",
       "      <th>1</th>\n",
       "      <td>99993015351040</td>\n",
       "      <td>96.77</td>\n",
       "      <td>INDONESIA</td>\n",
       "      <td>7-12</td>\n",
       "      <td>2004</td>\n",
       "      <td>Angka Partisipasi Sekolah ( A P S )</td>\n",
       "    </tr>\n",
       "    <tr>\n",
       "      <th>2</th>\n",
       "      <td>99993015351050</td>\n",
       "      <td>97.14</td>\n",
       "      <td>INDONESIA</td>\n",
       "      <td>7-12</td>\n",
       "      <td>2005</td>\n",
       "      <td>Angka Partisipasi Sekolah ( A P S )</td>\n",
       "    </tr>\n",
       "    <tr>\n",
       "      <th>3</th>\n",
       "      <td>99993015351060</td>\n",
       "      <td>97.39</td>\n",
       "      <td>INDONESIA</td>\n",
       "      <td>7-12</td>\n",
       "      <td>2006</td>\n",
       "      <td>Angka Partisipasi Sekolah ( A P S )</td>\n",
       "    </tr>\n",
       "    <tr>\n",
       "      <th>4</th>\n",
       "      <td>99993015351070</td>\n",
       "      <td>97.64</td>\n",
       "      <td>INDONESIA</td>\n",
       "      <td>7-12</td>\n",
       "      <td>2007</td>\n",
       "      <td>Angka Partisipasi Sekolah ( A P S )</td>\n",
       "    </tr>\n",
       "  </tbody>\n",
       "</table>\n",
       "</div>"
      ],
      "text/plain": [
       "               id  values       area age_breakdown  year  \\\n",
       "0  99993015351030   96.42  INDONESIA          7-12  2003   \n",
       "1  99993015351040   96.77  INDONESIA          7-12  2004   \n",
       "2  99993015351050   97.14  INDONESIA          7-12  2005   \n",
       "3  99993015351060   97.39  INDONESIA          7-12  2006   \n",
       "4  99993015351070   97.64  INDONESIA          7-12  2007   \n",
       "\n",
       "                            data_title  \n",
       "0  Angka Partisipasi Sekolah ( A P S )  \n",
       "1  Angka Partisipasi Sekolah ( A P S )  \n",
       "2  Angka Partisipasi Sekolah ( A P S )  \n",
       "3  Angka Partisipasi Sekolah ( A P S )  \n",
       "4  Angka Partisipasi Sekolah ( A P S )  "
      ]
     },
     "execution_count": 23,
     "metadata": {},
     "output_type": "execute_result"
    }
   ],
   "source": [
    "abcd.head()"
   ]
  }
 ],
 "metadata": {
  "kernelspec": {
   "display_name": "Python 3.9.7",
   "language": "python",
   "name": "python3"
  },
  "language_info": {
   "codemirror_mode": {
    "name": "ipython",
    "version": 3
   },
   "file_extension": ".py",
   "mimetype": "text/x-python",
   "name": "python",
   "nbconvert_exporter": "python",
   "pygments_lexer": "ipython3",
   "version": "3.9.7"
  },
  "orig_nbformat": 4,
  "vscode": {
   "interpreter": {
    "hash": "35816621c5761e336dd9a248194022169f7368059d40153f4fc92bcc6e7b5e47"
   }
  }
 },
 "nbformat": 4,
 "nbformat_minor": 2
}
